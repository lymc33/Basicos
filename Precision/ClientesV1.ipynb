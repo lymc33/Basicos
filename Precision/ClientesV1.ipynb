{
  "nbformat": 4,
  "nbformat_minor": 0,
  "metadata": {
    "colab": {
      "name": "ClientesV1.ipynb",
      "provenance": [],
      "collapsed_sections": [],
      "authorship_tag": "ABX9TyNUWkjDTfWkOMpQMhmFf+uK",
      "include_colab_link": true
    },
    "kernelspec": {
      "name": "python3",
      "display_name": "Python 3"
    },
    "language_info": {
      "name": "python"
    }
  },
  "cells": [
    {
      "cell_type": "markdown",
      "metadata": {
        "id": "view-in-github",
        "colab_type": "text"
      },
      "source": [
        "<a href=\"https://colab.research.google.com/github/lymc33/Precision/blob/main/ClientesV1.ipynb\" target=\"_parent\"><img src=\"https://colab.research.google.com/assets/colab-badge.svg\" alt=\"Open In Colab\"/></a>"
      ]
    },
    {
      "cell_type": "code",
      "metadata": {
        "colab": {
          "base_uri": "https://localhost:8080/"
        },
        "id": "gJ7h3ykoYeMc",
        "outputId": "33135ac1-ddaf-4e80-8dc1-2690438fb4fb"
      },
      "source": [
        "from google.colab import drive\n",
        "drive.mount('/content/drive')"
      ],
      "execution_count": null,
      "outputs": [
        {
          "output_type": "stream",
          "text": [
            "Drive already mounted at /content/drive; to attempt to forcibly remount, call drive.mount(\"/content/drive\", force_remount=True).\n"
          ],
          "name": "stdout"
        }
      ]
    },
    {
      "cell_type": "code",
      "metadata": {
        "id": "OWt9BL70ZMeE"
      },
      "source": [
        "import pandas as pd\n",
        "import matplotlib.pyplot as plt\n",
        "import seaborn as sns"
      ],
      "execution_count": null,
      "outputs": []
    },
    {
      "cell_type": "code",
      "metadata": {
        "id": "PgEX1UrCZ4Ac"
      },
      "source": [
        "df = pd.read_csv('/content/drive/MyDrive/Precision Detect/Resultados/TOTAL dic-abril 2021.csv', header=None)"
      ],
      "execution_count": null,
      "outputs": []
    },
    {
      "cell_type": "code",
      "metadata": {
        "colab": {
          "base_uri": "https://localhost:8080/",
          "height": 356
        },
        "id": "9MBdC7NyZ9hK",
        "outputId": "8fc27ff4-8f22-453f-90a4-dc04dce99e05"
      },
      "source": [
        "df.head()"
      ],
      "execution_count": null,
      "outputs": [
        {
          "output_type": "execute_result",
          "data": {
            "text/html": [
              "<div>\n",
              "<style scoped>\n",
              "    .dataframe tbody tr th:only-of-type {\n",
              "        vertical-align: middle;\n",
              "    }\n",
              "\n",
              "    .dataframe tbody tr th {\n",
              "        vertical-align: top;\n",
              "    }\n",
              "\n",
              "    .dataframe thead th {\n",
              "        text-align: right;\n",
              "    }\n",
              "</style>\n",
              "<table border=\"1\" class=\"dataframe\">\n",
              "  <thead>\n",
              "    <tr style=\"text-align: right;\">\n",
              "      <th></th>\n",
              "      <th>0</th>\n",
              "      <th>1</th>\n",
              "      <th>2</th>\n",
              "      <th>3</th>\n",
              "      <th>4</th>\n",
              "      <th>5</th>\n",
              "      <th>6</th>\n",
              "      <th>7</th>\n",
              "      <th>8</th>\n",
              "      <th>9</th>\n",
              "      <th>10</th>\n",
              "      <th>11</th>\n",
              "      <th>12</th>\n",
              "      <th>13</th>\n",
              "      <th>14</th>\n",
              "      <th>15</th>\n",
              "      <th>16</th>\n",
              "      <th>17</th>\n",
              "      <th>18</th>\n",
              "      <th>19</th>\n",
              "      <th>20</th>\n",
              "      <th>21</th>\n",
              "      <th>22</th>\n",
              "      <th>23</th>\n",
              "      <th>24</th>\n",
              "      <th>25</th>\n",
              "      <th>26</th>\n",
              "    </tr>\n",
              "  </thead>\n",
              "  <tbody>\n",
              "    <tr>\n",
              "      <th>0</th>\n",
              "      <td>FOLIO</td>\n",
              "      <td>CLIENTE</td>\n",
              "      <td>USUARIO</td>\n",
              "      <td>FECHA DE TOMA DE MUESTRA</td>\n",
              "      <td>MUNICIPIO</td>\n",
              "      <td>ESTADO</td>\n",
              "      <td>NOMBRE</td>\n",
              "      <td>APELLIDO</td>\n",
              "      <td>SEXO</td>\n",
              "      <td>EDAD</td>\n",
              "      <td>SINTOMAS</td>\n",
              "      <td>HOSPITALARIA O AMBULATORIA</td>\n",
              "      <td>CURP</td>\n",
              "      <td>TELEFONO</td>\n",
              "      <td>CORREO</td>\n",
              "      <td>CALLE</td>\n",
              "      <td>NUMERO</td>\n",
              "      <td>INTERIOR</td>\n",
              "      <td>COLONIA</td>\n",
              "      <td>MUNICIPIO</td>\n",
              "      <td>CP</td>\n",
              "      <td>ESTADO</td>\n",
              "      <td>DATOS DE MUESTRA</td>\n",
              "      <td>ID MUESTRA</td>\n",
              "      <td>FECHA EXTRACCION</td>\n",
              "      <td>FECHA DETECCION</td>\n",
              "      <td>RESULTADO</td>\n",
              "    </tr>\n",
              "    <tr>\n",
              "      <th>1</th>\n",
              "      <td>1</td>\n",
              "      <td>PrecisionDetect</td>\n",
              "      <td>Particular</td>\n",
              "      <td>12.19.2020</td>\n",
              "      <td>Irapuato</td>\n",
              "      <td>Guanajuato</td>\n",
              "      <td>Carlos Alberto</td>\n",
              "      <td>Gallegos Hernández</td>\n",
              "      <td>M</td>\n",
              "      <td>44</td>\n",
              "      <td>0</td>\n",
              "      <td>A</td>\n",
              "      <td>GAHC760518HGTLRR08</td>\n",
              "      <td>4641056378</td>\n",
              "      <td>gadezca@hotmail.com</td>\n",
              "      <td>Laguna de los Andes</td>\n",
              "      <td>170</td>\n",
              "      <td>NaN</td>\n",
              "      <td>El Perul</td>\n",
              "      <td>Salamanca</td>\n",
              "      <td>36764</td>\n",
              "      <td>GUANAJUATO</td>\n",
              "      <td>NaN</td>\n",
              "      <td>PD.PD.02.0704</td>\n",
              "      <td>21/12/2020</td>\n",
              "      <td>22/12/2020</td>\n",
              "      <td>Negativo</td>\n",
              "    </tr>\n",
              "    <tr>\n",
              "      <th>2</th>\n",
              "      <td>3</td>\n",
              "      <td>PrecisionDetect</td>\n",
              "      <td>Particular</td>\n",
              "      <td>12.19.2020</td>\n",
              "      <td>Irapuato</td>\n",
              "      <td>Guanajuato</td>\n",
              "      <td>Maria Elena</td>\n",
              "      <td>Prieto Prieto</td>\n",
              "      <td>F</td>\n",
              "      <td>43</td>\n",
              "      <td>1</td>\n",
              "      <td>A</td>\n",
              "      <td>PIPE770325MDFRRL01</td>\n",
              "      <td>4641057580</td>\n",
              "      <td>Mary2prieto@yahoo.com</td>\n",
              "      <td>Juan Escutia</td>\n",
              "      <td>700</td>\n",
              "      <td>NaN</td>\n",
              "      <td>El Durazno</td>\n",
              "      <td>Salamanca</td>\n",
              "      <td>36747</td>\n",
              "      <td>GUANAJUATO</td>\n",
              "      <td>NaN</td>\n",
              "      <td>PD.PD.02.0705</td>\n",
              "      <td>21/12/2020</td>\n",
              "      <td>22/12/2020</td>\n",
              "      <td>Positivo</td>\n",
              "    </tr>\n",
              "    <tr>\n",
              "      <th>3</th>\n",
              "      <td>4</td>\n",
              "      <td>PrecisionDetect</td>\n",
              "      <td>Particular</td>\n",
              "      <td>12.19.2020</td>\n",
              "      <td>Irapuato</td>\n",
              "      <td>Guanajuato</td>\n",
              "      <td>Víctor</td>\n",
              "      <td>Merino Murillo</td>\n",
              "      <td>M</td>\n",
              "      <td>40</td>\n",
              "      <td>0</td>\n",
              "      <td>A</td>\n",
              "      <td>NaN</td>\n",
              "      <td>4621380731</td>\n",
              "      <td>rosy_merino@hotmail.com</td>\n",
              "      <td>José Amor Rodríguez</td>\n",
              "      <td>1324</td>\n",
              "      <td>NaN</td>\n",
              "      <td>Fraccionamiento La Paz</td>\n",
              "      <td>Irapuato</td>\n",
              "      <td>36560</td>\n",
              "      <td>GUANAJUATO</td>\n",
              "      <td>NaN</td>\n",
              "      <td>PD.PD.02.0706</td>\n",
              "      <td>21/12/2020</td>\n",
              "      <td>22/12/2020</td>\n",
              "      <td>Negativo</td>\n",
              "    </tr>\n",
              "    <tr>\n",
              "      <th>4</th>\n",
              "      <td>5</td>\n",
              "      <td>PrecisionDetect</td>\n",
              "      <td>Particular</td>\n",
              "      <td>12.19.2020</td>\n",
              "      <td>Irapuato</td>\n",
              "      <td>Guanajuato</td>\n",
              "      <td>Irma yaneth</td>\n",
              "      <td>Hernandez cuevas</td>\n",
              "      <td>F</td>\n",
              "      <td>38</td>\n",
              "      <td>0</td>\n",
              "      <td>A</td>\n",
              "      <td>HECI820621MGTRVR01</td>\n",
              "      <td>4111010983</td>\n",
              "      <td>ya21nis@hotmail.com</td>\n",
              "      <td>Vicente Suárez</td>\n",
              "      <td>136</td>\n",
              "      <td>NaN</td>\n",
              "      <td>Los Álamos</td>\n",
              "      <td>Cortazar</td>\n",
              "      <td>38300</td>\n",
              "      <td>GUANAJUATO</td>\n",
              "      <td>NaN</td>\n",
              "      <td>PD.PD.02.0707</td>\n",
              "      <td>21/12/2020</td>\n",
              "      <td>22/12/2020</td>\n",
              "      <td>Negativo</td>\n",
              "    </tr>\n",
              "  </tbody>\n",
              "</table>\n",
              "</div>"
            ],
            "text/plain": [
              "      0                1   ...               25         26\n",
              "0  FOLIO          CLIENTE  ...  FECHA DETECCION  RESULTADO\n",
              "1      1  PrecisionDetect  ...       22/12/2020   Negativo\n",
              "2      3  PrecisionDetect  ...       22/12/2020   Positivo\n",
              "3      4  PrecisionDetect  ...       22/12/2020   Negativo\n",
              "4      5  PrecisionDetect  ...       22/12/2020   Negativo\n",
              "\n",
              "[5 rows x 27 columns]"
            ]
          },
          "metadata": {
            "tags": []
          },
          "execution_count": 4
        }
      ]
    },
    {
      "cell_type": "code",
      "metadata": {
        "colab": {
          "base_uri": "https://localhost:8080/"
        },
        "id": "bBX_XWDEaBIi",
        "outputId": "2d25826b-6085-4558-acdf-8d49fa387cfe"
      },
      "source": [
        "df.shape"
      ],
      "execution_count": null,
      "outputs": [
        {
          "output_type": "execute_result",
          "data": {
            "text/plain": [
              "(3121, 27)"
            ]
          },
          "metadata": {
            "tags": []
          },
          "execution_count": 5
        }
      ]
    },
    {
      "cell_type": "code",
      "metadata": {
        "colab": {
          "base_uri": "https://localhost:8080/"
        },
        "id": "49XjI8FyewuB",
        "outputId": "70225471-df28-41ca-d972-131c6f90d8bf"
      },
      "source": [
        "#Título de las columnas\n",
        "list_of_column_names = list(df.columns)\n",
        "print('List of column names : ', \n",
        "      list_of_column_names)"
      ],
      "execution_count": null,
      "outputs": [
        {
          "output_type": "stream",
          "text": [
            "List of column names :  [0, 1, 2, 3, 4, 5, 6, 7, 8, 9, 10, 11, 12, 13, 14, 15, 16, 17, 18, 19, 20, 21, 22, 23, 24, 25, 26]\n"
          ],
          "name": "stdout"
        }
      ]
    },
    {
      "cell_type": "code",
      "metadata": {
        "colab": {
          "base_uri": "https://localhost:8080/"
        },
        "id": "2pLsP5_TmWYx",
        "outputId": "9c8f0844-2fb5-4cda-9c2a-4714c48a2cf4"
      },
      "source": [
        "print(df[11])"
      ],
      "execution_count": null,
      "outputs": [
        {
          "output_type": "stream",
          "text": [
            "0       HOSPITALARIA O AMBULATORIA\n",
            "1                                A\n",
            "2                                A\n",
            "3                                A\n",
            "4                                A\n",
            "                   ...            \n",
            "3116                             A\n",
            "3117                             A\n",
            "3118                             A\n",
            "3119                             A\n",
            "3120                             A\n",
            "Name: 11, Length: 3121, dtype: object\n"
          ],
          "name": "stdout"
        }
      ]
    },
    {
      "cell_type": "code",
      "metadata": {
        "id": "AHaOUfwScyvx"
      },
      "source": [
        "df.drop([0, 1, 3, 4, 5, 11, 12, 13, 14, 15, 16, 17, 18, 19, 20, 21, 22, 25], axis=1, inplace=True)"
      ],
      "execution_count": null,
      "outputs": []
    },
    {
      "cell_type": "code",
      "metadata": {
        "colab": {
          "base_uri": "https://localhost:8080/"
        },
        "id": "TpLKpVv49cRq",
        "outputId": "11c32a10-5d1f-4531-e414-eb3700c0868a"
      },
      "source": [
        "df.index.values"
      ],
      "execution_count": null,
      "outputs": [
        {
          "output_type": "execute_result",
          "data": {
            "text/plain": [
              "array([   0,    1,    2, ..., 3118, 3119, 3120])"
            ]
          },
          "metadata": {
            "tags": []
          },
          "execution_count": 9
        }
      ]
    },
    {
      "cell_type": "code",
      "metadata": {
        "id": "lYMG8xUmgAX0"
      },
      "source": [
        "#Cambiar el nombre de las columnas en el CSV\n",
        "new_header = df.iloc[0] #grab the first row for the header\n",
        "df = df[1:] #take the data less the header row\n",
        "df.columns = new_header #set the header row as the df header"
      ],
      "execution_count": null,
      "outputs": []
    },
    {
      "cell_type": "code",
      "metadata": {
        "id": "--tUiIBmhTuj",
        "colab": {
          "base_uri": "https://localhost:8080/"
        },
        "outputId": "2e5a3795-72fb-44ea-cd71-87bf4afe7327"
      },
      "source": [
        "#Título de las columnas\n",
        "list_of_column_names = list(df.columns)\n",
        "  \n",
        "# displaying the list of column names\n",
        "print('List of column names : ', \n",
        "      list_of_column_names)"
      ],
      "execution_count": null,
      "outputs": [
        {
          "output_type": "stream",
          "text": [
            "List of column names :  ['USUARIO', 'NOMBRE', 'APELLIDO', 'SEXO', 'EDAD', 'SINTOMAS', 'ID MUESTRA', 'FECHA EXTRACCION', 'RESULTADO']\n"
          ],
          "name": "stdout"
        }
      ]
    },
    {
      "cell_type": "code",
      "metadata": {
        "colab": {
          "base_uri": "https://localhost:8080/"
        },
        "id": "E-SIkM90uY0H",
        "outputId": "e97e0cfe-836a-480f-a1b8-c8ba104e0d21"
      },
      "source": [
        "df.index.values"
      ],
      "execution_count": null,
      "outputs": [
        {
          "output_type": "execute_result",
          "data": {
            "text/plain": [
              "array([   1,    2,    3, ..., 3118, 3119, 3120])"
            ]
          },
          "metadata": {
            "tags": []
          },
          "execution_count": 12
        }
      ]
    },
    {
      "cell_type": "code",
      "metadata": {
        "id": "cDN2BQi1c3Ih",
        "colab": {
          "base_uri": "https://localhost:8080/"
        },
        "outputId": "86cb55b8-fc39-4b44-8b76-5977fdf81996"
      },
      "source": [
        "df['ID MUESTRA']"
      ],
      "execution_count": null,
      "outputs": [
        {
          "output_type": "execute_result",
          "data": {
            "text/plain": [
              "1        PD.PD.02.0704\n",
              "2        PD.PD.02.0705\n",
              "3        PD.PD.02.0706\n",
              "4        PD.PD.02.0707\n",
              "5        PD.PD.02.0708\n",
              "             ...      \n",
              "3116    PD.SEG.02.0003\n",
              "3117    PD.SEG.02.0005\n",
              "3118    PD.SEG.02.0006\n",
              "3119    PD.SEG.02.0007\n",
              "3120    PD.SEG.02.0008\n",
              "Name: ID MUESTRA, Length: 3120, dtype: object"
            ]
          },
          "metadata": {
            "tags": []
          },
          "execution_count": 13
        }
      ]
    },
    {
      "cell_type": "code",
      "metadata": {
        "colab": {
          "base_uri": "https://localhost:8080/"
        },
        "id": "0bUdb5e9vUl-",
        "outputId": "eee38fe1-5397-417d-a00d-07f1277f0138"
      },
      "source": [
        "#Archivos duplicados según ID Muestra\n",
        "df['ID MUESTRA'].duplicated().sum()"
      ],
      "execution_count": null,
      "outputs": [
        {
          "output_type": "execute_result",
          "data": {
            "text/plain": [
              "35"
            ]
          },
          "metadata": {
            "tags": []
          },
          "execution_count": 14
        }
      ]
    },
    {
      "cell_type": "code",
      "metadata": {
        "colab": {
          "base_uri": "https://localhost:8080/"
        },
        "id": "ra6EBiTp4PKC",
        "outputId": "11949b99-07a8-450e-fca3-868867726ef8"
      },
      "source": [
        "duplicates = df[df['ID MUESTRA'].duplicated(keep=False)]['ID MUESTRA'].tolist()\n",
        "duplicates"
      ],
      "execution_count": null,
      "outputs": [
        {
          "output_type": "execute_result",
          "data": {
            "text/plain": [
              "['PD.F&P.02.21',\n",
              " 'PD.F&P.02.21',\n",
              " 'PD.CFM.02.0012',\n",
              " 'PD.CFM.02.0013',\n",
              " 'PD.CFM.02.0014',\n",
              " 'PD.CFM.02.0015',\n",
              " 'PD.CFM.02.0016',\n",
              " 'PD.CO.02.0015',\n",
              " 'PD.CO.02.0016',\n",
              " 'PD.CO.02.0017',\n",
              " 'PD.KR.02.0001',\n",
              " 'PD.KR.02.0002',\n",
              " 'PD.KR.02.0003',\n",
              " 'PD.KR.02.0004',\n",
              " 'PD.KR.02.0005',\n",
              " 'PD.KR.02.0006',\n",
              " 'PD.KR.02.0001',\n",
              " 'PD.KR.02.0002',\n",
              " 'PD.KR.02.0003',\n",
              " 'PD.KR.02.0004',\n",
              " 'PD.KR.02.0005',\n",
              " 'PD.KR.02.0006',\n",
              " 'PD.WR.02.0014',\n",
              " 'PD.WR.02.0015',\n",
              " 'PD.WR.02.0016',\n",
              " 'PD.WR.02.0017',\n",
              " 'PD.WR.02.0018',\n",
              " 'PD.WR.02.0019',\n",
              " 'PD.WR.02.0020',\n",
              " 'PD.WR.02.0021',\n",
              " 'PD.WR.02.0022',\n",
              " 'PD.WR.02.0023',\n",
              " 'PD.WR.02.0024',\n",
              " 'PD.WR.02.0025',\n",
              " 'PD.WR.02.0026',\n",
              " 'PD.WR.02.0027',\n",
              " 'PD.CFM.02.0012',\n",
              " 'PD.CFM.02.0013',\n",
              " 'PD.CFM.02.0014',\n",
              " 'PD.CFM.02.0015',\n",
              " 'PD.CFM.02.0016',\n",
              " 'PD.WÜ.02.0001',\n",
              " 'PD.WÜ.02.0002',\n",
              " 'PD.WÜ.02.0003',\n",
              " 'PD.WÜ.02.0004',\n",
              " 'PD.WÜ.02.0005',\n",
              " 'PD.CO.02.0015',\n",
              " 'PD.CO.02.0016',\n",
              " 'PD.CO.02.0017',\n",
              " 'PD.WR.02.0014',\n",
              " 'PD.WR.02.0015',\n",
              " 'PD.WR.02.0016',\n",
              " 'PD.WR.02.0017',\n",
              " 'PD.WR.02.0018',\n",
              " 'PD.WR.02.0019',\n",
              " 'PD.WR.02.0020',\n",
              " 'PD.WR.02.0021',\n",
              " 'PD.WR.02.0022',\n",
              " 'PD.WR.02.0023',\n",
              " 'PD.WR.02.0024',\n",
              " 'PD.WR.02.0025',\n",
              " 'PD.WR.02.0026',\n",
              " 'PD.WR.02.0027',\n",
              " 'PD.WÜ.02.0001',\n",
              " 'PD.WÜ.02.0002',\n",
              " 'PD.WÜ.02.0003',\n",
              " 'PD.WÜ.02.0004',\n",
              " 'PD.WÜ.02.0005',\n",
              " 'PD.PD.02.2002',\n",
              " 'PD.PD.02.2002']"
            ]
          },
          "metadata": {
            "tags": []
          },
          "execution_count": 15
        }
      ]
    },
    {
      "cell_type": "code",
      "metadata": {
        "colab": {
          "base_uri": "https://localhost:8080/"
        },
        "id": "Mh_szvKrwrbA",
        "outputId": "4537055f-c721-4f41-83bd-fd4311eebf3b"
      },
      "source": [
        "#Lista de elementos duplicados de acuerdo al ID\n",
        "duplicates = df[df['ID MUESTRA'].duplicated(keep=False)]['ID MUESTRA'].index\n",
        "duplicates"
      ],
      "execution_count": null,
      "outputs": [
        {
          "output_type": "execute_result",
          "data": {
            "text/plain": [
              "Int64Index([ 180,  297,  893,  894,  895,  896,  897,  898,  899,  900,  901,\n",
              "             902,  903,  904,  905,  906,  983,  984,  985,  986,  987,  988,\n",
              "             996,  997,  998,  999, 1000, 1001, 1002, 1003, 1004, 1017, 1018,\n",
              "            1019, 1020, 1021, 1031, 1032, 1033, 1034, 1035, 1095, 1096, 1097,\n",
              "            1098, 1099, 1100, 1101, 1102, 2022, 2023, 2024, 2025, 2026, 2027,\n",
              "            2028, 2029, 2030, 2031, 2032, 2033, 2034, 2035, 2036, 2037, 2038,\n",
              "            2039, 2040, 2695, 2697],\n",
              "           dtype='int64')"
            ]
          },
          "metadata": {
            "tags": []
          },
          "execution_count": 16
        }
      ]
    },
    {
      "cell_type": "code",
      "metadata": {
        "id": "YuZW2V4-2GhH"
      },
      "source": [
        "df.drop(labels=duplicates, axis=0, index=None, columns=None, level=None, inplace=True, errors='raise')"
      ],
      "execution_count": null,
      "outputs": []
    },
    {
      "cell_type": "code",
      "metadata": {
        "colab": {
          "base_uri": "https://localhost:8080/"
        },
        "id": "tKSqCe8Cz5x9",
        "outputId": "066baca4-8205-42f5-da07-0ed307443019"
      },
      "source": [
        "df.isnull().sum()"
      ],
      "execution_count": null,
      "outputs": [
        {
          "output_type": "execute_result",
          "data": {
            "text/plain": [
              "0\n",
              "USUARIO               0\n",
              "NOMBRE                0\n",
              "APELLIDO              0\n",
              "SEXO                  0\n",
              "EDAD                414\n",
              "SINTOMAS            415\n",
              "ID MUESTRA            0\n",
              "FECHA EXTRACCION      0\n",
              "RESULTADO             0\n",
              "dtype: int64"
            ]
          },
          "metadata": {
            "tags": []
          },
          "execution_count": 18
        }
      ]
    },
    {
      "cell_type": "code",
      "metadata": {
        "colab": {
          "base_uri": "https://localhost:8080/"
        },
        "id": "_t6zNlOWH9_b",
        "outputId": "87fffadd-bdc6-45a1-d1c1-1c8d3d6e43c3"
      },
      "source": [
        "df.dtypes"
      ],
      "execution_count": null,
      "outputs": [
        {
          "output_type": "execute_result",
          "data": {
            "text/plain": [
              "0\n",
              "USUARIO             object\n",
              "NOMBRE              object\n",
              "APELLIDO            object\n",
              "SEXO                object\n",
              "EDAD                object\n",
              "SINTOMAS            object\n",
              "ID MUESTRA          object\n",
              "FECHA EXTRACCION    object\n",
              "RESULTADO           object\n",
              "dtype: object"
            ]
          },
          "metadata": {
            "tags": []
          },
          "execution_count": 19
        }
      ]
    },
    {
      "cell_type": "code",
      "metadata": {
        "colab": {
          "base_uri": "https://localhost:8080/"
        },
        "id": "dXBgB998113y",
        "outputId": "7189c04b-86a2-4d49-ef3b-f237187abdca"
      },
      "source": [
        "df.shape"
      ],
      "execution_count": null,
      "outputs": [
        {
          "output_type": "execute_result",
          "data": {
            "text/plain": [
              "(3050, 9)"
            ]
          },
          "metadata": {
            "tags": []
          },
          "execution_count": 20
        }
      ]
    },
    {
      "cell_type": "code",
      "metadata": {
        "colab": {
          "base_uri": "https://localhost:8080/"
        },
        "id": "BLXVyHWRDLZK",
        "outputId": "6ef246ad-5839-4040-bf1d-c8bcdb81b53a"
      },
      "source": [
        "df['FECHA EXTRACCION']"
      ],
      "execution_count": null,
      "outputs": [
        {
          "output_type": "execute_result",
          "data": {
            "text/plain": [
              "1       21/12/2020\n",
              "2       21/12/2020\n",
              "3       21/12/2020\n",
              "4       21/12/2020\n",
              "5       21/12/2020\n",
              "           ...    \n",
              "3116     15/4/2021\n",
              "3117     15/4/2021\n",
              "3118     15/4/2021\n",
              "3119     15/4/2021\n",
              "3120     15/4/2021\n",
              "Name: FECHA EXTRACCION, Length: 3050, dtype: object"
            ]
          },
          "metadata": {
            "tags": []
          },
          "execution_count": 21
        }
      ]
    },
    {
      "cell_type": "code",
      "metadata": {
        "id": "bsPK7l_muwGa"
      },
      "source": [
        "# Cambiar index por fechas \n",
        "\n",
        "# df = df.set_index(df['FECHA EXTRACCION'], drop=False)"
      ],
      "execution_count": null,
      "outputs": []
    },
    {
      "cell_type": "code",
      "metadata": {
        "id": "KFrSnVjXu7Mn"
      },
      "source": [
        "df['FECHA EXTRACCION'] = pd.to_datetime(df['FECHA EXTRACCION'])"
      ],
      "execution_count": null,
      "outputs": []
    },
    {
      "cell_type": "code",
      "metadata": {
        "colab": {
          "base_uri": "https://localhost:8080/",
          "height": 198
        },
        "id": "FcuP8-O9vCDF",
        "outputId": "47bf907e-8701-4a9b-99cf-9ec386925184"
      },
      "source": [
        "df.head()"
      ],
      "execution_count": null,
      "outputs": [
        {
          "output_type": "execute_result",
          "data": {
            "text/html": [
              "<div>\n",
              "<style scoped>\n",
              "    .dataframe tbody tr th:only-of-type {\n",
              "        vertical-align: middle;\n",
              "    }\n",
              "\n",
              "    .dataframe tbody tr th {\n",
              "        vertical-align: top;\n",
              "    }\n",
              "\n",
              "    .dataframe thead th {\n",
              "        text-align: right;\n",
              "    }\n",
              "</style>\n",
              "<table border=\"1\" class=\"dataframe\">\n",
              "  <thead>\n",
              "    <tr style=\"text-align: right;\">\n",
              "      <th></th>\n",
              "      <th>USUARIO</th>\n",
              "      <th>NOMBRE</th>\n",
              "      <th>APELLIDO</th>\n",
              "      <th>SEXO</th>\n",
              "      <th>EDAD</th>\n",
              "      <th>SINTOMAS</th>\n",
              "      <th>ID MUESTRA</th>\n",
              "      <th>FECHA EXTRACCION</th>\n",
              "      <th>RESULTADO</th>\n",
              "    </tr>\n",
              "  </thead>\n",
              "  <tbody>\n",
              "    <tr>\n",
              "      <th>1</th>\n",
              "      <td>Particular</td>\n",
              "      <td>Carlos Alberto</td>\n",
              "      <td>Gallegos Hernández</td>\n",
              "      <td>M</td>\n",
              "      <td>44</td>\n",
              "      <td>0</td>\n",
              "      <td>PD.PD.02.0704</td>\n",
              "      <td>2020-12-21</td>\n",
              "      <td>Negativo</td>\n",
              "    </tr>\n",
              "    <tr>\n",
              "      <th>2</th>\n",
              "      <td>Particular</td>\n",
              "      <td>Maria Elena</td>\n",
              "      <td>Prieto Prieto</td>\n",
              "      <td>F</td>\n",
              "      <td>43</td>\n",
              "      <td>1</td>\n",
              "      <td>PD.PD.02.0705</td>\n",
              "      <td>2020-12-21</td>\n",
              "      <td>Positivo</td>\n",
              "    </tr>\n",
              "    <tr>\n",
              "      <th>3</th>\n",
              "      <td>Particular</td>\n",
              "      <td>Víctor</td>\n",
              "      <td>Merino Murillo</td>\n",
              "      <td>M</td>\n",
              "      <td>40</td>\n",
              "      <td>0</td>\n",
              "      <td>PD.PD.02.0706</td>\n",
              "      <td>2020-12-21</td>\n",
              "      <td>Negativo</td>\n",
              "    </tr>\n",
              "    <tr>\n",
              "      <th>4</th>\n",
              "      <td>Particular</td>\n",
              "      <td>Irma yaneth</td>\n",
              "      <td>Hernandez cuevas</td>\n",
              "      <td>F</td>\n",
              "      <td>38</td>\n",
              "      <td>0</td>\n",
              "      <td>PD.PD.02.0707</td>\n",
              "      <td>2020-12-21</td>\n",
              "      <td>Negativo</td>\n",
              "    </tr>\n",
              "    <tr>\n",
              "      <th>5</th>\n",
              "      <td>Particular</td>\n",
              "      <td>Abril del Rocío</td>\n",
              "      <td>Ramirez Juarez</td>\n",
              "      <td>F</td>\n",
              "      <td>48</td>\n",
              "      <td>0</td>\n",
              "      <td>PD.PD.02.0708</td>\n",
              "      <td>2020-12-21</td>\n",
              "      <td>Negativo</td>\n",
              "    </tr>\n",
              "  </tbody>\n",
              "</table>\n",
              "</div>"
            ],
            "text/plain": [
              "0     USUARIO           NOMBRE  ... FECHA EXTRACCION RESULTADO\n",
              "1  Particular   Carlos Alberto  ...       2020-12-21  Negativo\n",
              "2  Particular      Maria Elena  ...       2020-12-21  Positivo\n",
              "3  Particular           Víctor  ...       2020-12-21  Negativo\n",
              "4  Particular      Irma yaneth  ...       2020-12-21  Negativo\n",
              "5  Particular  Abril del Rocío  ...       2020-12-21  Negativo\n",
              "\n",
              "[5 rows x 9 columns]"
            ]
          },
          "metadata": {
            "tags": []
          },
          "execution_count": 24
        }
      ]
    },
    {
      "cell_type": "code",
      "metadata": {
        "id": "iS9GZpUqvCTw"
      },
      "source": [
        "dfDiciembre = df[(df['FECHA EXTRACCION']> \"2020-01-01\") & (df['FECHA EXTRACCION']< \"2021-01-01\")]\n",
        "dfEnero = df[(df['FECHA EXTRACCION'] >= \"2021-01-01\") & (df['FECHA EXTRACCION']< \"2021-02-01\")]\n",
        "dfFebrero = df[(df['FECHA EXTRACCION'] >= \"2021-02-01\") & (df['FECHA EXTRACCION']< \"2021-03-01\")]\n",
        "dfMarzo = df[(df['FECHA EXTRACCION'] >= \"2021-03-01\") & (df['FECHA EXTRACCION']< \"2021-04-01\")]\n",
        "dfAbril = df[(df['FECHA EXTRACCION'] >= \"2021-04-01\") & (df['FECHA EXTRACCION']< \"2021-05-01\")]"
      ],
      "execution_count": null,
      "outputs": []
    },
    {
      "cell_type": "code",
      "metadata": {
        "colab": {
          "base_uri": "https://localhost:8080/",
          "height": 198
        },
        "id": "RAbU2vQtvCcA",
        "outputId": "390560ed-6c62-4773-9e44-b312efe8763c"
      },
      "source": [
        "dfMarzo.head()"
      ],
      "execution_count": null,
      "outputs": [
        {
          "output_type": "execute_result",
          "data": {
            "text/html": [
              "<div>\n",
              "<style scoped>\n",
              "    .dataframe tbody tr th:only-of-type {\n",
              "        vertical-align: middle;\n",
              "    }\n",
              "\n",
              "    .dataframe tbody tr th {\n",
              "        vertical-align: top;\n",
              "    }\n",
              "\n",
              "    .dataframe thead th {\n",
              "        text-align: right;\n",
              "    }\n",
              "</style>\n",
              "<table border=\"1\" class=\"dataframe\">\n",
              "  <thead>\n",
              "    <tr style=\"text-align: right;\">\n",
              "      <th></th>\n",
              "      <th>USUARIO</th>\n",
              "      <th>NOMBRE</th>\n",
              "      <th>APELLIDO</th>\n",
              "      <th>SEXO</th>\n",
              "      <th>EDAD</th>\n",
              "      <th>SINTOMAS</th>\n",
              "      <th>ID MUESTRA</th>\n",
              "      <th>FECHA EXTRACCION</th>\n",
              "      <th>RESULTADO</th>\n",
              "    </tr>\n",
              "  </thead>\n",
              "  <tbody>\n",
              "    <tr>\n",
              "      <th>2165</th>\n",
              "      <td>WRSI Servicios de Mexico S de RL de CV</td>\n",
              "      <td>José Efraín</td>\n",
              "      <td>Fuentes Gutiérrez</td>\n",
              "      <td>M</td>\n",
              "      <td>28</td>\n",
              "      <td>0</td>\n",
              "      <td>PD.WR.02.0216</td>\n",
              "      <td>2021-03-02</td>\n",
              "      <td>Negativo</td>\n",
              "    </tr>\n",
              "    <tr>\n",
              "      <th>2166</th>\n",
              "      <td>WRSI Servicios de Mexico S de RL de CV</td>\n",
              "      <td>Evangelina</td>\n",
              "      <td>Mendoza Gutierrez</td>\n",
              "      <td>F</td>\n",
              "      <td>36</td>\n",
              "      <td>0</td>\n",
              "      <td>PD.WR.02.0217</td>\n",
              "      <td>2021-03-02</td>\n",
              "      <td>Negativo</td>\n",
              "    </tr>\n",
              "    <tr>\n",
              "      <th>2167</th>\n",
              "      <td>WRSI Servicios de Mexico S de RL de CV</td>\n",
              "      <td>Maria Guadalupe</td>\n",
              "      <td>Rodriguez Rodriguez</td>\n",
              "      <td>F</td>\n",
              "      <td>20</td>\n",
              "      <td>0</td>\n",
              "      <td>PD.WR.02.0218</td>\n",
              "      <td>2021-03-02</td>\n",
              "      <td>Positivo</td>\n",
              "    </tr>\n",
              "    <tr>\n",
              "      <th>2168</th>\n",
              "      <td>WRSI Servicios de Mexico S de RL de CV</td>\n",
              "      <td>María Guadalupe</td>\n",
              "      <td>Hernández Hernández</td>\n",
              "      <td>F</td>\n",
              "      <td>45</td>\n",
              "      <td>0</td>\n",
              "      <td>PD.WR.02.0219</td>\n",
              "      <td>2021-03-02</td>\n",
              "      <td>Negativo</td>\n",
              "    </tr>\n",
              "    <tr>\n",
              "      <th>2169</th>\n",
              "      <td>WRSI Servicios de Mexico S de RL de CV</td>\n",
              "      <td>Maria Guadalupe</td>\n",
              "      <td>Garcia Muñoz</td>\n",
              "      <td>F</td>\n",
              "      <td>24</td>\n",
              "      <td>0</td>\n",
              "      <td>PD.WR.02.0220</td>\n",
              "      <td>2021-03-02</td>\n",
              "      <td>Negativo</td>\n",
              "    </tr>\n",
              "  </tbody>\n",
              "</table>\n",
              "</div>"
            ],
            "text/plain": [
              "0                                    USUARIO  ... RESULTADO\n",
              "2165  WRSI Servicios de Mexico S de RL de CV  ...  Negativo\n",
              "2166  WRSI Servicios de Mexico S de RL de CV  ...  Negativo\n",
              "2167  WRSI Servicios de Mexico S de RL de CV  ...  Positivo\n",
              "2168  WRSI Servicios de Mexico S de RL de CV  ...  Negativo\n",
              "2169  WRSI Servicios de Mexico S de RL de CV  ...  Negativo\n",
              "\n",
              "[5 rows x 9 columns]"
            ]
          },
          "metadata": {
            "tags": []
          },
          "execution_count": 26
        }
      ]
    },
    {
      "cell_type": "code",
      "metadata": {
        "colab": {
          "base_uri": "https://localhost:8080/"
        },
        "id": "sToJCTxtvCie",
        "outputId": "b6bb9802-0367-4e24-e06f-ffabd9131264"
      },
      "source": [
        "dfMarzo.shape"
      ],
      "execution_count": null,
      "outputs": [
        {
          "output_type": "execute_result",
          "data": {
            "text/plain": [
              "(198, 9)"
            ]
          },
          "metadata": {
            "tags": []
          },
          "execution_count": 27
        }
      ]
    },
    {
      "cell_type": "code",
      "metadata": {
        "colab": {
          "base_uri": "https://localhost:8080/"
        },
        "id": "RyzVvWoszebx",
        "outputId": "f9d680d3-863f-4f3a-e5be-8b1bea4cd052"
      },
      "source": [
        "VerClientes = df.pivot_table(index=['USUARIO'], aggfunc='size')\n",
        "VerClientes"
      ],
      "execution_count": null,
      "outputs": [
        {
          "output_type": "execute_result",
          "data": {
            "text/plain": [
              "USUARIO\n",
              "CFM Servicios Administrativos           35\n",
              "CFM Servicios Administrativos México    21\n",
              "CFM Servicios administrativos México    23\n",
              "CFM Servicios de Mexico                 33\n",
              "CFM servicios administrativos           45\n",
              "                                        ..\n",
              "Wurth                                    1\n",
              "Würth                                   14\n",
              "Würth Elektronik                         1\n",
              "Würth Elektronik México                 21\n",
              "webasto                                  8\n",
              "Length: 80, dtype: int64"
            ]
          },
          "metadata": {
            "tags": []
          },
          "execution_count": 41
        }
      ]
    },
    {
      "cell_type": "code",
      "metadata": {
        "id": "xCHOuOH1v-xG"
      },
      "source": [
        "# Ajuste  CLIENTES Diciembre\n",
        "\n",
        "dfDiciembre['USUARIO'] = dfDiciembre['USUARIO'].replace({'Particular ': 'Particular'})\n",
        "dfDiciembre['USUARIO'] = dfDiciembre['USUARIO'].replace({'Particular (E)': 'Particular'})\n",
        "dfDiciembre['USUARIO'] = dfDiciembre['USUARIO'].replace({'Particular (E) ': 'Particular'})\n",
        "dfDiciembre['USUARIO'] = dfDiciembre['USUARIO'].replace({'Pärticular': 'Particular'})\n",
        "dfDiciembre['USUARIO'] = dfDiciembre['USUARIO'].replace({'Pärticular (E)': 'Particular'})\n",
        "dfDiciembre['USUARIO'] = dfDiciembre['USUARIO'].replace({'Pärticular (E) ': 'Particular'})\n",
        "dfDiciembre['USUARIO'] = dfDiciembre['USUARIO'].replace({'Particular (?)': 'Particular'})\n",
        "\n",
        "dfDiciembre['USUARIO'] = dfDiciembre['USUARIO'].replace({'CFM Servicios Administrativos México': 'CONAGRA'})\n",
        "\n",
        "dfDiciembre['USUARIO'] = dfDiciembre['USUARIO'].replace({'F&P MFG de Mexico SA de CV': 'F&P MFG'})\n",
        "dfDiciembre['USUARIO'] = dfDiciembre['USUARIO'].replace({'F&P MFG de Mexico SA de CV  (E)': 'F&P MFG'})\n",
        "dfDiciembre['USUARIO'] = dfDiciembre['USUARIO'].replace({'F&P MFG de Mexico SA de CV  (E) ': 'F&P MFG'})\n",
        "\n",
        "dfDiciembre['USUARIO'] = dfDiciembre['USUARIO'].replace({'La Cantera': 'Minera La Cantera'})\n",
        "dfDiciembre['USUARIO'] = dfDiciembre['USUARIO'].replace({'Minera la Cantera': 'Minera La Cantera'})\n",
        "\n",
        "dfDiciembre['USUARIO'] = dfDiciembre['USUARIO'].replace({'Desarrolladora Marabis': 'Marabis'})\n",
        "\n",
        "dfDiciembre['USUARIO'] = dfDiciembre['USUARIO'].replace({'Natural Health': 'NaturalHealth'})"
      ],
      "execution_count": null,
      "outputs": []
    },
    {
      "cell_type": "code",
      "metadata": {
        "id": "itLNYKyXxdlF"
      },
      "source": [
        "# Ajuste  CLIENTES Enero\n",
        "\n",
        "dfEnero['USUARIO'] = dfEnero['USUARIO'].replace({'PARTICULAR': 'Particular'})\n",
        "dfEnero['USUARIO'] = dfEnero['USUARIO'].replace({'PARTICULAR ': 'Particular'})\n",
        "dfEnero['USUARIO'] = dfEnero['USUARIO'].replace({'Particular (E)': 'Particular'})\n",
        "dfEnero['USUARIO'] = dfEnero['USUARIO'].replace({'Particular (E) ': 'Particular'})\n",
        "dfEnero['USUARIO'] = dfEnero['USUARIO'].replace({'PARTICULAR (E)': 'Particular'})\n",
        "dfEnero['USUARIO'] = dfEnero['USUARIO'].replace({'PARTICULAR (E) ': 'Particular'})\n",
        "dfEnero['USUARIO'] = dfEnero['USUARIO'].replace({'Particular (Ta)': 'Particular'})\n",
        "dfEnero['USUARIO'] = dfEnero['USUARIO'].replace({'PARTICULAR (D)': 'Particular'})\n",
        "\n",
        "dfEnero['USUARIO'] = dfEnero['USUARIO'].replace({'PERSONAL': 'Personal'})\n",
        "\n",
        "dfEnero['USUARIO'] = dfEnero['USUARIO'].replace({'CFM servicios administrativos': 'CONAGRA'})\n",
        "\n",
        "dfEnero['USUARIO'] = dfEnero['USUARIO'].replace({'CFM servicios administrativos': 'CONAGRA'})\n",
        "dfEnero['USUARIO'] = dfEnero['USUARIO'].replace({'CFM Servicios de Mexico': 'CONAGRA'})\n",
        "dfEnero['USUARIO'] = dfEnero['USUARIO'].replace({'CFM Servicios administrativos México': 'CONAGRA'})\n",
        "dfEnero['USUARIO'] = dfEnero['USUARIO'].replace({'CFM Servicios Administrativos': 'CONAGRA'})\n",
        "\n",
        "dfEnero['USUARIO'] = dfEnero['USUARIO'].replace({'F&P': 'F&P MFG'})\n",
        "\n",
        "dfEnero['USUARIO'] = dfEnero['USUARIO'].replace({'WRSI Servicios de Mexico S de RL de CV': 'Webasto'})\n",
        "dfEnero['USUARIO'] = dfEnero['USUARIO'].replace({'WRSI Servicios de Mexico': 'Webasto'})\n",
        "dfEnero['USUARIO'] = dfEnero['USUARIO'].replace({'WRSI Servicios de México': 'Webasto'})\n",
        "\n",
        "dfEnero['USUARIO'] = dfEnero['USUARIO'].replace({'Würth Elektronik México': 'Würth'})\n",
        "dfEnero['USUARIO'] = dfEnero['USUARIO'].replace({'Wurth': 'Würth'})\n",
        "\n",
        "dfEnero['USUARIO'] = dfEnero['USUARIO'].replace({'Prupo PTH': 'Grupo PTH'})\n",
        "\n",
        "dfEnero['USUARIO'] = dfEnero['USUARIO'].replace({'EHS DISSA': 'DISSA'})\n",
        "\n",
        "dfEnero['USUARIO'] = dfEnero['USUARIO'].replace({'Iraform (E)': 'Iraform'})\n",
        "dfEnero['USUARIO'] = dfEnero['USUARIO'].replace({'Iraform (E) ': 'Iraform'})\n"
      ],
      "execution_count": null,
      "outputs": []
    },
    {
      "cell_type": "code",
      "metadata": {
        "id": "FWKtmk0_5xS-"
      },
      "source": [
        "# Ajuste  CLIENTES Febrero\n",
        "\n",
        "dfFebrero['USUARIO'] = dfFebrero['USUARIO'].replace({'Particular (E)': 'Particular'})\n",
        "dfFebrero['USUARIO'] = dfFebrero['USUARIO'].replace({'Particular (E) ': 'Particular'})\n",
        "dfFebrero['USUARIO'] = dfFebrero['USUARIO'].replace({'Particular (Tarjeta)': 'Particular'})\n",
        "dfFebrero['USUARIO'] = dfFebrero['USUARIO'].replace({'Particular (Tarjeta) ': 'Particular'})\n",
        "dfFebrero['USUARIO'] = dfFebrero['USUARIO'].replace({'Particular (Sergio)': 'Particular'})\n",
        "dfFebrero['USUARIO'] = dfFebrero['USUARIO'].replace({'Particular (Ta)': 'Particular'})\n",
        "dfFebrero['USUARIO'] = dfFebrero['USUARIO'].replace({'Particular (Ta) ': 'Particular'})\n",
        "\n",
        "dfFebrero['USUARIO'] = dfFebrero['USUARIO'].replace({'CFM Servicios Administrativos México': 'CONAGRA'})\n",
        "dfFebrero['USUARIO'] = dfFebrero['USUARIO'].replace({'CFM servicios administrativos': 'CONAGRA'})\n",
        "dfFebrero['USUARIO'] = dfFebrero['USUARIO'].replace({'Conagra': 'CONAGRA'})\n",
        "\n",
        "dfFebrero['USUARIO'] = dfFebrero['USUARIO'].replace({'WRSI Servicios de Mexico S de RL de CV': 'Webasto'})\n",
        "dfFebrero['USUARIO'] = dfFebrero['USUARIO'].replace({'webasto': 'Webasto'})\n",
        "\n",
        "dfFebrero['USUARIO'] = dfFebrero['USUARIO'].replace({'IRAFORM': 'Iraform'})"
      ],
      "execution_count": null,
      "outputs": []
    },
    {
      "cell_type": "code",
      "metadata": {
        "colab": {
          "base_uri": "https://localhost:8080/"
        },
        "id": "5ii2uSMHv-z3",
        "outputId": "6a0cfb7b-38db-4eeb-c459-69420c678fb9"
      },
      "source": [
        "# Comprobador de clientes. Cambiar mes\n",
        "\n",
        "#dfDiciembre['USUARIO'].value_counts()\n",
        "#dfEnero['USUARIO'].value_counts()\n",
        "#dfFebrero['USUARIO'].value_counts()\n",
        "dfMarzo['USUARIO'].value_counts()\n",
        "# dfAbril['USUARIO'].value_counts()"
      ],
      "execution_count": null,
      "outputs": [
        {
          "output_type": "execute_result",
          "data": {
            "text/plain": [
              "Conagra                                   48\n",
              "Webasto                                   36\n",
              "Particular (E)                            27\n",
              "Particular                                27\n",
              "CFM Servicios Administrativos             14\n",
              "WRSI Servicios de Mexico S de RL de CV    12\n",
              "Personal                                  12\n",
              "Gerso                                      5\n",
              "EHS DISSA                                  4\n",
              "DISSA                                      3\n",
              "La Próxima Estación                        2\n",
              "Particular (TD)                            1\n",
              "Würth                                      1\n",
              "Particular (T)                             1\n",
              "Iraform                                    1\n",
              "ISS México                                 1\n",
              "Particular (Ta)                            1\n",
              "Würth Elektronik                           1\n",
              "Particular (Ta)                            1\n",
              "Name: USUARIO, dtype: int64"
            ]
          },
          "metadata": {
            "tags": []
          },
          "execution_count": 94
        }
      ]
    },
    {
      "cell_type": "code",
      "metadata": {
        "id": "iJ7I15-CMR4f"
      },
      "source": [
        "# writing into the file\n",
        "# df.to_csv(\"AllDetails.csv\", index=False)"
      ],
      "execution_count": null,
      "outputs": []
    }
  ]
}