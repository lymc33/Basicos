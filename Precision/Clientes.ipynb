{
  "nbformat": 4,
  "nbformat_minor": 0,
  "metadata": {
    "colab": {
      "name": "Clientes.ipynb",
      "provenance": [],
      "collapsed_sections": [],
      "authorship_tag": "ABX9TyMHodceTDIhcCphu5t8gktY",
      "include_colab_link": true
    },
    "kernelspec": {
      "name": "python3",
      "display_name": "Python 3"
    },
    "language_info": {
      "name": "python"
    }
  },
  "cells": [
    {
      "cell_type": "markdown",
      "metadata": {
        "id": "view-in-github",
        "colab_type": "text"
      },
      "source": [
        "<a href=\"https://colab.research.google.com/github/lymc33/Precision/blob/main/Clientes.ipynb\" target=\"_parent\"><img src=\"https://colab.research.google.com/assets/colab-badge.svg\" alt=\"Open In Colab\"/></a>"
      ]
    },
    {
      "cell_type": "code",
      "metadata": {
        "colab": {
          "base_uri": "https://localhost:8080/"
        },
        "id": "gJ7h3ykoYeMc",
        "outputId": "52e16c25-2a36-4afd-85d3-9fb3fe0c0a67"
      },
      "source": [
        "from google.colab import drive\n",
        "drive.mount('/content/drive')"
      ],
      "execution_count": 1,
      "outputs": [
        {
          "output_type": "stream",
          "text": [
            "Drive already mounted at /content/drive; to attempt to forcibly remount, call drive.mount(\"/content/drive\", force_remount=True).\n"
          ],
          "name": "stdout"
        }
      ]
    },
    {
      "cell_type": "code",
      "metadata": {
        "id": "OWt9BL70ZMeE"
      },
      "source": [
        "import pandas as pd\n",
        "import matplotlib.pyplot as plt\n",
        "import seaborn as sns"
      ],
      "execution_count": 2,
      "outputs": []
    },
    {
      "cell_type": "code",
      "metadata": {
        "id": "PgEX1UrCZ4Ac"
      },
      "source": [
        "df = pd.read_csv('/content/drive/MyDrive/Precision Detect/Resultados/TOTAL dic-abril 2021.csv', header=None)"
      ],
      "execution_count": 3,
      "outputs": []
    },
    {
      "cell_type": "code",
      "metadata": {
        "colab": {
          "base_uri": "https://localhost:8080/",
          "height": 356
        },
        "id": "9MBdC7NyZ9hK",
        "outputId": "a91b5143-ce57-4fe3-bd3d-11f8401aa063"
      },
      "source": [
        "df.head()"
      ],
      "execution_count": 4,
      "outputs": [
        {
          "output_type": "execute_result",
          "data": {
            "text/html": [
              "<div>\n",
              "<style scoped>\n",
              "    .dataframe tbody tr th:only-of-type {\n",
              "        vertical-align: middle;\n",
              "    }\n",
              "\n",
              "    .dataframe tbody tr th {\n",
              "        vertical-align: top;\n",
              "    }\n",
              "\n",
              "    .dataframe thead th {\n",
              "        text-align: right;\n",
              "    }\n",
              "</style>\n",
              "<table border=\"1\" class=\"dataframe\">\n",
              "  <thead>\n",
              "    <tr style=\"text-align: right;\">\n",
              "      <th></th>\n",
              "      <th>0</th>\n",
              "      <th>1</th>\n",
              "      <th>2</th>\n",
              "      <th>3</th>\n",
              "      <th>4</th>\n",
              "      <th>5</th>\n",
              "      <th>6</th>\n",
              "      <th>7</th>\n",
              "      <th>8</th>\n",
              "      <th>9</th>\n",
              "      <th>10</th>\n",
              "      <th>11</th>\n",
              "      <th>12</th>\n",
              "      <th>13</th>\n",
              "      <th>14</th>\n",
              "      <th>15</th>\n",
              "      <th>16</th>\n",
              "      <th>17</th>\n",
              "      <th>18</th>\n",
              "      <th>19</th>\n",
              "      <th>20</th>\n",
              "      <th>21</th>\n",
              "      <th>22</th>\n",
              "      <th>23</th>\n",
              "      <th>24</th>\n",
              "      <th>25</th>\n",
              "      <th>26</th>\n",
              "    </tr>\n",
              "  </thead>\n",
              "  <tbody>\n",
              "    <tr>\n",
              "      <th>0</th>\n",
              "      <td>FOLIO</td>\n",
              "      <td>CLIENTE</td>\n",
              "      <td>USUARIO</td>\n",
              "      <td>FECHA DE TOMA DE MUESTRA</td>\n",
              "      <td>MUNICIPIO</td>\n",
              "      <td>ESTADO</td>\n",
              "      <td>NOMBRE</td>\n",
              "      <td>APELLIDO</td>\n",
              "      <td>SEXO</td>\n",
              "      <td>EDAD</td>\n",
              "      <td>SINTOMAS</td>\n",
              "      <td>HOSPITALARIA O AMBULATORIA</td>\n",
              "      <td>CURP</td>\n",
              "      <td>TELEFONO</td>\n",
              "      <td>CORREO</td>\n",
              "      <td>CALLE</td>\n",
              "      <td>NUMERO</td>\n",
              "      <td>INTERIOR</td>\n",
              "      <td>COLONIA</td>\n",
              "      <td>MUNICIPIO</td>\n",
              "      <td>CP</td>\n",
              "      <td>ESTADO</td>\n",
              "      <td>DATOS DE MUESTRA</td>\n",
              "      <td>ID MUESTRA</td>\n",
              "      <td>FECHA EXTRACCION</td>\n",
              "      <td>FECHA DETECCION</td>\n",
              "      <td>RESULTADO</td>\n",
              "    </tr>\n",
              "    <tr>\n",
              "      <th>1</th>\n",
              "      <td>1</td>\n",
              "      <td>PrecisionDetect</td>\n",
              "      <td>Particular</td>\n",
              "      <td>12.19.2020</td>\n",
              "      <td>Irapuato</td>\n",
              "      <td>Guanajuato</td>\n",
              "      <td>Carlos Alberto</td>\n",
              "      <td>Gallegos Hernández</td>\n",
              "      <td>M</td>\n",
              "      <td>44</td>\n",
              "      <td>0</td>\n",
              "      <td>A</td>\n",
              "      <td>GAHC760518HGTLRR08</td>\n",
              "      <td>4641056378</td>\n",
              "      <td>gadezca@hotmail.com</td>\n",
              "      <td>Laguna de los Andes</td>\n",
              "      <td>170</td>\n",
              "      <td>NaN</td>\n",
              "      <td>El Perul</td>\n",
              "      <td>Salamanca</td>\n",
              "      <td>36764</td>\n",
              "      <td>GUANAJUATO</td>\n",
              "      <td>NaN</td>\n",
              "      <td>PD.PD.02.0704</td>\n",
              "      <td>21/12/2020</td>\n",
              "      <td>22/12/2020</td>\n",
              "      <td>Negativo</td>\n",
              "    </tr>\n",
              "    <tr>\n",
              "      <th>2</th>\n",
              "      <td>3</td>\n",
              "      <td>PrecisionDetect</td>\n",
              "      <td>Particular</td>\n",
              "      <td>12.19.2020</td>\n",
              "      <td>Irapuato</td>\n",
              "      <td>Guanajuato</td>\n",
              "      <td>Maria Elena</td>\n",
              "      <td>Prieto Prieto</td>\n",
              "      <td>F</td>\n",
              "      <td>43</td>\n",
              "      <td>1</td>\n",
              "      <td>A</td>\n",
              "      <td>PIPE770325MDFRRL01</td>\n",
              "      <td>4641057580</td>\n",
              "      <td>Mary2prieto@yahoo.com</td>\n",
              "      <td>Juan Escutia</td>\n",
              "      <td>700</td>\n",
              "      <td>NaN</td>\n",
              "      <td>El Durazno</td>\n",
              "      <td>Salamanca</td>\n",
              "      <td>36747</td>\n",
              "      <td>GUANAJUATO</td>\n",
              "      <td>NaN</td>\n",
              "      <td>PD.PD.02.0705</td>\n",
              "      <td>21/12/2020</td>\n",
              "      <td>22/12/2020</td>\n",
              "      <td>Positivo</td>\n",
              "    </tr>\n",
              "    <tr>\n",
              "      <th>3</th>\n",
              "      <td>4</td>\n",
              "      <td>PrecisionDetect</td>\n",
              "      <td>Particular</td>\n",
              "      <td>12.19.2020</td>\n",
              "      <td>Irapuato</td>\n",
              "      <td>Guanajuato</td>\n",
              "      <td>Víctor</td>\n",
              "      <td>Merino Murillo</td>\n",
              "      <td>M</td>\n",
              "      <td>40</td>\n",
              "      <td>0</td>\n",
              "      <td>A</td>\n",
              "      <td>NaN</td>\n",
              "      <td>4621380731</td>\n",
              "      <td>rosy_merino@hotmail.com</td>\n",
              "      <td>José Amor Rodríguez</td>\n",
              "      <td>1324</td>\n",
              "      <td>NaN</td>\n",
              "      <td>Fraccionamiento La Paz</td>\n",
              "      <td>Irapuato</td>\n",
              "      <td>36560</td>\n",
              "      <td>GUANAJUATO</td>\n",
              "      <td>NaN</td>\n",
              "      <td>PD.PD.02.0706</td>\n",
              "      <td>21/12/2020</td>\n",
              "      <td>22/12/2020</td>\n",
              "      <td>Negativo</td>\n",
              "    </tr>\n",
              "    <tr>\n",
              "      <th>4</th>\n",
              "      <td>5</td>\n",
              "      <td>PrecisionDetect</td>\n",
              "      <td>Particular</td>\n",
              "      <td>12.19.2020</td>\n",
              "      <td>Irapuato</td>\n",
              "      <td>Guanajuato</td>\n",
              "      <td>Irma yaneth</td>\n",
              "      <td>Hernandez cuevas</td>\n",
              "      <td>F</td>\n",
              "      <td>38</td>\n",
              "      <td>0</td>\n",
              "      <td>A</td>\n",
              "      <td>HECI820621MGTRVR01</td>\n",
              "      <td>4111010983</td>\n",
              "      <td>ya21nis@hotmail.com</td>\n",
              "      <td>Vicente Suárez</td>\n",
              "      <td>136</td>\n",
              "      <td>NaN</td>\n",
              "      <td>Los Álamos</td>\n",
              "      <td>Cortazar</td>\n",
              "      <td>38300</td>\n",
              "      <td>GUANAJUATO</td>\n",
              "      <td>NaN</td>\n",
              "      <td>PD.PD.02.0707</td>\n",
              "      <td>21/12/2020</td>\n",
              "      <td>22/12/2020</td>\n",
              "      <td>Negativo</td>\n",
              "    </tr>\n",
              "  </tbody>\n",
              "</table>\n",
              "</div>"
            ],
            "text/plain": [
              "      0                1   ...               25         26\n",
              "0  FOLIO          CLIENTE  ...  FECHA DETECCION  RESULTADO\n",
              "1      1  PrecisionDetect  ...       22/12/2020   Negativo\n",
              "2      3  PrecisionDetect  ...       22/12/2020   Positivo\n",
              "3      4  PrecisionDetect  ...       22/12/2020   Negativo\n",
              "4      5  PrecisionDetect  ...       22/12/2020   Negativo\n",
              "\n",
              "[5 rows x 27 columns]"
            ]
          },
          "metadata": {
            "tags": []
          },
          "execution_count": 4
        }
      ]
    },
    {
      "cell_type": "code",
      "metadata": {
        "colab": {
          "base_uri": "https://localhost:8080/"
        },
        "id": "bBX_XWDEaBIi",
        "outputId": "4dbcbe29-b176-4ba1-b395-d001f5128994"
      },
      "source": [
        "df.shape"
      ],
      "execution_count": 5,
      "outputs": [
        {
          "output_type": "execute_result",
          "data": {
            "text/plain": [
              "(3121, 27)"
            ]
          },
          "metadata": {
            "tags": []
          },
          "execution_count": 5
        }
      ]
    },
    {
      "cell_type": "code",
      "metadata": {
        "colab": {
          "base_uri": "https://localhost:8080/"
        },
        "id": "49XjI8FyewuB",
        "outputId": "ed427f2d-8184-4929-e638-4736c40bbe83"
      },
      "source": [
        "#Título de las columnas\n",
        "list_of_column_names = list(df.columns)\n",
        "print('List of column names : ', \n",
        "      list_of_column_names)"
      ],
      "execution_count": 6,
      "outputs": [
        {
          "output_type": "stream",
          "text": [
            "List of column names :  [0, 1, 2, 3, 4, 5, 6, 7, 8, 9, 10, 11, 12, 13, 14, 15, 16, 17, 18, 19, 20, 21, 22, 23, 24, 25, 26]\n"
          ],
          "name": "stdout"
        }
      ]
    },
    {
      "cell_type": "code",
      "metadata": {
        "colab": {
          "base_uri": "https://localhost:8080/"
        },
        "id": "2pLsP5_TmWYx",
        "outputId": "eca14b16-2649-4a22-e271-0f844ec1c377"
      },
      "source": [
        "print(df[11])"
      ],
      "execution_count": 7,
      "outputs": [
        {
          "output_type": "stream",
          "text": [
            "0       HOSPITALARIA O AMBULATORIA\n",
            "1                                A\n",
            "2                                A\n",
            "3                                A\n",
            "4                                A\n",
            "                   ...            \n",
            "3116                             A\n",
            "3117                             A\n",
            "3118                             A\n",
            "3119                             A\n",
            "3120                             A\n",
            "Name: 11, Length: 3121, dtype: object\n"
          ],
          "name": "stdout"
        }
      ]
    },
    {
      "cell_type": "code",
      "metadata": {
        "id": "AHaOUfwScyvx"
      },
      "source": [
        "df.drop([0, 1, 4, 5, 11, 12, 13, 14, 15, 16, 17, 18, 19, 20, 21, 22, 25], axis=1, inplace=True)"
      ],
      "execution_count": 8,
      "outputs": []
    },
    {
      "cell_type": "code",
      "metadata": {
        "colab": {
          "base_uri": "https://localhost:8080/"
        },
        "id": "TpLKpVv49cRq",
        "outputId": "7abeca4f-2b7f-4fe2-8e0f-1c8c06035546"
      },
      "source": [
        "df.index.values"
      ],
      "execution_count": 9,
      "outputs": [
        {
          "output_type": "execute_result",
          "data": {
            "text/plain": [
              "array([   0,    1,    2, ..., 3118, 3119, 3120])"
            ]
          },
          "metadata": {
            "tags": []
          },
          "execution_count": 9
        }
      ]
    },
    {
      "cell_type": "code",
      "metadata": {
        "id": "lYMG8xUmgAX0"
      },
      "source": [
        "#Cambiar el nombre de las columnas en el CSV\n",
        "new_header = df.iloc[0] #grab the first row for the header\n",
        "df = df[1:] #take the data less the header row\n",
        "df.columns = new_header #set the header row as the df header"
      ],
      "execution_count": 11,
      "outputs": []
    },
    {
      "cell_type": "code",
      "metadata": {
        "id": "--tUiIBmhTuj",
        "colab": {
          "base_uri": "https://localhost:8080/"
        },
        "outputId": "29b1ae0d-594f-4e81-d21a-31d117daceb8"
      },
      "source": [
        "#Título de las columnas\n",
        "list_of_column_names = list(df.columns)\n",
        "  \n",
        "# displaying the list of column names\n",
        "print('List of column names : ', \n",
        "      list_of_column_names)"
      ],
      "execution_count": 12,
      "outputs": [
        {
          "output_type": "stream",
          "text": [
            "List of column names :  ['USUARIO', 'FECHA DE TOMA DE MUESTRA', 'NOMBRE', 'APELLIDO', 'SEXO', 'EDAD', 'SINTOMAS', 'ID MUESTRA', 'FECHA EXTRACCION', 'RESULTADO']\n"
          ],
          "name": "stdout"
        }
      ]
    },
    {
      "cell_type": "code",
      "metadata": {
        "id": "cDN2BQi1c3Ih",
        "colab": {
          "base_uri": "https://localhost:8080/"
        },
        "outputId": "52e014b0-d98d-40c0-8d29-69dcdb027a15"
      },
      "source": [
        "df['ID MUESTRA']"
      ],
      "execution_count": 13,
      "outputs": [
        {
          "output_type": "execute_result",
          "data": {
            "text/plain": [
              "1        PD.PD.02.0704\n",
              "2        PD.PD.02.0705\n",
              "3        PD.PD.02.0706\n",
              "4        PD.PD.02.0707\n",
              "5        PD.PD.02.0708\n",
              "             ...      \n",
              "3116    PD.SEG.02.0003\n",
              "3117    PD.SEG.02.0005\n",
              "3118    PD.SEG.02.0006\n",
              "3119    PD.SEG.02.0007\n",
              "3120    PD.SEG.02.0008\n",
              "Name: ID MUESTRA, Length: 3120, dtype: object"
            ]
          },
          "metadata": {
            "tags": []
          },
          "execution_count": 13
        }
      ]
    },
    {
      "cell_type": "code",
      "metadata": {
        "colab": {
          "base_uri": "https://localhost:8080/"
        },
        "id": "h0TNhBIF8DnB",
        "outputId": "8d43b129-2eb4-4aef-e319-faa9e1a754ef"
      },
      "source": [
        "df.shape"
      ],
      "execution_count": 14,
      "outputs": [
        {
          "output_type": "execute_result",
          "data": {
            "text/plain": [
              "(3120, 10)"
            ]
          },
          "metadata": {
            "tags": []
          },
          "execution_count": 14
        }
      ]
    },
    {
      "cell_type": "code",
      "metadata": {
        "colab": {
          "base_uri": "https://localhost:8080/"
        },
        "id": "0bUdb5e9vUl-",
        "outputId": "571e2f96-008a-4c72-b785-e1e7c59fef69"
      },
      "source": [
        "#Archivos duplicados según ID Muestra\n",
        "df['ID MUESTRA'].duplicated().sum()"
      ],
      "execution_count": 15,
      "outputs": [
        {
          "output_type": "execute_result",
          "data": {
            "text/plain": [
              "35"
            ]
          },
          "metadata": {
            "tags": []
          },
          "execution_count": 15
        }
      ]
    },
    {
      "cell_type": "code",
      "metadata": {
        "colab": {
          "base_uri": "https://localhost:8080/"
        },
        "id": "ra6EBiTp4PKC",
        "outputId": "1e172376-83b2-4aad-e440-84589ad1e3ee"
      },
      "source": [
        "duplicates = df[df['ID MUESTRA'].duplicated(keep=False)]['ID MUESTRA'].tolist()\n",
        "duplicates"
      ],
      "execution_count": 16,
      "outputs": [
        {
          "output_type": "execute_result",
          "data": {
            "text/plain": [
              "['PD.F&P.02.21',\n",
              " 'PD.F&P.02.21',\n",
              " 'PD.CFM.02.0012',\n",
              " 'PD.CFM.02.0013',\n",
              " 'PD.CFM.02.0014',\n",
              " 'PD.CFM.02.0015',\n",
              " 'PD.CFM.02.0016',\n",
              " 'PD.CO.02.0015',\n",
              " 'PD.CO.02.0016',\n",
              " 'PD.CO.02.0017',\n",
              " 'PD.KR.02.0001',\n",
              " 'PD.KR.02.0002',\n",
              " 'PD.KR.02.0003',\n",
              " 'PD.KR.02.0004',\n",
              " 'PD.KR.02.0005',\n",
              " 'PD.KR.02.0006',\n",
              " 'PD.KR.02.0001',\n",
              " 'PD.KR.02.0002',\n",
              " 'PD.KR.02.0003',\n",
              " 'PD.KR.02.0004',\n",
              " 'PD.KR.02.0005',\n",
              " 'PD.KR.02.0006',\n",
              " 'PD.WR.02.0014',\n",
              " 'PD.WR.02.0015',\n",
              " 'PD.WR.02.0016',\n",
              " 'PD.WR.02.0017',\n",
              " 'PD.WR.02.0018',\n",
              " 'PD.WR.02.0019',\n",
              " 'PD.WR.02.0020',\n",
              " 'PD.WR.02.0021',\n",
              " 'PD.WR.02.0022',\n",
              " 'PD.WR.02.0023',\n",
              " 'PD.WR.02.0024',\n",
              " 'PD.WR.02.0025',\n",
              " 'PD.WR.02.0026',\n",
              " 'PD.WR.02.0027',\n",
              " 'PD.CFM.02.0012',\n",
              " 'PD.CFM.02.0013',\n",
              " 'PD.CFM.02.0014',\n",
              " 'PD.CFM.02.0015',\n",
              " 'PD.CFM.02.0016',\n",
              " 'PD.WÜ.02.0001',\n",
              " 'PD.WÜ.02.0002',\n",
              " 'PD.WÜ.02.0003',\n",
              " 'PD.WÜ.02.0004',\n",
              " 'PD.WÜ.02.0005',\n",
              " 'PD.CO.02.0015',\n",
              " 'PD.CO.02.0016',\n",
              " 'PD.CO.02.0017',\n",
              " 'PD.WR.02.0014',\n",
              " 'PD.WR.02.0015',\n",
              " 'PD.WR.02.0016',\n",
              " 'PD.WR.02.0017',\n",
              " 'PD.WR.02.0018',\n",
              " 'PD.WR.02.0019',\n",
              " 'PD.WR.02.0020',\n",
              " 'PD.WR.02.0021',\n",
              " 'PD.WR.02.0022',\n",
              " 'PD.WR.02.0023',\n",
              " 'PD.WR.02.0024',\n",
              " 'PD.WR.02.0025',\n",
              " 'PD.WR.02.0026',\n",
              " 'PD.WR.02.0027',\n",
              " 'PD.WÜ.02.0001',\n",
              " 'PD.WÜ.02.0002',\n",
              " 'PD.WÜ.02.0003',\n",
              " 'PD.WÜ.02.0004',\n",
              " 'PD.WÜ.02.0005',\n",
              " 'PD.PD.02.2002',\n",
              " 'PD.PD.02.2002']"
            ]
          },
          "metadata": {
            "tags": []
          },
          "execution_count": 16
        }
      ]
    },
    {
      "cell_type": "code",
      "metadata": {
        "colab": {
          "base_uri": "https://localhost:8080/"
        },
        "id": "Mh_szvKrwrbA",
        "outputId": "f605a710-77b0-4b74-aac4-05eea2c313a6"
      },
      "source": [
        "#Lista de elementos duplicados de acuerdo al ID\n",
        "duplicates = df[df['ID MUESTRA'].duplicated(keep=False)]['ID MUESTRA'].index\n",
        "duplicates"
      ],
      "execution_count": 17,
      "outputs": [
        {
          "output_type": "execute_result",
          "data": {
            "text/plain": [
              "Int64Index([ 180,  297,  893,  894,  895,  896,  897,  898,  899,  900,  901,\n",
              "             902,  903,  904,  905,  906,  983,  984,  985,  986,  987,  988,\n",
              "             996,  997,  998,  999, 1000, 1001, 1002, 1003, 1004, 1017, 1018,\n",
              "            1019, 1020, 1021, 1031, 1032, 1033, 1034, 1035, 1095, 1096, 1097,\n",
              "            1098, 1099, 1100, 1101, 1102, 2022, 2023, 2024, 2025, 2026, 2027,\n",
              "            2028, 2029, 2030, 2031, 2032, 2033, 2034, 2035, 2036, 2037, 2038,\n",
              "            2039, 2040, 2695, 2697],\n",
              "           dtype='int64')"
            ]
          },
          "metadata": {
            "tags": []
          },
          "execution_count": 17
        }
      ]
    },
    {
      "cell_type": "code",
      "metadata": {
        "id": "YuZW2V4-2GhH"
      },
      "source": [
        "df.drop(labels=duplicates, axis=0, index=None, columns=None, level=None, inplace=True, errors='raise')"
      ],
      "execution_count": 18,
      "outputs": []
    },
    {
      "cell_type": "code",
      "metadata": {
        "colab": {
          "base_uri": "https://localhost:8080/"
        },
        "id": "tKSqCe8Cz5x9",
        "outputId": "059443db-b0a9-4cf1-e4d8-5d7274ecefee"
      },
      "source": [
        "df.isnull().sum()"
      ],
      "execution_count": 19,
      "outputs": [
        {
          "output_type": "execute_result",
          "data": {
            "text/plain": [
              "0\n",
              "USUARIO                       0\n",
              "FECHA DE TOMA DE MUESTRA      0\n",
              "NOMBRE                        0\n",
              "APELLIDO                      0\n",
              "SEXO                          0\n",
              "EDAD                        414\n",
              "SINTOMAS                    415\n",
              "ID MUESTRA                    0\n",
              "FECHA EXTRACCION              0\n",
              "RESULTADO                     0\n",
              "dtype: int64"
            ]
          },
          "metadata": {
            "tags": []
          },
          "execution_count": 19
        }
      ]
    },
    {
      "cell_type": "code",
      "metadata": {
        "colab": {
          "base_uri": "https://localhost:8080/"
        },
        "id": "_t6zNlOWH9_b",
        "outputId": "7c80f07e-8456-4604-8be0-b6b5058ace9c"
      },
      "source": [
        "df.dtypes"
      ],
      "execution_count": 25,
      "outputs": [
        {
          "output_type": "execute_result",
          "data": {
            "text/plain": [
              "0\n",
              "USUARIO                     object\n",
              "FECHA DE TOMA DE MUESTRA    object\n",
              "NOMBRE                      object\n",
              "APELLIDO                    object\n",
              "SEXO                        object\n",
              "EDAD                        object\n",
              "SINTOMAS                    object\n",
              "ID MUESTRA                  object\n",
              "FECHA EXTRACCION            object\n",
              "RESULTADO                   object\n",
              "dtype: object"
            ]
          },
          "metadata": {
            "tags": []
          },
          "execution_count": 25
        }
      ]
    },
    {
      "cell_type": "code",
      "metadata": {
        "colab": {
          "base_uri": "https://localhost:8080/"
        },
        "id": "dXBgB998113y",
        "outputId": "60edf15a-f191-4fc2-817b-caedcb6be2c6"
      },
      "source": [
        "df.shape"
      ],
      "execution_count": 20,
      "outputs": [
        {
          "output_type": "execute_result",
          "data": {
            "text/plain": [
              "(3050, 10)"
            ]
          },
          "metadata": {
            "tags": []
          },
          "execution_count": 20
        }
      ]
    },
    {
      "cell_type": "code",
      "metadata": {
        "colab": {
          "base_uri": "https://localhost:8080/"
        },
        "id": "BLXVyHWRDLZK",
        "outputId": "05963bf9-f225-4b6a-b850-0a11c6021f35"
      },
      "source": [
        "df['USUARIO']"
      ],
      "execution_count": 21,
      "outputs": [
        {
          "output_type": "execute_result",
          "data": {
            "text/plain": [
              "1       Particular\n",
              "2       Particular\n",
              "3       Particular\n",
              "4       Particular\n",
              "5       Particular\n",
              "           ...    \n",
              "3116         SEGLO\n",
              "3117         SEGLO\n",
              "3118         SEGLO\n",
              "3119         SEGLO\n",
              "3120         SEGLO\n",
              "Name: USUARIO, Length: 3050, dtype: object"
            ]
          },
          "metadata": {
            "tags": []
          },
          "execution_count": 21
        }
      ]
    },
    {
      "cell_type": "code",
      "metadata": {
        "colab": {
          "base_uri": "https://localhost:8080/"
        },
        "id": "Yx2MUoG-FnRJ",
        "outputId": "568d144b-9dc1-41d8-fb12-57e402c01375"
      },
      "source": [
        "tipoPagos = df.pivot_table(index=['USUARIO'], aggfunc='size')\n",
        "print (tipoPagos)"
      ],
      "execution_count": 56,
      "outputs": [
        {
          "output_type": "stream",
          "text": [
            "USUARIO\n",
            "CFM Servicios Administrativos           35\n",
            "CFM Servicios Administrativos México    21\n",
            "CFM Servicios administrativos México    23\n",
            "CFM Servicios de Mexico                 33\n",
            "CFM servicios administrativos           45\n",
            "                                        ..\n",
            "Wurth                                    1\n",
            "Würth                                   14\n",
            "Würth Elektronik                         1\n",
            "Würth Elektronik México                 21\n",
            "webasto                                  8\n",
            "Length: 80, dtype: int64\n"
          ],
          "name": "stdout"
        }
      ]
    },
    {
      "cell_type": "code",
      "metadata": {
        "colab": {
          "base_uri": "https://localhost:8080/"
        },
        "id": "yotybLjJHFB6",
        "outputId": "8098ccdb-1a68-422e-d5e1-159e249211a5"
      },
      "source": [
        "df['USUARIO'].value_counts()"
      ],
      "execution_count": 57,
      "outputs": [
        {
          "output_type": "execute_result",
          "data": {
            "text/plain": [
              "Particular                                710\n",
              "Particular (E)                            453\n",
              "Webasto                                   308\n",
              "PARTICULAR                                256\n",
              "WRSI Servicios de Mexico S de RL de CV    222\n",
              "                                         ... \n",
              "Minera La Cantera                           1\n",
              "Particular (C)                              1\n",
              "Desarrolladora Marabis                      1\n",
              "Particular (T)                              1\n",
              "PARTICULAR                                  1\n",
              "Name: USUARIO, Length: 80, dtype: int64"
            ]
          },
          "metadata": {
            "tags": []
          },
          "execution_count": 57
        }
      ]
    },
    {
      "cell_type": "code",
      "metadata": {
        "id": "wlU7sL9SaLpe"
      },
      "source": [
        "# updating the column value/data\n",
        "# df['USUARIO'] = df['USUARIO'].replace({'P': 'A'})\n",
        "  \n",
        "\n",
        "# df2 = df.rename({'a': 'X', 'b': 'Y'}, axis=1)  # new method\n",
        "# df2 = df.rename({'a': 'X', 'b': 'Y'}, axis='columns')\n",
        "# df2 = df.rename(columns={'a': 'X', 'b': 'Y'})  # old method  \n",
        "  \n",
        "  \n",
        "# print(df)"
      ],
      "execution_count": null,
      "outputs": []
    },
    {
      "cell_type": "code",
      "metadata": {
        "id": "iJ7I15-CMR4f"
      },
      "source": [
        "# writing into the file\n",
        "# df.to_csv(\"AllDetails.csv\", index=False)"
      ],
      "execution_count": null,
      "outputs": []
    }
  ]
}