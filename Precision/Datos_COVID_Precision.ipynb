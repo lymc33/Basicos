{
  "nbformat": 4,
  "nbformat_minor": 0,
  "metadata": {
    "colab": {
      "name": "Datos_COVID_Precision.ipynb",
      "provenance": [],
      "authorship_tag": "ABX9TyMtvSUYzFLlE7v/JeGZtMpb",
      "include_colab_link": true
    },
    "kernelspec": {
      "name": "python3",
      "display_name": "Python 3"
    },
    "language_info": {
      "name": "python"
    }
  },
  "cells": [
    {
      "cell_type": "markdown",
      "metadata": {
        "id": "view-in-github",
        "colab_type": "text"
      },
      "source": [
        "<a href=\"https://colab.research.google.com/github/lymc33/Precision/blob/main/Datos_COVID_Precision.ipynb\" target=\"_parent\"><img src=\"https://colab.research.google.com/assets/colab-badge.svg\" alt=\"Open In Colab\"/></a>"
      ]
    },
    {
      "cell_type": "code",
      "metadata": {
        "colab": {
          "base_uri": "https://localhost:8080/"
        },
        "id": "1MLDEuX2zJwT",
        "outputId": "075469fd-24c8-43ff-e02d-d19b6e0133a7"
      },
      "source": [
        "from google.colab import drive\n",
        "drive.mount('/content/drive')"
      ],
      "execution_count": 1,
      "outputs": [
        {
          "output_type": "stream",
          "text": [
            "Drive already mounted at /content/drive; to attempt to forcibly remount, call drive.mount(\"/content/drive\", force_remount=True).\n"
          ],
          "name": "stdout"
        }
      ]
    },
    {
      "cell_type": "code",
      "metadata": {
        "id": "kJRVYqkQzZ1S"
      },
      "source": [
        "import pandas as pd\n",
        "import matplotlib.pyplot as plt\n",
        "import seaborn as sns"
      ],
      "execution_count": 2,
      "outputs": []
    },
    {
      "cell_type": "code",
      "metadata": {
        "id": "EU5lRPERzb5D"
      },
      "source": [
        "df = pd.read_csv('/content/drive/MyDrive/Precision Detect/Resultados/TotalLimpios.csv', header=None)"
      ],
      "execution_count": 3,
      "outputs": []
    },
    {
      "cell_type": "code",
      "metadata": {
        "colab": {
          "base_uri": "https://localhost:8080/",
          "height": 198
        },
        "id": "8uHpPGdS0Fgz",
        "outputId": "efc7c8b7-c96b-49cb-b84e-20b531feca26"
      },
      "source": [
        "df.head()"
      ],
      "execution_count": 4,
      "outputs": [
        {
          "output_type": "execute_result",
          "data": {
            "text/html": [
              "<div>\n",
              "<style scoped>\n",
              "    .dataframe tbody tr th:only-of-type {\n",
              "        vertical-align: middle;\n",
              "    }\n",
              "\n",
              "    .dataframe tbody tr th {\n",
              "        vertical-align: top;\n",
              "    }\n",
              "\n",
              "    .dataframe thead th {\n",
              "        text-align: right;\n",
              "    }\n",
              "</style>\n",
              "<table border=\"1\" class=\"dataframe\">\n",
              "  <thead>\n",
              "    <tr style=\"text-align: right;\">\n",
              "      <th></th>\n",
              "      <th>0</th>\n",
              "      <th>1</th>\n",
              "      <th>2</th>\n",
              "      <th>3</th>\n",
              "      <th>4</th>\n",
              "      <th>5</th>\n",
              "      <th>6</th>\n",
              "      <th>7</th>\n",
              "      <th>8</th>\n",
              "    </tr>\n",
              "  </thead>\n",
              "  <tbody>\n",
              "    <tr>\n",
              "      <th>0</th>\n",
              "      <td>USUARIO</td>\n",
              "      <td>NOMBRE</td>\n",
              "      <td>APELLIDO</td>\n",
              "      <td>SEXO</td>\n",
              "      <td>EDAD</td>\n",
              "      <td>SINTOMAS</td>\n",
              "      <td>ID MUESTRA</td>\n",
              "      <td>FECHA EXTRACCION</td>\n",
              "      <td>RESULTADO</td>\n",
              "    </tr>\n",
              "    <tr>\n",
              "      <th>1</th>\n",
              "      <td>Particular</td>\n",
              "      <td>Adriana</td>\n",
              "      <td>Martínez Solis</td>\n",
              "      <td>Femenino</td>\n",
              "      <td>36.42059939301973</td>\n",
              "      <td>SIN ESPECIFICAR</td>\n",
              "      <td>PD.PD.02.0366</td>\n",
              "      <td>2020-12-02</td>\n",
              "      <td>Negativo</td>\n",
              "    </tr>\n",
              "    <tr>\n",
              "      <th>2</th>\n",
              "      <td>Particular</td>\n",
              "      <td>Liliana</td>\n",
              "      <td>Martínez Solis</td>\n",
              "      <td>Femenino</td>\n",
              "      <td>36.42059939301973</td>\n",
              "      <td>SIN ESPECIFICAR</td>\n",
              "      <td>PD.PD.02.0367</td>\n",
              "      <td>2020-12-02</td>\n",
              "      <td>Negativo</td>\n",
              "    </tr>\n",
              "    <tr>\n",
              "      <th>3</th>\n",
              "      <td>Particular</td>\n",
              "      <td>Diana</td>\n",
              "      <td>Hernández Hernández</td>\n",
              "      <td>Femenino</td>\n",
              "      <td>36.42059939301973</td>\n",
              "      <td>SIN ESPECIFICAR</td>\n",
              "      <td>PD.PD.02.0368</td>\n",
              "      <td>2020-12-02</td>\n",
              "      <td>Negativo</td>\n",
              "    </tr>\n",
              "    <tr>\n",
              "      <th>4</th>\n",
              "      <td>Particular</td>\n",
              "      <td>Gabriel</td>\n",
              "      <td>Márquez Michel</td>\n",
              "      <td>Masculino</td>\n",
              "      <td>36.42059939301973</td>\n",
              "      <td>SIN ESPECIFICAR</td>\n",
              "      <td>PD.PD.02.0369</td>\n",
              "      <td>2020-12-02</td>\n",
              "      <td>Negativo</td>\n",
              "    </tr>\n",
              "  </tbody>\n",
              "</table>\n",
              "</div>"
            ],
            "text/plain": [
              "            0        1  ...                 7          8\n",
              "0     USUARIO   NOMBRE  ...  FECHA EXTRACCION  RESULTADO\n",
              "1  Particular  Adriana  ...        2020-12-02   Negativo\n",
              "2  Particular  Liliana  ...        2020-12-02   Negativo\n",
              "3  Particular    Diana  ...        2020-12-02   Negativo\n",
              "4  Particular  Gabriel  ...        2020-12-02   Negativo\n",
              "\n",
              "[5 rows x 9 columns]"
            ]
          },
          "metadata": {
            "tags": []
          },
          "execution_count": 4
        }
      ]
    },
    {
      "cell_type": "code",
      "metadata": {
        "id": "MYN_plDIB4uE"
      },
      "source": [
        "#Cambiar el nombre de las columnas en el CSV\n",
        "new_header = df.iloc[0] #grab the first row for the header\n",
        "df = df[1:] #take the data less the header row\n",
        "df.columns = new_header #set the header row as the df header"
      ],
      "execution_count": 5,
      "outputs": []
    },
    {
      "cell_type": "code",
      "metadata": {
        "colab": {
          "base_uri": "https://localhost:8080/"
        },
        "id": "QeBhS_KCBdeG",
        "outputId": "85ecc46e-91de-43e3-9382-a420fec390eb"
      },
      "source": [
        "#Título de las columnas\n",
        "list_of_column_names = list(df.columns)\n",
        "  \n",
        "# displaying the list of column names\n",
        "print('List of column names : ', \n",
        "      list_of_column_names)"
      ],
      "execution_count": 6,
      "outputs": [
        {
          "output_type": "stream",
          "text": [
            "List of column names :  ['USUARIO', 'NOMBRE', 'APELLIDO', 'SEXO', 'EDAD', 'SINTOMAS', 'ID MUESTRA', 'FECHA EXTRACCION', 'RESULTADO']\n"
          ],
          "name": "stdout"
        }
      ]
    },
    {
      "cell_type": "code",
      "metadata": {
        "colab": {
          "base_uri": "https://localhost:8080/"
        },
        "id": "JqOEVAGh0Hvc",
        "outputId": "5dcd0549-f736-42d2-b8fc-da9b7ecd71c7"
      },
      "source": [
        "df.shape"
      ],
      "execution_count": 7,
      "outputs": [
        {
          "output_type": "execute_result",
          "data": {
            "text/plain": [
              "(3050, 9)"
            ]
          },
          "metadata": {
            "tags": []
          },
          "execution_count": 7
        }
      ]
    },
    {
      "cell_type": "code",
      "metadata": {
        "id": "I2BjBueXB-vl"
      },
      "source": [
        "dfDiciembre = df[(df['FECHA EXTRACCION']> \"2020-01-01\") & (df['FECHA EXTRACCION']< \"2021-01-01\")]\n",
        "dfEnero = df[(df['FECHA EXTRACCION'] >= \"2021-01-01\") & (df['FECHA EXTRACCION']< \"2021-02-01\")]\n",
        "dfFebrero = df[(df['FECHA EXTRACCION'] >= \"2021-02-01\") & (df['FECHA EXTRACCION']< \"2021-03-01\")]\n",
        "dfMarzo = df[(df['FECHA EXTRACCION'] >= \"2021-03-01\") & (df['FECHA EXTRACCION']< \"2021-04-01\")]\n",
        "dfAbril = df[(df['FECHA EXTRACCION'] >= \"2021-04-01\") & (df['FECHA EXTRACCION']< \"2021-05-01\")]"
      ],
      "execution_count": 8,
      "outputs": []
    },
    {
      "cell_type": "code",
      "metadata": {
        "colab": {
          "base_uri": "https://localhost:8080/"
        },
        "id": "SptwzWSQCIAq",
        "outputId": "1507807f-9222-4a64-dc3d-7a7eccdec7d6"
      },
      "source": [
        "#dfPrueba['FECHA EXTRACCION'].value_counts()\n",
        "dfDiciembre['FECHA EXTRACCION'].value_counts()\n",
        "#dfEnero['FECHA EXTRACCION'].value_counts()\n",
        "#dfFebrero['FECHA EXTRACCION'].value_counts()\n",
        "#dfMarzo['FECHA EXTRACCION'].value_counts()\n",
        "#dfAbril['FECHA EXTRACCION'].value_counts()"
      ],
      "execution_count": 9,
      "outputs": [
        {
          "output_type": "execute_result",
          "data": {
            "text/plain": [
              "2020-12-21    91\n",
              "2020-12-18    85\n",
              "2020-12-23    73\n",
              "2020-12-15    52\n",
              "2020-12-30    45\n",
              "2020-12-10    44\n",
              "2020-12-31    40\n",
              "2020-12-14    35\n",
              "2020-12-03    34\n",
              "2020-12-29    32\n",
              "2020-12-07    30\n",
              "2020-12-22    26\n",
              "2020-12-17    22\n",
              "2020-12-16    22\n",
              "2020-12-09    21\n",
              "2020-12-02    20\n",
              "2020-12-11    17\n",
              "2020-12-08    13\n",
              "2020-12-28    13\n",
              "2020-12-04    13\n",
              "2020-12-24     6\n",
              "Name: FECHA EXTRACCION, dtype: int64"
            ]
          },
          "metadata": {
            "tags": []
          },
          "execution_count": 9
        }
      ]
    },
    {
      "cell_type": "code",
      "metadata": {
        "colab": {
          "base_uri": "https://localhost:8080/",
          "height": 198
        },
        "id": "whtVfATQCKy6",
        "outputId": "82b6b7fc-9744-4a1c-8c43-9c4d4aab36d5"
      },
      "source": [
        "#dfDiciembre.tail()\n",
        "dfEnero.tail()\n",
        "#dfFebrero.tail()\n",
        "#dfMarzo.tail()\n",
        "#dfAbril.tail()"
      ],
      "execution_count": 10,
      "outputs": [
        {
          "output_type": "execute_result",
          "data": {
            "text/html": [
              "<div>\n",
              "<style scoped>\n",
              "    .dataframe tbody tr th:only-of-type {\n",
              "        vertical-align: middle;\n",
              "    }\n",
              "\n",
              "    .dataframe tbody tr th {\n",
              "        vertical-align: top;\n",
              "    }\n",
              "\n",
              "    .dataframe thead th {\n",
              "        text-align: right;\n",
              "    }\n",
              "</style>\n",
              "<table border=\"1\" class=\"dataframe\">\n",
              "  <thead>\n",
              "    <tr style=\"text-align: right;\">\n",
              "      <th></th>\n",
              "      <th>USUARIO</th>\n",
              "      <th>NOMBRE</th>\n",
              "      <th>APELLIDO</th>\n",
              "      <th>SEXO</th>\n",
              "      <th>EDAD</th>\n",
              "      <th>SINTOMAS</th>\n",
              "      <th>ID MUESTRA</th>\n",
              "      <th>FECHA EXTRACCION</th>\n",
              "      <th>RESULTADO</th>\n",
              "    </tr>\n",
              "  </thead>\n",
              "  <tbody>\n",
              "    <tr>\n",
              "      <th>1968</th>\n",
              "      <td>Kromberg</td>\n",
              "      <td>SILVIA LIZETH</td>\n",
              "      <td>MARQUEZ SILVA</td>\n",
              "      <td>Femenino</td>\n",
              "      <td>18.0</td>\n",
              "      <td>No</td>\n",
              "      <td>PD.KR.02.0059</td>\n",
              "      <td>2021-01-29</td>\n",
              "      <td>Negativo</td>\n",
              "    </tr>\n",
              "    <tr>\n",
              "      <th>1969</th>\n",
              "      <td>Kromberg</td>\n",
              "      <td>JESSICA GABRIELA</td>\n",
              "      <td>ARREGUIN CALDERON</td>\n",
              "      <td>Femenino</td>\n",
              "      <td>28.0</td>\n",
              "      <td>No</td>\n",
              "      <td>PD.KR.02.0060</td>\n",
              "      <td>2021-01-29</td>\n",
              "      <td>Negativo</td>\n",
              "    </tr>\n",
              "    <tr>\n",
              "      <th>1970</th>\n",
              "      <td>Particular</td>\n",
              "      <td>Isidro</td>\n",
              "      <td>Garcia Mosqueda</td>\n",
              "      <td>Masculino</td>\n",
              "      <td>67.0</td>\n",
              "      <td>Si</td>\n",
              "      <td>PD.PD.02.1724</td>\n",
              "      <td>2021-01-29</td>\n",
              "      <td>Negativo</td>\n",
              "    </tr>\n",
              "    <tr>\n",
              "      <th>1971</th>\n",
              "      <td>Particular</td>\n",
              "      <td>Guillermina</td>\n",
              "      <td>Aguirre Solis</td>\n",
              "      <td>Femenino</td>\n",
              "      <td>70.0</td>\n",
              "      <td>Si</td>\n",
              "      <td>PD.PD.02.1725</td>\n",
              "      <td>2021-01-29</td>\n",
              "      <td>Negativo</td>\n",
              "    </tr>\n",
              "    <tr>\n",
              "      <th>1972</th>\n",
              "      <td>Particular</td>\n",
              "      <td>Pablo</td>\n",
              "      <td>Munguía Gonzalez</td>\n",
              "      <td>Masculino</td>\n",
              "      <td>71.0</td>\n",
              "      <td>No</td>\n",
              "      <td>PD.PD.02.1726</td>\n",
              "      <td>2021-01-29</td>\n",
              "      <td>Negativo</td>\n",
              "    </tr>\n",
              "  </tbody>\n",
              "</table>\n",
              "</div>"
            ],
            "text/plain": [
              "0        USUARIO            NOMBRE  ... FECHA EXTRACCION RESULTADO\n",
              "1968    Kromberg     SILVIA LIZETH  ...       2021-01-29  Negativo\n",
              "1969    Kromberg  JESSICA GABRIELA  ...       2021-01-29  Negativo\n",
              "1970  Particular            Isidro  ...       2021-01-29  Negativo\n",
              "1971  Particular       Guillermina  ...       2021-01-29  Negativo\n",
              "1972  Particular             Pablo  ...       2021-01-29  Negativo\n",
              "\n",
              "[5 rows x 9 columns]"
            ]
          },
          "metadata": {
            "tags": []
          },
          "execution_count": 10
        }
      ]
    },
    {
      "cell_type": "code",
      "metadata": {
        "id": "RyU0EGteCf9c",
        "colab": {
          "base_uri": "https://localhost:8080/"
        },
        "outputId": "edc0a4c2-334a-4f97-aea5-8c9d4ae40896"
      },
      "source": [
        "df['RESULTADO'].value_counts()"
      ],
      "execution_count": 22,
      "outputs": [
        {
          "output_type": "execute_result",
          "data": {
            "text/plain": [
              "Negativo    2392\n",
              "Positivo     658\n",
              "Name: RESULTADO, dtype: int64"
            ]
          },
          "metadata": {
            "tags": []
          },
          "execution_count": 22
        }
      ]
    },
    {
      "cell_type": "code",
      "metadata": {
        "colab": {
          "base_uri": "https://localhost:8080/"
        },
        "id": "3TZDNqiHKdF5",
        "outputId": "ea52c964-d150-48f7-f6a2-8bafae3039d4"
      },
      "source": [
        "gRESULTADOS = df.groupby(['SEXO', 'EDAD', 'SINTOMAS', 'RESULTADO']).count()['FECHA EXTRACCION']\n",
        "print(gRESULTADOS)"
      ],
      "execution_count": 42,
      "outputs": [
        {
          "output_type": "stream",
          "text": [
            "SEXO       EDAD  SINTOMAS  RESULTADO\n",
            "Femenino   10.0  No        Negativo     2\n",
            "           11.0  No        Negativo     1\n",
            "           12.0  No        Negativo     1\n",
            "                 Si        Positivo     1\n",
            "           13.0  No        Negativo     1\n",
            "                                       ..\n",
            "Masculino  81.0  No        Negativo     1\n",
            "           82.0  No        Negativo     1\n",
            "           86.0  Si        Positivo     1\n",
            "           9.0   No        Negativo     1\n",
            "                           Positivo     1\n",
            "Name: FECHA EXTRACCION, Length: 453, dtype: int64\n"
          ],
          "name": "stdout"
        }
      ]
    },
    {
      "cell_type": "code",
      "metadata": {
        "colab": {
          "base_uri": "https://localhost:8080/",
          "height": 387
        },
        "id": "GZwi4X2WQbBI",
        "outputId": "7a638ff5-fb97-46c7-fcd7-f7558c4f90f8"
      },
      "source": [
        "# plot the result\n",
        "gRESULTADOS.plot()\n",
        "plt.xticks(rotation=45)\n",
        "plt.show()"
      ],
      "execution_count": 43,
      "outputs": [
        {
          "output_type": "display_data",
          "data": {
            "image/png": "[encoded data removed]",
            "text/plain": [
              "<Figure size 432x288 with 1 Axes>"
            ]
          },
          "metadata": {
            "tags": [],
            "needs_background": "light"
          }
        }
      ]
    },
    {
      "cell_type": "code",
      "metadata": {
        "colab": {
          "base_uri": "https://localhost:8080/",
          "height": 279
        },
        "id": "XDiG8zdyRUKT",
        "outputId": "b9bae33a-3bad-4cb2-b8c3-c25cd0059e30"
      },
      "source": [
        "gRESULTADOS = df.groupby(['SEXO']).count()['RESULTADO']\n",
        "\n",
        "gRESULTADOS.plot()\n",
        "plt.show()"
      ],
      "execution_count": 45,
      "outputs": [
        {
          "output_type": "display_data",
          "data": {
            "image/png": "[encoded data removed]",
            "text/plain": [
              "<Figure size 432x288 with 1 Axes>"
            ]
          },
          "metadata": {
            "tags": [],
            "needs_background": "light"
          }
        }
      ]
    },
    {
      "cell_type": "code",
      "metadata": {
        "colab": {
          "base_uri": "https://localhost:8080/",
          "height": 265
        },
        "id": "hUhHRKykKa0Q",
        "outputId": "c211a33f-c329-42b5-d52b-976a9f3e18ff"
      },
      "source": [
        ""
      ],
      "execution_count": 34,
      "outputs": [
        {
          "output_type": "display_data",
          "data": {
            "image/png": "[encoded data removed]",
            "text/plain": [
              "<Figure size 432x288 with 1 Axes>"
            ]
          },
          "metadata": {
            "tags": [],
            "needs_background": "light"
          }
        }
      ]
    },
    {
      "cell_type": "code",
      "metadata": {
        "colab": {
          "base_uri": "https://localhost:8080/",
          "height": 223
        },
        "id": "HKHGOlhfKfW7",
        "outputId": "9ba99dfe-86de-4911-940f-78ed0e7deda9"
      },
      "source": [
        "gRESULTADOS.describe()"
      ],
      "execution_count": 16,
      "outputs": [
        {
          "output_type": "execute_result",
          "data": {
            "text/html": [
              "<div>\n",
              "<style scoped>\n",
              "    .dataframe tbody tr th:only-of-type {\n",
              "        vertical-align: middle;\n",
              "    }\n",
              "\n",
              "    .dataframe tbody tr th {\n",
              "        vertical-align: top;\n",
              "    }\n",
              "\n",
              "    .dataframe thead tr th {\n",
              "        text-align: left;\n",
              "    }\n",
              "\n",
              "    .dataframe thead tr:last-of-type th {\n",
              "        text-align: right;\n",
              "    }\n",
              "</style>\n",
              "<table border=\"1\" class=\"dataframe\">\n",
              "  <thead>\n",
              "    <tr>\n",
              "      <th></th>\n",
              "      <th colspan=\"4\" halign=\"left\">USUARIO</th>\n",
              "      <th colspan=\"4\" halign=\"left\">NOMBRE</th>\n",
              "      <th colspan=\"4\" halign=\"left\">APELLIDO</th>\n",
              "      <th colspan=\"4\" halign=\"left\">SEXO</th>\n",
              "      <th colspan=\"4\" halign=\"left\">EDAD</th>\n",
              "      <th colspan=\"4\" halign=\"left\">SINTOMAS</th>\n",
              "      <th colspan=\"4\" halign=\"left\">ID MUESTRA</th>\n",
              "      <th colspan=\"4\" halign=\"left\">FECHA EXTRACCION</th>\n",
              "    </tr>\n",
              "    <tr>\n",
              "      <th></th>\n",
              "      <th>count</th>\n",
              "      <th>unique</th>\n",
              "      <th>top</th>\n",
              "      <th>freq</th>\n",
              "      <th>count</th>\n",
              "      <th>unique</th>\n",
              "      <th>top</th>\n",
              "      <th>freq</th>\n",
              "      <th>count</th>\n",
              "      <th>unique</th>\n",
              "      <th>top</th>\n",
              "      <th>freq</th>\n",
              "      <th>count</th>\n",
              "      <th>unique</th>\n",
              "      <th>top</th>\n",
              "      <th>freq</th>\n",
              "      <th>count</th>\n",
              "      <th>unique</th>\n",
              "      <th>top</th>\n",
              "      <th>freq</th>\n",
              "      <th>count</th>\n",
              "      <th>unique</th>\n",
              "      <th>top</th>\n",
              "      <th>freq</th>\n",
              "      <th>count</th>\n",
              "      <th>unique</th>\n",
              "      <th>top</th>\n",
              "      <th>freq</th>\n",
              "      <th>count</th>\n",
              "      <th>unique</th>\n",
              "      <th>top</th>\n",
              "      <th>freq</th>\n",
              "    </tr>\n",
              "    <tr>\n",
              "      <th>RESULTADO</th>\n",
              "      <th></th>\n",
              "      <th></th>\n",
              "      <th></th>\n",
              "      <th></th>\n",
              "      <th></th>\n",
              "      <th></th>\n",
              "      <th></th>\n",
              "      <th></th>\n",
              "      <th></th>\n",
              "      <th></th>\n",
              "      <th></th>\n",
              "      <th></th>\n",
              "      <th></th>\n",
              "      <th></th>\n",
              "      <th></th>\n",
              "      <th></th>\n",
              "      <th></th>\n",
              "      <th></th>\n",
              "      <th></th>\n",
              "      <th></th>\n",
              "      <th></th>\n",
              "      <th></th>\n",
              "      <th></th>\n",
              "      <th></th>\n",
              "      <th></th>\n",
              "      <th></th>\n",
              "      <th></th>\n",
              "      <th></th>\n",
              "      <th></th>\n",
              "      <th></th>\n",
              "      <th></th>\n",
              "      <th></th>\n",
              "    </tr>\n",
              "  </thead>\n",
              "  <tbody>\n",
              "    <tr>\n",
              "      <th>Negativo</th>\n",
              "      <td>2392</td>\n",
              "      <td>28</td>\n",
              "      <td>Particular</td>\n",
              "      <td>1170</td>\n",
              "      <td>2392</td>\n",
              "      <td>1753</td>\n",
              "      <td>Maria Guadalupe</td>\n",
              "      <td>12</td>\n",
              "      <td>2392</td>\n",
              "      <td>2093</td>\n",
              "      <td>Ramírez Rodríguez</td>\n",
              "      <td>10</td>\n",
              "      <td>2392</td>\n",
              "      <td>2</td>\n",
              "      <td>Masculino</td>\n",
              "      <td>1333</td>\n",
              "      <td>2392</td>\n",
              "      <td>85</td>\n",
              "      <td>36.42059939301973</td>\n",
              "      <td>311</td>\n",
              "      <td>2392</td>\n",
              "      <td>3</td>\n",
              "      <td>No</td>\n",
              "      <td>1571</td>\n",
              "      <td>2392</td>\n",
              "      <td>2392</td>\n",
              "      <td>PD.PD.02.1759</td>\n",
              "      <td>1</td>\n",
              "      <td>2392</td>\n",
              "      <td>93</td>\n",
              "      <td>2021-01-11</td>\n",
              "      <td>107</td>\n",
              "    </tr>\n",
              "    <tr>\n",
              "      <th>Positivo</th>\n",
              "      <td>658</td>\n",
              "      <td>20</td>\n",
              "      <td>Particular</td>\n",
              "      <td>463</td>\n",
              "      <td>658</td>\n",
              "      <td>554</td>\n",
              "      <td>Maria Guadalupe</td>\n",
              "      <td>7</td>\n",
              "      <td>658</td>\n",
              "      <td>613</td>\n",
              "      <td>Hernandez Nuñez</td>\n",
              "      <td>4</td>\n",
              "      <td>658</td>\n",
              "      <td>2</td>\n",
              "      <td>Masculino</td>\n",
              "      <td>339</td>\n",
              "      <td>658</td>\n",
              "      <td>70</td>\n",
              "      <td>36.42059939301973</td>\n",
              "      <td>103</td>\n",
              "      <td>658</td>\n",
              "      <td>3</td>\n",
              "      <td>Si</td>\n",
              "      <td>339</td>\n",
              "      <td>658</td>\n",
              "      <td>658</td>\n",
              "      <td>PD.MC.02.0021</td>\n",
              "      <td>1</td>\n",
              "      <td>658</td>\n",
              "      <td>68</td>\n",
              "      <td>2021-01-18</td>\n",
              "      <td>42</td>\n",
              "    </tr>\n",
              "  </tbody>\n",
              "</table>\n",
              "</div>"
            ],
            "text/plain": [
              "0         USUARIO                     ... FECHA EXTRACCION                 \n",
              "            count unique         top  ...           unique         top freq\n",
              "RESULTADO                             ...                                  \n",
              "Negativo     2392     28  Particular  ...               93  2021-01-11  107\n",
              "Positivo      658     20  Particular  ...               68  2021-01-18   42\n",
              "\n",
              "[2 rows x 32 columns]"
            ]
          },
          "metadata": {
            "tags": []
          },
          "execution_count": 16
        }
      ]
    },
    {
      "cell_type": "code",
      "metadata": {
        "colab": {
          "base_uri": "https://localhost:8080/",
          "height": 348
        },
        "id": "goKESgl9KfZN",
        "outputId": "2f732d95-67bb-4d02-c348-2a1ff3c20a2c"
      },
      "source": [
        "gRESULTADOS.head()"
      ],
      "execution_count": 21,
      "outputs": [
        {
          "output_type": "execute_result",
          "data": {
            "text/html": [
              "<div>\n",
              "<style scoped>\n",
              "    .dataframe tbody tr th:only-of-type {\n",
              "        vertical-align: middle;\n",
              "    }\n",
              "\n",
              "    .dataframe tbody tr th {\n",
              "        vertical-align: top;\n",
              "    }\n",
              "\n",
              "    .dataframe thead th {\n",
              "        text-align: right;\n",
              "    }\n",
              "</style>\n",
              "<table border=\"1\" class=\"dataframe\">\n",
              "  <thead>\n",
              "    <tr style=\"text-align: right;\">\n",
              "      <th></th>\n",
              "      <th>USUARIO</th>\n",
              "      <th>NOMBRE</th>\n",
              "      <th>APELLIDO</th>\n",
              "      <th>SEXO</th>\n",
              "      <th>EDAD</th>\n",
              "      <th>SINTOMAS</th>\n",
              "      <th>ID MUESTRA</th>\n",
              "      <th>FECHA EXTRACCION</th>\n",
              "      <th>RESULTADO</th>\n",
              "    </tr>\n",
              "  </thead>\n",
              "  <tbody>\n",
              "    <tr>\n",
              "      <th>1</th>\n",
              "      <td>Particular</td>\n",
              "      <td>Adriana</td>\n",
              "      <td>Martínez Solis</td>\n",
              "      <td>Femenino</td>\n",
              "      <td>36.42059939301973</td>\n",
              "      <td>SIN ESPECIFICAR</td>\n",
              "      <td>PD.PD.02.0366</td>\n",
              "      <td>2020-12-02</td>\n",
              "      <td>Negativo</td>\n",
              "    </tr>\n",
              "    <tr>\n",
              "      <th>2</th>\n",
              "      <td>Particular</td>\n",
              "      <td>Liliana</td>\n",
              "      <td>Martínez Solis</td>\n",
              "      <td>Femenino</td>\n",
              "      <td>36.42059939301973</td>\n",
              "      <td>SIN ESPECIFICAR</td>\n",
              "      <td>PD.PD.02.0367</td>\n",
              "      <td>2020-12-02</td>\n",
              "      <td>Negativo</td>\n",
              "    </tr>\n",
              "    <tr>\n",
              "      <th>3</th>\n",
              "      <td>Particular</td>\n",
              "      <td>Diana</td>\n",
              "      <td>Hernández Hernández</td>\n",
              "      <td>Femenino</td>\n",
              "      <td>36.42059939301973</td>\n",
              "      <td>SIN ESPECIFICAR</td>\n",
              "      <td>PD.PD.02.0368</td>\n",
              "      <td>2020-12-02</td>\n",
              "      <td>Negativo</td>\n",
              "    </tr>\n",
              "    <tr>\n",
              "      <th>4</th>\n",
              "      <td>Particular</td>\n",
              "      <td>Gabriel</td>\n",
              "      <td>Márquez Michel</td>\n",
              "      <td>Masculino</td>\n",
              "      <td>36.42059939301973</td>\n",
              "      <td>SIN ESPECIFICAR</td>\n",
              "      <td>PD.PD.02.0369</td>\n",
              "      <td>2020-12-02</td>\n",
              "      <td>Negativo</td>\n",
              "    </tr>\n",
              "    <tr>\n",
              "      <th>5</th>\n",
              "      <td>Particular</td>\n",
              "      <td>María Esther</td>\n",
              "      <td>Gutiérrez Panales</td>\n",
              "      <td>Femenino</td>\n",
              "      <td>36.42059939301973</td>\n",
              "      <td>SIN ESPECIFICAR</td>\n",
              "      <td>PD.PD.02.0370</td>\n",
              "      <td>2020-12-02</td>\n",
              "      <td>Negativo</td>\n",
              "    </tr>\n",
              "    <tr>\n",
              "      <th>8</th>\n",
              "      <td>Particular</td>\n",
              "      <td>Norma Azucena</td>\n",
              "      <td>Beltrán Ramírez</td>\n",
              "      <td>Femenino</td>\n",
              "      <td>36.42059939301973</td>\n",
              "      <td>SIN ESPECIFICAR</td>\n",
              "      <td>PD.PD.02.0373</td>\n",
              "      <td>2020-12-02</td>\n",
              "      <td>Positivo</td>\n",
              "    </tr>\n",
              "    <tr>\n",
              "      <th>10</th>\n",
              "      <td>Particular</td>\n",
              "      <td>Silvia</td>\n",
              "      <td>Chacón Segovia</td>\n",
              "      <td>Femenino</td>\n",
              "      <td>36.42059939301973</td>\n",
              "      <td>SIN ESPECIFICAR</td>\n",
              "      <td>PD.PD.02.0375</td>\n",
              "      <td>2020-12-02</td>\n",
              "      <td>Positivo</td>\n",
              "    </tr>\n",
              "    <tr>\n",
              "      <th>12</th>\n",
              "      <td>Particular</td>\n",
              "      <td>Luis Ángel</td>\n",
              "      <td>Vences Kim</td>\n",
              "      <td>Masculino</td>\n",
              "      <td>36.42059939301973</td>\n",
              "      <td>SIN ESPECIFICAR</td>\n",
              "      <td>PD.PD.02.0377</td>\n",
              "      <td>2020-12-02</td>\n",
              "      <td>Positivo</td>\n",
              "    </tr>\n",
              "    <tr>\n",
              "      <th>29</th>\n",
              "      <td>Poder Judicial</td>\n",
              "      <td>RAUL</td>\n",
              "      <td>SILVA ÁVILA</td>\n",
              "      <td>Masculino</td>\n",
              "      <td>36.42059939301973</td>\n",
              "      <td>SIN ESPECIFICAR</td>\n",
              "      <td>PD.PJ.02.0009</td>\n",
              "      <td>2020-12-03</td>\n",
              "      <td>Positivo</td>\n",
              "    </tr>\n",
              "    <tr>\n",
              "      <th>37</th>\n",
              "      <td>Minera La Cantera</td>\n",
              "      <td>Víctor Manuel</td>\n",
              "      <td>Hernández Mendez</td>\n",
              "      <td>Masculino</td>\n",
              "      <td>36.42059939301973</td>\n",
              "      <td>SIN ESPECIFICAR</td>\n",
              "      <td>PD.MC.02.0021</td>\n",
              "      <td>2020-12-03</td>\n",
              "      <td>Positivo</td>\n",
              "    </tr>\n",
              "  </tbody>\n",
              "</table>\n",
              "</div>"
            ],
            "text/plain": [
              "0             USUARIO         NOMBRE  ... FECHA EXTRACCION RESULTADO\n",
              "1          Particular        Adriana  ...       2020-12-02  Negativo\n",
              "2          Particular        Liliana  ...       2020-12-02  Negativo\n",
              "3          Particular          Diana  ...       2020-12-02  Negativo\n",
              "4          Particular        Gabriel  ...       2020-12-02  Negativo\n",
              "5          Particular   María Esther  ...       2020-12-02  Negativo\n",
              "8          Particular  Norma Azucena  ...       2020-12-02  Positivo\n",
              "10         Particular         Silvia  ...       2020-12-02  Positivo\n",
              "12         Particular     Luis Ángel  ...       2020-12-02  Positivo\n",
              "29     Poder Judicial           RAUL  ...       2020-12-03  Positivo\n",
              "37  Minera La Cantera  Víctor Manuel  ...       2020-12-03  Positivo\n",
              "\n",
              "[10 rows x 9 columns]"
            ]
          },
          "metadata": {
            "tags": []
          },
          "execution_count": 21
        }
      ]
    },
    {
      "cell_type": "code",
      "metadata": {
        "id": "UE9BA4yuKfbj"
      },
      "source": [
        ""
      ],
      "execution_count": null,
      "outputs": []
    },
    {
      "cell_type": "code",
      "metadata": {
        "id": "GLht4baSKfdx"
      },
      "source": [
        "# Datos agrupados por sexo\n",
        "#grouped_data = surveys_df.groupby('sex')\n",
        "\n",
        "#grouped_data.describe()\n",
        "#grouped_data.mean()"
      ],
      "execution_count": null,
      "outputs": []
    },
    {
      "cell_type": "code",
      "metadata": {
        "id": "SoUtnY9MKff7"
      },
      "source": [
        "# GRAFICAS\n",
        "\n",
        "#Aseguremonos de que las imágenes aparezcan insertadas en iPython Notebook\n",
        "\n",
        "#%matplotlib inline\n",
        "\n",
        "# Creaemos una gráfica de barras\n",
        "\n",
        "#species_counts.plot(kind='bar');"
      ],
      "execution_count": null,
      "outputs": []
    },
    {
      "cell_type": "code",
      "metadata": {
        "id": "oKKZxmJZKilu"
      },
      "source": [
        "# Graficar datos apilados de modo que las columnas 'one' y 'two' estén apiladas\n",
        "#my_df = pd.DataFrame(d)\n",
        "#my_df.plot(kind='bar',stacked=True,title=\"The title of my graph\")\n",
        "\n",
        "\n",
        "#.unstack()"
      ],
      "execution_count": null,
      "outputs": []
    }
  ]
}