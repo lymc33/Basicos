{
  "nbformat": 4,
  "nbformat_minor": 0,
  "metadata": {
    "colab": {
      "name": "ClientesV1.ipynb",
      "provenance": [],
      "collapsed_sections": [],
      "authorship_tag": "ABX9TyN3K02UhUZf06mY6Q5Ou2zt",
      "include_colab_link": true
    },
    "kernelspec": {
      "name": "python3",
      "display_name": "Python 3"
    },
    "language_info": {
      "name": "python"
    }
  },
  "cells": [
    {
      "cell_type": "markdown",
      "metadata": {
        "id": "view-in-github",
        "colab_type": "text"
      },
      "source": [
        "<a href=\"https://colab.research.google.com/github/lymc33/Precision/blob/main/ClientesV2.ipynb\" target=\"_parent\"><img src=\"https://colab.research.google.com/assets/colab-badge.svg\" alt=\"Open In Colab\"/></a>"
      ]
    },
    {
      "cell_type": "markdown",
      "metadata": {
        "id": "Cd_R18gdEsbn"
      },
      "source": [
        "# Código de Precision Detect para analizar resultados"
      ]
    },
    {
      "cell_type": "markdown",
      "metadata": {
        "id": "yWudSZUkFBYz"
      },
      "source": [
        "## Analisis general "
      ]
    },
    {
      "cell_type": "code",
      "metadata": {
        "colab": {
          "base_uri": "https://localhost:8080/"
        },
        "id": "gJ7h3ykoYeMc",
        "outputId": "31e3ae5e-bf94-4f68-91f5-c722035bf5eb"
      },
      "source": [
        "from google.colab import drive\n",
        "drive.mount('/content/drive')"
      ],
      "execution_count": 1,
      "outputs": [
        {
          "output_type": "stream",
          "text": [
            "Drive already mounted at /content/drive; to attempt to forcibly remount, call drive.mount(\"/content/drive\", force_remount=True).\n"
          ],
          "name": "stdout"
        }
      ]
    },
    {
      "cell_type": "code",
      "metadata": {
        "id": "OWt9BL70ZMeE"
      },
      "source": [
        "import pandas as pd\n",
        "import matplotlib.pyplot as plt\n",
        "import seaborn as sns"
      ],
      "execution_count": 2,
      "outputs": []
    },
    {
      "cell_type": "code",
      "metadata": {
        "id": "PgEX1UrCZ4Ac"
      },
      "source": [
        "df = pd.read_csv('/content/drive/MyDrive/Precision Detect/Resultados/TOTAL dic-abril 2021.csv', header=None)"
      ],
      "execution_count": 3,
      "outputs": []
    },
    {
      "cell_type": "code",
      "metadata": {
        "colab": {
          "base_uri": "https://localhost:8080/",
          "height": 322
        },
        "id": "9MBdC7NyZ9hK",
        "outputId": "f0c421d9-28e2-420c-90d2-5e25ae4ce5a0"
      },
      "source": [
        "df.head()"
      ],
      "execution_count": 4,
      "outputs": [
        {
          "output_type": "execute_result",
          "data": {
            "text/html": [
              "<div>\n",
              "<style scoped>\n",
              "    .dataframe tbody tr th:only-of-type {\n",
              "        vertical-align: middle;\n",
              "    }\n",
              "\n",
              "    .dataframe tbody tr th {\n",
              "        vertical-align: top;\n",
              "    }\n",
              "\n",
              "    .dataframe thead th {\n",
              "        text-align: right;\n",
              "    }\n",
              "</style>\n",
              "<table border=\"1\" class=\"dataframe\">\n",
              "  <thead>\n",
              "    <tr style=\"text-align: right;\">\n",
              "      <th></th>\n",
              "      <th>0</th>\n",
              "      <th>1</th>\n",
              "      <th>2</th>\n",
              "      <th>3</th>\n",
              "      <th>4</th>\n",
              "      <th>5</th>\n",
              "      <th>6</th>\n",
              "      <th>7</th>\n",
              "      <th>8</th>\n",
              "      <th>9</th>\n",
              "      <th>10</th>\n",
              "      <th>11</th>\n",
              "      <th>12</th>\n",
              "      <th>13</th>\n",
              "      <th>14</th>\n",
              "      <th>15</th>\n",
              "      <th>16</th>\n",
              "      <th>17</th>\n",
              "      <th>18</th>\n",
              "      <th>19</th>\n",
              "      <th>20</th>\n",
              "      <th>21</th>\n",
              "      <th>22</th>\n",
              "      <th>23</th>\n",
              "      <th>24</th>\n",
              "      <th>25</th>\n",
              "      <th>26</th>\n",
              "    </tr>\n",
              "  </thead>\n",
              "  <tbody>\n",
              "    <tr>\n",
              "      <th>0</th>\n",
              "      <td>FOLIO</td>\n",
              "      <td>CLIENTE</td>\n",
              "      <td>USUARIO</td>\n",
              "      <td>FECHA DE TOMA DE MUESTRA</td>\n",
              "      <td>MUNICIPIO</td>\n",
              "      <td>ESTADO</td>\n",
              "      <td>NOMBRE</td>\n",
              "      <td>APELLIDO</td>\n",
              "      <td>SEXO</td>\n",
              "      <td>EDAD</td>\n",
              "      <td>SINTOMAS</td>\n",
              "      <td>HOSPITALARIA O AMBULATORIA</td>\n",
              "      <td>CURP</td>\n",
              "      <td>TELEFONO</td>\n",
              "      <td>CORREO</td>\n",
              "      <td>CALLE</td>\n",
              "      <td>NUMERO</td>\n",
              "      <td>INTERIOR</td>\n",
              "      <td>COLONIA</td>\n",
              "      <td>MUNICIPIO</td>\n",
              "      <td>CP</td>\n",
              "      <td>ESTADO</td>\n",
              "      <td>DATOS DE MUESTRA</td>\n",
              "      <td>ID MUESTRA</td>\n",
              "      <td>FECHA EXTRACCION</td>\n",
              "      <td>FECHA DETECCION</td>\n",
              "      <td>RESULTADO</td>\n",
              "    </tr>\n",
              "    <tr>\n",
              "      <th>1</th>\n",
              "      <td>3</td>\n",
              "      <td>PrecisionDetect</td>\n",
              "      <td>Particular</td>\n",
              "      <td>12/02/2020</td>\n",
              "      <td>Irapuato</td>\n",
              "      <td>Guanajuato</td>\n",
              "      <td>Adriana</td>\n",
              "      <td>Martínez Solis</td>\n",
              "      <td>F</td>\n",
              "      <td>NaN</td>\n",
              "      <td>NaN</td>\n",
              "      <td>NaN</td>\n",
              "      <td>NaN</td>\n",
              "      <td>4626292668</td>\n",
              "      <td>adriana_mtzs@outlook.com</td>\n",
              "      <td>NaN</td>\n",
              "      <td>NaN</td>\n",
              "      <td>NaN</td>\n",
              "      <td>NaN</td>\n",
              "      <td>NaN</td>\n",
              "      <td>NaN</td>\n",
              "      <td>NaN</td>\n",
              "      <td>NaN</td>\n",
              "      <td>PD.PD.02.0366</td>\n",
              "      <td>2020-12-02</td>\n",
              "      <td>NaN</td>\n",
              "      <td>Negativo</td>\n",
              "    </tr>\n",
              "    <tr>\n",
              "      <th>2</th>\n",
              "      <td>4</td>\n",
              "      <td>PrecisionDetect</td>\n",
              "      <td>Particular</td>\n",
              "      <td>12/02/2020</td>\n",
              "      <td>Irapuato</td>\n",
              "      <td>Guanajuato</td>\n",
              "      <td>Liliana</td>\n",
              "      <td>Martínez Solis</td>\n",
              "      <td>F</td>\n",
              "      <td>NaN</td>\n",
              "      <td>NaN</td>\n",
              "      <td>NaN</td>\n",
              "      <td>NaN</td>\n",
              "      <td>4626292664</td>\n",
              "      <td>lilimtzsolis@gmail.com</td>\n",
              "      <td>NaN</td>\n",
              "      <td>NaN</td>\n",
              "      <td>NaN</td>\n",
              "      <td>NaN</td>\n",
              "      <td>NaN</td>\n",
              "      <td>NaN</td>\n",
              "      <td>NaN</td>\n",
              "      <td>NaN</td>\n",
              "      <td>PD.PD.02.0367</td>\n",
              "      <td>2020-12-02</td>\n",
              "      <td>NaN</td>\n",
              "      <td>Negativo</td>\n",
              "    </tr>\n",
              "    <tr>\n",
              "      <th>3</th>\n",
              "      <td>5</td>\n",
              "      <td>PrecisionDetect</td>\n",
              "      <td>Particular</td>\n",
              "      <td>12/02/2020</td>\n",
              "      <td>Irapuato</td>\n",
              "      <td>Guanajuato</td>\n",
              "      <td>Diana</td>\n",
              "      <td>Hernández Hernández</td>\n",
              "      <td>F</td>\n",
              "      <td>NaN</td>\n",
              "      <td>NaN</td>\n",
              "      <td>NaN</td>\n",
              "      <td>NaN</td>\n",
              "      <td>4621100886</td>\n",
              "      <td>dianahhz@hotmail.com</td>\n",
              "      <td>NaN</td>\n",
              "      <td>NaN</td>\n",
              "      <td>NaN</td>\n",
              "      <td>NaN</td>\n",
              "      <td>NaN</td>\n",
              "      <td>NaN</td>\n",
              "      <td>NaN</td>\n",
              "      <td>NaN</td>\n",
              "      <td>PD.PD.02.0368</td>\n",
              "      <td>2020-12-02</td>\n",
              "      <td>NaN</td>\n",
              "      <td>Negativo</td>\n",
              "    </tr>\n",
              "    <tr>\n",
              "      <th>4</th>\n",
              "      <td>6</td>\n",
              "      <td>PrecisionDetect</td>\n",
              "      <td>Particular</td>\n",
              "      <td>12/02/2020</td>\n",
              "      <td>Irapuato</td>\n",
              "      <td>Guanajuato</td>\n",
              "      <td>Gabriel</td>\n",
              "      <td>Márquez Michel</td>\n",
              "      <td>M</td>\n",
              "      <td>NaN</td>\n",
              "      <td>NaN</td>\n",
              "      <td>NaN</td>\n",
              "      <td>NaN</td>\n",
              "      <td>462 152 1659</td>\n",
              "      <td>gmup@yahoo.com</td>\n",
              "      <td>NaN</td>\n",
              "      <td>NaN</td>\n",
              "      <td>NaN</td>\n",
              "      <td>NaN</td>\n",
              "      <td>NaN</td>\n",
              "      <td>NaN</td>\n",
              "      <td>NaN</td>\n",
              "      <td>NaN</td>\n",
              "      <td>PD.PD.02.0369</td>\n",
              "      <td>2020-12-02</td>\n",
              "      <td>NaN</td>\n",
              "      <td>Negativo</td>\n",
              "    </tr>\n",
              "  </tbody>\n",
              "</table>\n",
              "</div>"
            ],
            "text/plain": [
              "      0                1   ...               25         26\n",
              "0  FOLIO          CLIENTE  ...  FECHA DETECCION  RESULTADO\n",
              "1      3  PrecisionDetect  ...              NaN   Negativo\n",
              "2      4  PrecisionDetect  ...              NaN   Negativo\n",
              "3      5  PrecisionDetect  ...              NaN   Negativo\n",
              "4      6  PrecisionDetect  ...              NaN   Negativo\n",
              "\n",
              "[5 rows x 27 columns]"
            ]
          },
          "metadata": {
            "tags": []
          },
          "execution_count": 4
        }
      ]
    },
    {
      "cell_type": "code",
      "metadata": {
        "colab": {
          "base_uri": "https://localhost:8080/"
        },
        "id": "bBX_XWDEaBIi",
        "outputId": "a3be845b-1c51-4775-e835-384c65f6b481"
      },
      "source": [
        "df.shape"
      ],
      "execution_count": 5,
      "outputs": [
        {
          "output_type": "execute_result",
          "data": {
            "text/plain": [
              "(3121, 27)"
            ]
          },
          "metadata": {
            "tags": []
          },
          "execution_count": 5
        }
      ]
    },
    {
      "cell_type": "code",
      "metadata": {
        "colab": {
          "base_uri": "https://localhost:8080/"
        },
        "id": "49XjI8FyewuB",
        "outputId": "0ae5ddce-aba1-430d-f9de-f92437c69fe8"
      },
      "source": [
        "#Título de las columnas\n",
        "list_of_column_names = list(df.columns)\n",
        "print('List of column names : ', \n",
        "      list_of_column_names)"
      ],
      "execution_count": 6,
      "outputs": [
        {
          "output_type": "stream",
          "text": [
            "List of column names :  [0, 1, 2, 3, 4, 5, 6, 7, 8, 9, 10, 11, 12, 13, 14, 15, 16, 17, 18, 19, 20, 21, 22, 23, 24, 25, 26]\n"
          ],
          "name": "stdout"
        }
      ]
    },
    {
      "cell_type": "code",
      "metadata": {
        "colab": {
          "base_uri": "https://localhost:8080/"
        },
        "id": "2pLsP5_TmWYx",
        "outputId": "f340873f-84fe-4867-aa4c-463473a8dffd"
      },
      "source": [
        "print(df[11])"
      ],
      "execution_count": 7,
      "outputs": [
        {
          "output_type": "stream",
          "text": [
            "0       HOSPITALARIA O AMBULATORIA\n",
            "1                              NaN\n",
            "2                              NaN\n",
            "3                              NaN\n",
            "4                              NaN\n",
            "                   ...            \n",
            "3116                             A\n",
            "3117                             A\n",
            "3118                             A\n",
            "3119                             A\n",
            "3120                             A\n",
            "Name: 11, Length: 3121, dtype: object\n"
          ],
          "name": "stdout"
        }
      ]
    },
    {
      "cell_type": "code",
      "metadata": {
        "id": "AHaOUfwScyvx"
      },
      "source": [
        "df.drop([0, 1, 3, 4, 5, 11, 12, 13, 14, 15, 16, 17, 18, 19, 20, 21, 22, 25], axis=1, inplace=True)"
      ],
      "execution_count": 8,
      "outputs": []
    },
    {
      "cell_type": "code",
      "metadata": {
        "colab": {
          "base_uri": "https://localhost:8080/"
        },
        "id": "TpLKpVv49cRq",
        "outputId": "c977d901-7956-48ce-d964-1656f0d3a943"
      },
      "source": [
        "df.index.values"
      ],
      "execution_count": 9,
      "outputs": [
        {
          "output_type": "execute_result",
          "data": {
            "text/plain": [
              "array([   0,    1,    2, ..., 3118, 3119, 3120])"
            ]
          },
          "metadata": {
            "tags": []
          },
          "execution_count": 9
        }
      ]
    },
    {
      "cell_type": "code",
      "metadata": {
        "id": "lYMG8xUmgAX0"
      },
      "source": [
        "#Cambiar el nombre de las columnas en el CSV\n",
        "new_header = df.iloc[0] #grab the first row for the header\n",
        "df = df[1:] #take the data less the header row\n",
        "df.columns = new_header #set the header row as the df header"
      ],
      "execution_count": 10,
      "outputs": []
    },
    {
      "cell_type": "code",
      "metadata": {
        "id": "--tUiIBmhTuj",
        "colab": {
          "base_uri": "https://localhost:8080/"
        },
        "outputId": "450e7bb1-28d1-466e-8c44-143f0f040f26"
      },
      "source": [
        "#Título de las columnas\n",
        "list_of_column_names = list(df.columns)\n",
        "  \n",
        "# displaying the list of column names\n",
        "print('List of column names : ', \n",
        "      list_of_column_names)"
      ],
      "execution_count": 11,
      "outputs": [
        {
          "output_type": "stream",
          "text": [
            "List of column names :  ['USUARIO', 'NOMBRE', 'APELLIDO', 'SEXO', 'EDAD', 'SINTOMAS', 'ID MUESTRA', 'FECHA EXTRACCION', 'RESULTADO']\n"
          ],
          "name": "stdout"
        }
      ]
    },
    {
      "cell_type": "code",
      "metadata": {
        "colab": {
          "base_uri": "https://localhost:8080/"
        },
        "id": "E-SIkM90uY0H",
        "outputId": "0d19bc39-97d9-4ecb-9d97-158c82fad97d"
      },
      "source": [
        "df.index.values"
      ],
      "execution_count": 12,
      "outputs": [
        {
          "output_type": "execute_result",
          "data": {
            "text/plain": [
              "array([   1,    2,    3, ..., 3118, 3119, 3120])"
            ]
          },
          "metadata": {
            "tags": []
          },
          "execution_count": 12
        }
      ]
    },
    {
      "cell_type": "markdown",
      "metadata": {
        "id": "ac-nAaCIKhZQ"
      },
      "source": [
        "## Limpieza de Data Frame"
      ]
    },
    {
      "cell_type": "markdown",
      "metadata": {
        "id": "I7kcnB7EFNyK"
      },
      "source": [
        "### Eliminación de duplicados"
      ]
    },
    {
      "cell_type": "code",
      "metadata": {
        "id": "cDN2BQi1c3Ih",
        "colab": {
          "base_uri": "https://localhost:8080/"
        },
        "outputId": "39b98902-6e0c-4e1c-83a9-f43a335b75ee"
      },
      "source": [
        "df['ID MUESTRA']"
      ],
      "execution_count": 13,
      "outputs": [
        {
          "output_type": "execute_result",
          "data": {
            "text/plain": [
              "1       PD.PD.02.0366\n",
              "2       PD.PD.02.0367\n",
              "3       PD.PD.02.0368\n",
              "4       PD.PD.02.0369\n",
              "5       PD.PD.02.0370\n",
              "            ...      \n",
              "3116    PD.PD.02.2118\n",
              "3117    PD.WB.02.0323\n",
              "3118    PD.PD.02.2119\n",
              "3119    PD.WB.02.0324\n",
              "3120    PD.WB.02.0325\n",
              "Name: ID MUESTRA, Length: 3120, dtype: object"
            ]
          },
          "metadata": {
            "tags": []
          },
          "execution_count": 13
        }
      ]
    },
    {
      "cell_type": "code",
      "metadata": {
        "colab": {
          "base_uri": "https://localhost:8080/"
        },
        "id": "0bUdb5e9vUl-",
        "outputId": "13035ad5-9de1-4eb4-9471-9a589fbe2639"
      },
      "source": [
        "#Archivos duplicados según ID Muestra\n",
        "df['ID MUESTRA'].duplicated().sum()"
      ],
      "execution_count": 14,
      "outputs": [
        {
          "output_type": "execute_result",
          "data": {
            "text/plain": [
              "35"
            ]
          },
          "metadata": {
            "tags": []
          },
          "execution_count": 14
        }
      ]
    },
    {
      "cell_type": "code",
      "metadata": {
        "colab": {
          "base_uri": "https://localhost:8080/"
        },
        "id": "ra6EBiTp4PKC",
        "outputId": "39c9ca9a-fa25-4019-94e6-8b2258866caa"
      },
      "source": [
        "duplicates = df[df['ID MUESTRA'].duplicated(keep=False)]['ID MUESTRA'].tolist()\n",
        "duplicates"
      ],
      "execution_count": 15,
      "outputs": [
        {
          "output_type": "execute_result",
          "data": {
            "text/plain": [
              "['PD.F&P.02.21',\n",
              " 'PD.F&P.02.21',\n",
              " 'PD.KR.02.0001',\n",
              " 'PD.KR.02.0002',\n",
              " 'PD.KR.02.0003',\n",
              " 'PD.KR.02.0004',\n",
              " 'PD.KR.02.0005',\n",
              " 'PD.KR.02.0006',\n",
              " 'PD.KR.02.0001',\n",
              " 'PD.KR.02.0002',\n",
              " 'PD.KR.02.0003',\n",
              " 'PD.KR.02.0004',\n",
              " 'PD.KR.02.0005',\n",
              " 'PD.KR.02.0006',\n",
              " 'PD.WR.02.0014',\n",
              " 'PD.WR.02.0015',\n",
              " 'PD.WR.02.0016',\n",
              " 'PD.WR.02.0017',\n",
              " 'PD.WR.02.0018',\n",
              " 'PD.WR.02.0019',\n",
              " 'PD.WR.02.0020',\n",
              " 'PD.WR.02.0021',\n",
              " 'PD.WR.02.0022',\n",
              " 'PD.WR.02.0014',\n",
              " 'PD.WR.02.0015',\n",
              " 'PD.WR.02.0016',\n",
              " 'PD.WR.02.0017',\n",
              " 'PD.WR.02.0018',\n",
              " 'PD.WR.02.0019',\n",
              " 'PD.WR.02.0020',\n",
              " 'PD.WR.02.0021',\n",
              " 'PD.WR.02.0022',\n",
              " 'PD.CFM.02.0012',\n",
              " 'PD.CFM.02.0013',\n",
              " 'PD.CFM.02.0014',\n",
              " 'PD.CFM.02.0015',\n",
              " 'PD.CFM.02.0016',\n",
              " 'PD.WR.02.0023',\n",
              " 'PD.WR.02.0024',\n",
              " 'PD.WR.02.0025',\n",
              " 'PD.WR.02.0026',\n",
              " 'PD.WR.02.0027',\n",
              " 'PD.CFM.02.0012',\n",
              " 'PD.CFM.02.0013',\n",
              " 'PD.CFM.02.0014',\n",
              " 'PD.CFM.02.0015',\n",
              " 'PD.CFM.02.0016',\n",
              " 'PD.WR.02.0023',\n",
              " 'PD.WR.02.0024',\n",
              " 'PD.WR.02.0025',\n",
              " 'PD.WR.02.0026',\n",
              " 'PD.WR.02.0027',\n",
              " 'PD.CO.02.0015',\n",
              " 'PD.CO.02.0016',\n",
              " 'PD.CO.02.0017',\n",
              " 'PD.WÜ.02.0001',\n",
              " 'PD.WÜ.02.0002',\n",
              " 'PD.WÜ.02.0003',\n",
              " 'PD.WÜ.02.0004',\n",
              " 'PD.WÜ.02.0005',\n",
              " 'PD.CO.02.0015',\n",
              " 'PD.CO.02.0016',\n",
              " 'PD.CO.02.0017',\n",
              " 'PD.WÜ.02.0001',\n",
              " 'PD.WÜ.02.0002',\n",
              " 'PD.WÜ.02.0003',\n",
              " 'PD.WÜ.02.0004',\n",
              " 'PD.WÜ.02.0005',\n",
              " 'PD.PD.02.2002',\n",
              " 'PD.PD.02.2002']"
            ]
          },
          "metadata": {
            "tags": []
          },
          "execution_count": 15
        }
      ]
    },
    {
      "cell_type": "code",
      "metadata": {
        "colab": {
          "base_uri": "https://localhost:8080/"
        },
        "id": "Mh_szvKrwrbA",
        "outputId": "4f6d1270-46f7-4a85-e282-4489705525de"
      },
      "source": [
        "#Lista de elementos duplicados de acuerdo al ID\n",
        "duplicates = df[df['ID MUESTRA'].duplicated(keep=False)]['ID MUESTRA'].index\n",
        "duplicates"
      ],
      "execution_count": 16,
      "outputs": [
        {
          "output_type": "execute_result",
          "data": {
            "text/plain": [
              "Int64Index([  50,  164,  776,  777,  778,  779,  780,  781,  819,  820,  821,\n",
              "             822,  823,  824,  832,  833,  834,  835,  836,  837,  838,  839,\n",
              "             840,  843,  844,  845,  846,  847,  848,  849,  850,  851,  852,\n",
              "             853,  854,  855,  856,  867,  868,  869,  870,  871,  881,  882,\n",
              "             883,  884,  885,  899,  900,  901,  902,  903,  917,  918,  919,\n",
              "             953,  954,  955,  956,  957,  958,  959,  960,  964,  965,  966,\n",
              "             967,  968, 2659, 2661],\n",
              "           dtype='int64')"
            ]
          },
          "metadata": {
            "tags": []
          },
          "execution_count": 16
        }
      ]
    },
    {
      "cell_type": "code",
      "metadata": {
        "id": "YuZW2V4-2GhH"
      },
      "source": [
        "df.drop(labels=duplicates, axis=0, index=None, columns=None, level=None, inplace=True, errors='raise')"
      ],
      "execution_count": 17,
      "outputs": []
    },
    {
      "cell_type": "markdown",
      "metadata": {
        "id": "XzSqp-ytJs4T"
      },
      "source": [
        "### Limpieza en \"SINTOMAS\""
      ]
    },
    {
      "cell_type": "code",
      "metadata": {
        "colab": {
          "base_uri": "https://localhost:8080/"
        },
        "id": "_t6zNlOWH9_b",
        "outputId": "225c59fe-44fa-4f3a-d673-42ef304608f4"
      },
      "source": [
        "df.dtypes"
      ],
      "execution_count": 18,
      "outputs": [
        {
          "output_type": "execute_result",
          "data": {
            "text/plain": [
              "0\n",
              "USUARIO             object\n",
              "NOMBRE              object\n",
              "APELLIDO            object\n",
              "SEXO                object\n",
              "EDAD                object\n",
              "SINTOMAS            object\n",
              "ID MUESTRA          object\n",
              "FECHA EXTRACCION    object\n",
              "RESULTADO           object\n",
              "dtype: object"
            ]
          },
          "metadata": {
            "tags": []
          },
          "execution_count": 18
        }
      ]
    },
    {
      "cell_type": "code",
      "metadata": {
        "colab": {
          "base_uri": "https://localhost:8080/"
        },
        "id": "dXBgB998113y",
        "outputId": "f7a85c1c-ef20-46d0-809c-c61aea888f52"
      },
      "source": [
        "df.shape"
      ],
      "execution_count": 19,
      "outputs": [
        {
          "output_type": "execute_result",
          "data": {
            "text/plain": [
              "(3050, 9)"
            ]
          },
          "metadata": {
            "tags": []
          },
          "execution_count": 19
        }
      ]
    },
    {
      "cell_type": "code",
      "metadata": {
        "colab": {
          "base_uri": "https://localhost:8080/"
        },
        "id": "tKSqCe8Cz5x9",
        "outputId": "3a493898-3523-41f9-9cc8-ee930f394dae"
      },
      "source": [
        "df.isnull().sum()"
      ],
      "execution_count": 20,
      "outputs": [
        {
          "output_type": "execute_result",
          "data": {
            "text/plain": [
              "0\n",
              "USUARIO               0\n",
              "NOMBRE                0\n",
              "APELLIDO              0\n",
              "SEXO                  0\n",
              "EDAD                414\n",
              "SINTOMAS            415\n",
              "ID MUESTRA            0\n",
              "FECHA EXTRACCION      0\n",
              "RESULTADO             0\n",
              "dtype: int64"
            ]
          },
          "metadata": {
            "tags": []
          },
          "execution_count": 20
        }
      ]
    },
    {
      "cell_type": "code",
      "metadata": {
        "id": "6nM4LRfVQ_Hv"
      },
      "source": [
        "df['SINTOMAS'] = df['SINTOMAS'].fillna(\"SIN ESPECIFICAR\")"
      ],
      "execution_count": 21,
      "outputs": []
    },
    {
      "cell_type": "code",
      "metadata": {
        "colab": {
          "base_uri": "https://localhost:8080/"
        },
        "id": "i0qUJ2O_RQY4",
        "outputId": "ec618545-ace2-48a0-85bb-f7bfd494c1f1"
      },
      "source": [
        "df['SINTOMAS'].value_counts()"
      ],
      "execution_count": 22,
      "outputs": [
        {
          "output_type": "execute_result",
          "data": {
            "text/plain": [
              "0                  1729\n",
              "1                   806\n",
              "SIN ESPECIFICAR     415\n",
              "NO                   56\n",
              "SI                   39\n",
              "NO                    2\n",
              "SI                    2\n",
              "si                    1\n",
              "Name: SINTOMAS, dtype: int64"
            ]
          },
          "metadata": {
            "tags": []
          },
          "execution_count": 22
        }
      ]
    },
    {
      "cell_type": "code",
      "metadata": {
        "id": "AHkrO37qRoyL"
      },
      "source": [
        "df['SINTOMAS'] = df['SINTOMAS'].replace({'1': 'Si'})\n",
        "df['SINTOMAS'] = df['SINTOMAS'].replace({'SI': 'Si'})\n",
        "df['SINTOMAS'] = df['SINTOMAS'].replace({'SI': 'Si'})\n",
        "df['SINTOMAS'] = df['SINTOMAS'].replace({'SI ': 'Si'})\n",
        "df['SINTOMAS'] = df['SINTOMAS'].replace({'Si ': 'Si'})\n",
        "df['SINTOMAS'] = df['SINTOMAS'].replace({'si': 'Si'})\n",
        "df['SINTOMAS'] = df['SINTOMAS'].replace({'si ': 'Si'})\n",
        "\n",
        "df['SINTOMAS'] = df['SINTOMAS'].replace({'0': 'No'})\n",
        "df['SINTOMAS'] = df['SINTOMAS'].replace({'NO': 'No'})\n",
        "df['SINTOMAS'] = df['SINTOMAS'].replace({'NO ': 'No'})\n",
        "df['SINTOMAS'] = df['SINTOMAS'].replace({'no': 'No'})\n",
        "df['SINTOMAS'] = df['SINTOMAS'].replace({'no ': 'No'})\n",
        "df['SINTOMAS'] = df['SINTOMAS'].replace({'No ': 'No'})"
      ],
      "execution_count": 23,
      "outputs": []
    },
    {
      "cell_type": "code",
      "metadata": {
        "colab": {
          "base_uri": "https://localhost:8080/"
        },
        "id": "Oz3-CpY2TPum",
        "outputId": "b6b85181-4fd0-42a1-a2f2-ab0f92ce90df"
      },
      "source": [
        "df['SINTOMAS'].value_counts()"
      ],
      "execution_count": 24,
      "outputs": [
        {
          "output_type": "execute_result",
          "data": {
            "text/plain": [
              "No                 1787\n",
              "Si                  848\n",
              "SIN ESPECIFICAR     415\n",
              "Name: SINTOMAS, dtype: int64"
            ]
          },
          "metadata": {
            "tags": []
          },
          "execution_count": 24
        }
      ]
    },
    {
      "cell_type": "markdown",
      "metadata": {
        "id": "Xx8o3Yt9EnxS"
      },
      "source": [
        "### Edad no contestada resuelta como promedio"
      ]
    },
    {
      "cell_type": "code",
      "metadata": {
        "id": "7wvcnNfuEmXr",
        "colab": {
          "base_uri": "https://localhost:8080/"
        },
        "outputId": "ffcdb359-b693-48ea-9973-32262bb809dd"
      },
      "source": [
        "df.isnull().sum()"
      ],
      "execution_count": 25,
      "outputs": [
        {
          "output_type": "execute_result",
          "data": {
            "text/plain": [
              "0\n",
              "USUARIO               0\n",
              "NOMBRE                0\n",
              "APELLIDO              0\n",
              "SEXO                  0\n",
              "EDAD                414\n",
              "SINTOMAS              0\n",
              "ID MUESTRA            0\n",
              "FECHA EXTRACCION      0\n",
              "RESULTADO             0\n",
              "dtype: int64"
            ]
          },
          "metadata": {
            "tags": []
          },
          "execution_count": 25
        }
      ]
    },
    {
      "cell_type": "code",
      "metadata": {
        "colab": {
          "base_uri": "https://localhost:8080/"
        },
        "id": "r6jBHHN5Vu43",
        "outputId": "6c956a4a-b0c6-4987-a6ac-eda859324ebe"
      },
      "source": [
        "df['EDAD'].value_counts()"
      ],
      "execution_count": 26,
      "outputs": [
        {
          "output_type": "execute_result",
          "data": {
            "text/plain": [
              "29         105\n",
              "32         102\n",
              "30          97\n",
              "24          96\n",
              "31          94\n",
              "          ... \n",
              "82           1\n",
              "80           1\n",
              "79           1\n",
              "7 MESES      1\n",
              "1            1\n",
              "Name: EDAD, Length: 84, dtype: int64"
            ]
          },
          "metadata": {
            "tags": []
          },
          "execution_count": 26
        }
      ]
    },
    {
      "cell_type": "code",
      "metadata": {
        "id": "1oR-eNM6Emnl"
      },
      "source": [
        "df['EDAD'] = df['EDAD'].replace({'7 MESES': '0.7'})"
      ],
      "execution_count": 27,
      "outputs": []
    },
    {
      "cell_type": "code",
      "metadata": {
        "id": "Q-NRgoR7Ywap"
      },
      "source": [
        "# Convertir valores a punto flotante\n",
        "\n",
        "df['EDAD'] = df['EDAD'].astype(float)"
      ],
      "execution_count": 28,
      "outputs": []
    },
    {
      "cell_type": "code",
      "metadata": {
        "id": "tAe4VstiMznu",
        "colab": {
          "base_uri": "https://localhost:8080/"
        },
        "outputId": "c2d49de0-7586-480a-cf35-96ca435c435d"
      },
      "source": [
        "df['EDAD'].describe()\n",
        "#df['EDAD'].mean()\n",
        "#df['EDAD'].max()\n",
        "#df['EDAD'].std()\n",
        "#df['EDAD'].count()"
      ],
      "execution_count": 29,
      "outputs": [
        {
          "output_type": "execute_result",
          "data": {
            "text/plain": [
              "count    2636.000000\n",
              "mean       36.420599\n",
              "std        13.674278\n",
              "min         0.700000\n",
              "25%        26.000000\n",
              "50%        34.000000\n",
              "75%        44.000000\n",
              "max        86.000000\n",
              "Name: EDAD, dtype: float64"
            ]
          },
          "metadata": {
            "tags": []
          },
          "execution_count": 29
        }
      ]
    },
    {
      "cell_type": "code",
      "metadata": {
        "colab": {
          "base_uri": "https://localhost:8080/"
        },
        "id": "xfIwTm-5fT4r",
        "outputId": "2cd5a262-7786-41fe-f943-0911ee261459"
      },
      "source": [
        "df['EDAD'].mean()"
      ],
      "execution_count": 30,
      "outputs": [
        {
          "output_type": "execute_result",
          "data": {
            "text/plain": [
              "36.42059939301973"
            ]
          },
          "metadata": {
            "tags": []
          },
          "execution_count": 30
        }
      ]
    },
    {
      "cell_type": "code",
      "metadata": {
        "id": "703QNv-lL3Pr"
      },
      "source": [
        "df['EDAD'] = df['EDAD'].fillna(df['EDAD'].mean())"
      ],
      "execution_count": 31,
      "outputs": []
    },
    {
      "cell_type": "code",
      "metadata": {
        "colab": {
          "base_uri": "https://localhost:8080/"
        },
        "id": "ETYU064nZ0SZ",
        "outputId": "27d8bf3c-34ea-4e5a-b23d-d3ff77eb6f64"
      },
      "source": [
        "df['EDAD'].describe()\n",
        "#df['EDAD'].mean()\n",
        "#df['EDAD'].max()\n",
        "#df['EDAD'].std()\n",
        "#df['EDAD'].count()"
      ],
      "execution_count": 32,
      "outputs": [
        {
          "output_type": "execute_result",
          "data": {
            "text/plain": [
              "count    3050.000000\n",
              "mean       36.420599\n",
              "std        12.712062\n",
              "min         0.700000\n",
              "25%        28.000000\n",
              "50%        36.000000\n",
              "75%        42.000000\n",
              "max        86.000000\n",
              "Name: EDAD, dtype: float64"
            ]
          },
          "metadata": {
            "tags": []
          },
          "execution_count": 32
        }
      ]
    },
    {
      "cell_type": "code",
      "metadata": {
        "colab": {
          "base_uri": "https://localhost:8080/"
        },
        "id": "W5OsH3FiXJtN",
        "outputId": "b2d61407-2a71-40a3-df97-17ab755c422c"
      },
      "source": [
        "df.isnull().sum()"
      ],
      "execution_count": 33,
      "outputs": [
        {
          "output_type": "execute_result",
          "data": {
            "text/plain": [
              "0\n",
              "USUARIO             0\n",
              "NOMBRE              0\n",
              "APELLIDO            0\n",
              "SEXO                0\n",
              "EDAD                0\n",
              "SINTOMAS            0\n",
              "ID MUESTRA          0\n",
              "FECHA EXTRACCION    0\n",
              "RESULTADO           0\n",
              "dtype: int64"
            ]
          },
          "metadata": {
            "tags": []
          },
          "execution_count": 33
        }
      ]
    },
    {
      "cell_type": "markdown",
      "metadata": {
        "id": "5mnfIsnrM1gA"
      },
      "source": [
        "### Ajuste en Sexo"
      ]
    },
    {
      "cell_type": "code",
      "metadata": {
        "id": "vop23F6hM5gN",
        "colab": {
          "base_uri": "https://localhost:8080/"
        },
        "outputId": "fee24c28-3927-4232-d8cd-a7a4a671a500"
      },
      "source": [
        "df['SEXO'].value_counts()"
      ],
      "execution_count": 34,
      "outputs": [
        {
          "output_type": "execute_result",
          "data": {
            "text/plain": [
              "M      1668\n",
              "F      1374\n",
              "M         4\n",
              "F         2\n",
              "F         2\n",
              "Name: SEXO, dtype: int64"
            ]
          },
          "metadata": {
            "tags": []
          },
          "execution_count": 34
        }
      ]
    },
    {
      "cell_type": "code",
      "metadata": {
        "id": "5Zqjeu7fM50I"
      },
      "source": [
        "df['SEXO'] = df['SEXO'].replace({'M': 'Masculino'})\n",
        "df['SEXO'] = df['SEXO'].replace({'M ': 'Masculino'})\n",
        "\n",
        "df['SEXO'] = df['SEXO'].replace({'F': 'Femenino'})\n",
        "df['SEXO'] = df['SEXO'].replace({'F ': 'Femenino'})\n",
        "df['SEXO'] = df['SEXO'].replace({'F  ': 'Femenino'})"
      ],
      "execution_count": 35,
      "outputs": []
    },
    {
      "cell_type": "code",
      "metadata": {
        "colab": {
          "base_uri": "https://localhost:8080/"
        },
        "id": "co0JJe8IgwQY",
        "outputId": "d442bfdf-a0cd-448c-9e8c-96cfa98342c0"
      },
      "source": [
        "df['SEXO'].value_counts()"
      ],
      "execution_count": 36,
      "outputs": [
        {
          "output_type": "execute_result",
          "data": {
            "text/plain": [
              "Masculino    1672\n",
              "Femenino     1378\n",
              "Name: SEXO, dtype: int64"
            ]
          },
          "metadata": {
            "tags": []
          },
          "execution_count": 36
        }
      ]
    },
    {
      "cell_type": "code",
      "metadata": {
        "colab": {
          "base_uri": "https://localhost:8080/"
        },
        "id": "oVjrvNXpvjYq",
        "outputId": "f0878222-3cf8-47f9-e518-2bcf9a4fe177"
      },
      "source": [
        "df.shape"
      ],
      "execution_count": 37,
      "outputs": [
        {
          "output_type": "execute_result",
          "data": {
            "text/plain": [
              "(3050, 9)"
            ]
          },
          "metadata": {
            "tags": []
          },
          "execution_count": 37
        }
      ]
    },
    {
      "cell_type": "markdown",
      "metadata": {
        "id": "lkPHQBDBL4vp"
      },
      "source": [
        "## Creación de conjuntos de análisis"
      ]
    },
    {
      "cell_type": "markdown",
      "metadata": {
        "id": "StYFhDm7K98a"
      },
      "source": [
        "### Separación de datos por meses"
      ]
    },
    {
      "cell_type": "code",
      "metadata": {
        "colab": {
          "base_uri": "https://localhost:8080/"
        },
        "id": "BLXVyHWRDLZK",
        "outputId": "158aa57d-b3a7-4e59-e186-5d77e2fdbb92"
      },
      "source": [
        "df['FECHA EXTRACCION']"
      ],
      "execution_count": 38,
      "outputs": [
        {
          "output_type": "execute_result",
          "data": {
            "text/plain": [
              "1       2020-12-02\n",
              "2       2020-12-02\n",
              "3       2020-12-02\n",
              "4       2020-12-02\n",
              "5       2020-12-02\n",
              "           ...    \n",
              "3116    2021-04-30\n",
              "3117    2021-04-30\n",
              "3118    2021-04-30\n",
              "3119    2021-04-30\n",
              "3120    2021-04-30\n",
              "Name: FECHA EXTRACCION, Length: 3050, dtype: object"
            ]
          },
          "metadata": {
            "tags": []
          },
          "execution_count": 38
        }
      ]
    },
    {
      "cell_type": "code",
      "metadata": {
        "id": "bsPK7l_muwGa"
      },
      "source": [
        "# Cambiar index por fechas \n",
        "\n",
        "# df = df.set_index(df['FECHA EXTRACCION'], drop=False)"
      ],
      "execution_count": 39,
      "outputs": []
    },
    {
      "cell_type": "code",
      "metadata": {
        "colab": {
          "base_uri": "https://localhost:8080/"
        },
        "id": "KoMOam_v4g8l",
        "outputId": "addf458f-e719-4131-fc6a-0d92048acc45"
      },
      "source": [
        "df.dtypes"
      ],
      "execution_count": 40,
      "outputs": [
        {
          "output_type": "execute_result",
          "data": {
            "text/plain": [
              "0\n",
              "USUARIO              object\n",
              "NOMBRE               object\n",
              "APELLIDO             object\n",
              "SEXO                 object\n",
              "EDAD                float64\n",
              "SINTOMAS             object\n",
              "ID MUESTRA           object\n",
              "FECHA EXTRACCION     object\n",
              "RESULTADO            object\n",
              "dtype: object"
            ]
          },
          "metadata": {
            "tags": []
          },
          "execution_count": 40
        }
      ]
    },
    {
      "cell_type": "code",
      "metadata": {
        "colab": {
          "base_uri": "https://localhost:8080/"
        },
        "id": "5HRcPyHO4xDS",
        "outputId": "206e7c09-9ea0-48b0-f7f8-7067278689cc"
      },
      "source": [
        "df['FECHA EXTRACCION'].shape"
      ],
      "execution_count": 41,
      "outputs": [
        {
          "output_type": "execute_result",
          "data": {
            "text/plain": [
              "(3050,)"
            ]
          },
          "metadata": {
            "tags": []
          },
          "execution_count": 41
        }
      ]
    },
    {
      "cell_type": "code",
      "metadata": {
        "id": "KFrSnVjXu7Mn"
      },
      "source": [
        "#df['FECHA EXTRACCION'] = pd.to_datetime(df['FECHA EXTRACCION'])"
      ],
      "execution_count": 42,
      "outputs": []
    },
    {
      "cell_type": "code",
      "metadata": {
        "colab": {
          "base_uri": "https://localhost:8080/"
        },
        "id": "kSuFv2QG4-BG",
        "outputId": "36d1c8e2-e5e2-433c-9582-54fe0d8b968a"
      },
      "source": [
        "df['FECHA EXTRACCION'].shape"
      ],
      "execution_count": 43,
      "outputs": [
        {
          "output_type": "execute_result",
          "data": {
            "text/plain": [
              "(3050,)"
            ]
          },
          "metadata": {
            "tags": []
          },
          "execution_count": 43
        }
      ]
    },
    {
      "cell_type": "code",
      "metadata": {
        "colab": {
          "base_uri": "https://localhost:8080/",
          "height": 198
        },
        "id": "FcuP8-O9vCDF",
        "outputId": "7df974a3-ac57-4d4e-cfa1-ac1e57440619"
      },
      "source": [
        "df.tail()"
      ],
      "execution_count": 44,
      "outputs": [
        {
          "output_type": "execute_result",
          "data": {
            "text/html": [
              "<div>\n",
              "<style scoped>\n",
              "    .dataframe tbody tr th:only-of-type {\n",
              "        vertical-align: middle;\n",
              "    }\n",
              "\n",
              "    .dataframe tbody tr th {\n",
              "        vertical-align: top;\n",
              "    }\n",
              "\n",
              "    .dataframe thead th {\n",
              "        text-align: right;\n",
              "    }\n",
              "</style>\n",
              "<table border=\"1\" class=\"dataframe\">\n",
              "  <thead>\n",
              "    <tr style=\"text-align: right;\">\n",
              "      <th></th>\n",
              "      <th>USUARIO</th>\n",
              "      <th>NOMBRE</th>\n",
              "      <th>APELLIDO</th>\n",
              "      <th>SEXO</th>\n",
              "      <th>EDAD</th>\n",
              "      <th>SINTOMAS</th>\n",
              "      <th>ID MUESTRA</th>\n",
              "      <th>FECHA EXTRACCION</th>\n",
              "      <th>RESULTADO</th>\n",
              "    </tr>\n",
              "  </thead>\n",
              "  <tbody>\n",
              "    <tr>\n",
              "      <th>3116</th>\n",
              "      <td>Particular</td>\n",
              "      <td>lorena</td>\n",
              "      <td>olmos medina</td>\n",
              "      <td>Femenino</td>\n",
              "      <td>50.0</td>\n",
              "      <td>Si</td>\n",
              "      <td>PD.PD.02.2118</td>\n",
              "      <td>2021-04-30</td>\n",
              "      <td>Negativo</td>\n",
              "    </tr>\n",
              "    <tr>\n",
              "      <th>3117</th>\n",
              "      <td>Webasto</td>\n",
              "      <td>FATIMA</td>\n",
              "      <td>GUZMAN ARIAS</td>\n",
              "      <td>Femenino</td>\n",
              "      <td>22.0</td>\n",
              "      <td>Si</td>\n",
              "      <td>PD.WB.02.0323</td>\n",
              "      <td>2021-04-30</td>\n",
              "      <td>Negativo</td>\n",
              "    </tr>\n",
              "    <tr>\n",
              "      <th>3118</th>\n",
              "      <td>Particular</td>\n",
              "      <td>Omar</td>\n",
              "      <td>Olmos Medina</td>\n",
              "      <td>Masculino</td>\n",
              "      <td>44.0</td>\n",
              "      <td>No</td>\n",
              "      <td>PD.PD.02.2119</td>\n",
              "      <td>2021-04-30</td>\n",
              "      <td>Negativo</td>\n",
              "    </tr>\n",
              "    <tr>\n",
              "      <th>3119</th>\n",
              "      <td>Webasto</td>\n",
              "      <td>ALMA GUADALUPE</td>\n",
              "      <td>RETANA ORTEGA</td>\n",
              "      <td>Femenino</td>\n",
              "      <td>19.0</td>\n",
              "      <td>Si</td>\n",
              "      <td>PD.WB.02.0324</td>\n",
              "      <td>2021-04-30</td>\n",
              "      <td>Negativo</td>\n",
              "    </tr>\n",
              "    <tr>\n",
              "      <th>3120</th>\n",
              "      <td>Webasto</td>\n",
              "      <td>EDSON DANIEL</td>\n",
              "      <td>NEGRETE MARTINEZ</td>\n",
              "      <td>Masculino</td>\n",
              "      <td>19.0</td>\n",
              "      <td>Si</td>\n",
              "      <td>PD.WB.02.0325</td>\n",
              "      <td>2021-04-30</td>\n",
              "      <td>Negativo</td>\n",
              "    </tr>\n",
              "  </tbody>\n",
              "</table>\n",
              "</div>"
            ],
            "text/plain": [
              "0        USUARIO          NOMBRE  ... FECHA EXTRACCION RESULTADO\n",
              "3116  Particular          lorena  ...       2021-04-30  Negativo\n",
              "3117     Webasto          FATIMA  ...       2021-04-30  Negativo\n",
              "3118  Particular            Omar  ...       2021-04-30  Negativo\n",
              "3119     Webasto  ALMA GUADALUPE  ...       2021-04-30  Negativo\n",
              "3120     Webasto    EDSON DANIEL  ...       2021-04-30  Negativo\n",
              "\n",
              "[5 rows x 9 columns]"
            ]
          },
          "metadata": {
            "tags": []
          },
          "execution_count": 44
        }
      ]
    },
    {
      "cell_type": "code",
      "metadata": {
        "id": "iS9GZpUqvCTw"
      },
      "source": [
        "#dfPrueba = df[(df['FECHA EXTRACCION']< \"2021-01-01\")]\n",
        "\n",
        "dfDiciembre = df[(df['FECHA EXTRACCION']> \"2020-01-01\") & (df['FECHA EXTRACCION']< \"2021-01-01\")]\n",
        "dfEnero = df[(df['FECHA EXTRACCION'] >= \"2021-01-01\") & (df['FECHA EXTRACCION']< \"2021-02-01\")]\n",
        "dfFebrero = df[(df['FECHA EXTRACCION'] >= \"2021-02-01\") & (df['FECHA EXTRACCION']< \"2021-03-01\")]\n",
        "dfMarzo = df[(df['FECHA EXTRACCION'] >= \"2021-03-01\") & (df['FECHA EXTRACCION']< \"2021-04-01\")]\n",
        "dfAbril = df[(df['FECHA EXTRACCION'] >= \"2021-04-01\") & (df['FECHA EXTRACCION']< \"2021-05-01\")]"
      ],
      "execution_count": 45,
      "outputs": []
    },
    {
      "cell_type": "code",
      "metadata": {
        "colab": {
          "base_uri": "https://localhost:8080/"
        },
        "id": "Ai1Llt6WzN0z",
        "outputId": "ad1bd58c-2c1b-45f2-fabc-fb58ff5de0b4"
      },
      "source": [
        "#dfPrueba['FECHA EXTRACCION'].value_counts()\n",
        "dfDiciembre['FECHA EXTRACCION'].value_counts()\n",
        "#dfEnero['FECHA EXTRACCION'].value_counts()\n",
        "#dfFebrero['FECHA EXTRACCION'].value_counts()\n",
        "#dfMarzo['FECHA EXTRACCION'].value_counts()\n",
        "#dfAbril['FECHA EXTRACCION'].value_counts()"
      ],
      "execution_count": 46,
      "outputs": [
        {
          "output_type": "execute_result",
          "data": {
            "text/plain": [
              "2020-12-21    91\n",
              "2020-12-18    85\n",
              "2020-12-23    73\n",
              "2020-12-15    52\n",
              "2020-12-30    45\n",
              "2020-12-10    44\n",
              "2020-12-31    40\n",
              "2020-12-14    35\n",
              "2020-12-03    34\n",
              "2020-12-29    32\n",
              "2020-12-07    30\n",
              "2020-12-22    26\n",
              "2020-12-17    22\n",
              "2020-12-16    22\n",
              "2020-12-09    21\n",
              "2020-12-02    20\n",
              "2020-12-11    17\n",
              "2020-12-04    13\n",
              "2020-12-28    13\n",
              "2020-12-08    13\n",
              "2020-12-24     6\n",
              "Name: FECHA EXTRACCION, dtype: int64"
            ]
          },
          "metadata": {
            "tags": []
          },
          "execution_count": 46
        }
      ]
    },
    {
      "cell_type": "code",
      "metadata": {
        "colab": {
          "base_uri": "https://localhost:8080/",
          "height": 198
        },
        "id": "zTGG55kR8Qmv",
        "outputId": "e03d56a1-0b33-4f2e-f4db-e5da3e8a77df"
      },
      "source": [
        "dfDiciembre.tail()\n",
        "#dfEnero.tail()\n",
        "#dfFebrero.tail()\n",
        "#dfMarzo.tail()\n",
        "#dfAbril.tail()"
      ],
      "execution_count": 47,
      "outputs": [
        {
          "output_type": "execute_result",
          "data": {
            "text/html": [
              "<div>\n",
              "<style scoped>\n",
              "    .dataframe tbody tr th:only-of-type {\n",
              "        vertical-align: middle;\n",
              "    }\n",
              "\n",
              "    .dataframe tbody tr th {\n",
              "        vertical-align: top;\n",
              "    }\n",
              "\n",
              "    .dataframe thead th {\n",
              "        text-align: right;\n",
              "    }\n",
              "</style>\n",
              "<table border=\"1\" class=\"dataframe\">\n",
              "  <thead>\n",
              "    <tr style=\"text-align: right;\">\n",
              "      <th></th>\n",
              "      <th>USUARIO</th>\n",
              "      <th>NOMBRE</th>\n",
              "      <th>APELLIDO</th>\n",
              "      <th>SEXO</th>\n",
              "      <th>EDAD</th>\n",
              "      <th>SINTOMAS</th>\n",
              "      <th>ID MUESTRA</th>\n",
              "      <th>FECHA EXTRACCION</th>\n",
              "      <th>RESULTADO</th>\n",
              "    </tr>\n",
              "  </thead>\n",
              "  <tbody>\n",
              "    <tr>\n",
              "      <th>732</th>\n",
              "      <td>Personal</td>\n",
              "      <td>José Tomás</td>\n",
              "      <td>Zavala Cordero</td>\n",
              "      <td>Masculino</td>\n",
              "      <td>47.0</td>\n",
              "      <td>No</td>\n",
              "      <td>PD.PD.02.0982</td>\n",
              "      <td>2020-12-31</td>\n",
              "      <td>Negativo</td>\n",
              "    </tr>\n",
              "    <tr>\n",
              "      <th>733</th>\n",
              "      <td>Personal</td>\n",
              "      <td>Connor José</td>\n",
              "      <td>Zavala Molloy</td>\n",
              "      <td>Masculino</td>\n",
              "      <td>16.0</td>\n",
              "      <td>No</td>\n",
              "      <td>PD.PD.02.0983</td>\n",
              "      <td>2020-12-31</td>\n",
              "      <td>Negativo</td>\n",
              "    </tr>\n",
              "    <tr>\n",
              "      <th>734</th>\n",
              "      <td>Personal</td>\n",
              "      <td>Alaia María</td>\n",
              "      <td>Zavala Molloy</td>\n",
              "      <td>Femenino</td>\n",
              "      <td>13.0</td>\n",
              "      <td>No</td>\n",
              "      <td>PD.PD.02.0984</td>\n",
              "      <td>2020-12-31</td>\n",
              "      <td>Negativo</td>\n",
              "    </tr>\n",
              "    <tr>\n",
              "      <th>735</th>\n",
              "      <td>Personal</td>\n",
              "      <td>Ma. del Socorro</td>\n",
              "      <td>Cordero García</td>\n",
              "      <td>Femenino</td>\n",
              "      <td>72.0</td>\n",
              "      <td>No</td>\n",
              "      <td>PD.PD.02.0985</td>\n",
              "      <td>2020-12-31</td>\n",
              "      <td>Negativo</td>\n",
              "    </tr>\n",
              "    <tr>\n",
              "      <th>736</th>\n",
              "      <td>Particular (E)</td>\n",
              "      <td>María Guadalupe</td>\n",
              "      <td>Ortega Solis</td>\n",
              "      <td>Femenino</td>\n",
              "      <td>26.0</td>\n",
              "      <td>No</td>\n",
              "      <td>PD.PD.02.0986</td>\n",
              "      <td>2020-12-31</td>\n",
              "      <td>Negativo</td>\n",
              "    </tr>\n",
              "  </tbody>\n",
              "</table>\n",
              "</div>"
            ],
            "text/plain": [
              "0            USUARIO           NOMBRE  ... FECHA EXTRACCION RESULTADO\n",
              "732         Personal       José Tomás  ...       2020-12-31  Negativo\n",
              "733         Personal      Connor José  ...       2020-12-31  Negativo\n",
              "734         Personal      Alaia María  ...       2020-12-31  Negativo\n",
              "735         Personal  Ma. del Socorro  ...       2020-12-31  Negativo\n",
              "736  Particular (E)   María Guadalupe  ...       2020-12-31  Negativo\n",
              "\n",
              "[5 rows x 9 columns]"
            ]
          },
          "metadata": {
            "tags": []
          },
          "execution_count": 47
        }
      ]
    },
    {
      "cell_type": "code",
      "metadata": {
        "colab": {
          "base_uri": "https://localhost:8080/"
        },
        "id": "OiHozLG3w2z0",
        "outputId": "7980911e-65a0-4019-a7f1-e3a081c01c69"
      },
      "source": [
        "#Comprobador \n",
        "\n",
        "#df.shape\n",
        "#dfDiciembre.shape\n",
        "#dfEnero.shape\n",
        "#dfFebrero.shape\n",
        "#dfMarzo.shape\n",
        "dfAbril.shape"
      ],
      "execution_count": 48,
      "outputs": [
        {
          "output_type": "execute_result",
          "data": {
            "text/plain": [
              "(235, 9)"
            ]
          },
          "metadata": {
            "tags": []
          },
          "execution_count": 48
        }
      ]
    },
    {
      "cell_type": "markdown",
      "metadata": {
        "id": "l9VUkjcQLRSn"
      },
      "source": [
        "### Cluster de clientes"
      ]
    },
    {
      "cell_type": "code",
      "metadata": {
        "colab": {
          "base_uri": "https://localhost:8080/"
        },
        "id": "RyzVvWoszebx",
        "outputId": "b2a4875b-86fb-4235-ee66-a0fb52e14f5e"
      },
      "source": [
        "VerClientes = df.pivot_table(index=['USUARIO'], aggfunc='size')\n",
        "VerClientes"
      ],
      "execution_count": 49,
      "outputs": [
        {
          "output_type": "execute_result",
          "data": {
            "text/plain": [
              "USUARIO\n",
              "CFM Servicios Administrativos           35\n",
              "CFM Servicios Administrativos México    21\n",
              "CFM Servicios administrativos México    23\n",
              "CFM Servicios de Mexico                 33\n",
              "CFM servicios administrativos           45\n",
              "                                        ..\n",
              "Wurth                                    1\n",
              "Würth                                   14\n",
              "Würth Elektronik                         1\n",
              "Würth Elektronik México                 21\n",
              "webasto                                  8\n",
              "Length: 80, dtype: int64"
            ]
          },
          "metadata": {
            "tags": []
          },
          "execution_count": 49
        }
      ]
    },
    {
      "cell_type": "code",
      "metadata": {
        "colab": {
          "base_uri": "https://localhost:8080/",
          "height": 0
        },
        "id": "RAbU2vQtvCcA",
        "outputId": "473689db-8b39-4bb6-aa98-1d3f818d9c6f"
      },
      "source": [
        "#dfDiciembre.head()\n",
        "#dfEnero.head()\n",
        "#dfFebrero.head()\n",
        "dfMarzo.head()\n",
        "#dfAbril.head()"
      ],
      "execution_count": 50,
      "outputs": [
        {
          "output_type": "execute_result",
          "data": {
            "text/html": [
              "<div>\n",
              "<style scoped>\n",
              "    .dataframe tbody tr th:only-of-type {\n",
              "        vertical-align: middle;\n",
              "    }\n",
              "\n",
              "    .dataframe tbody tr th {\n",
              "        vertical-align: top;\n",
              "    }\n",
              "\n",
              "    .dataframe thead th {\n",
              "        text-align: right;\n",
              "    }\n",
              "</style>\n",
              "<table border=\"1\" class=\"dataframe\">\n",
              "  <thead>\n",
              "    <tr style=\"text-align: right;\">\n",
              "      <th></th>\n",
              "      <th>USUARIO</th>\n",
              "      <th>NOMBRE</th>\n",
              "      <th>APELLIDO</th>\n",
              "      <th>SEXO</th>\n",
              "      <th>EDAD</th>\n",
              "      <th>SINTOMAS</th>\n",
              "      <th>ID MUESTRA</th>\n",
              "      <th>FECHA EXTRACCION</th>\n",
              "      <th>RESULTADO</th>\n",
              "    </tr>\n",
              "  </thead>\n",
              "  <tbody>\n",
              "    <tr>\n",
              "      <th>2611</th>\n",
              "      <td>Particular (E)</td>\n",
              "      <td>Sanjuana</td>\n",
              "      <td>Hernandez</td>\n",
              "      <td>Femenino</td>\n",
              "      <td>29.0</td>\n",
              "      <td>No</td>\n",
              "      <td>PD.PD.02.1987</td>\n",
              "      <td>2021-03-01</td>\n",
              "      <td>Negativo</td>\n",
              "    </tr>\n",
              "    <tr>\n",
              "      <th>2612</th>\n",
              "      <td>Particular (E)</td>\n",
              "      <td>Santiago</td>\n",
              "      <td>Hernández Beltrán</td>\n",
              "      <td>Masculino</td>\n",
              "      <td>37.0</td>\n",
              "      <td>No</td>\n",
              "      <td>PD.PD.02.1988</td>\n",
              "      <td>2021-03-01</td>\n",
              "      <td>Negativo</td>\n",
              "    </tr>\n",
              "    <tr>\n",
              "      <th>2613</th>\n",
              "      <td>NaturalHealth</td>\n",
              "      <td>ALEJANDRO URIEL</td>\n",
              "      <td>HERRERA MUÑOZ</td>\n",
              "      <td>Masculino</td>\n",
              "      <td>26.0</td>\n",
              "      <td>Si</td>\n",
              "      <td>PD.NAH.02.020</td>\n",
              "      <td>2021-03-01</td>\n",
              "      <td>Negativo</td>\n",
              "    </tr>\n",
              "    <tr>\n",
              "      <th>2614</th>\n",
              "      <td>NaturalHealth</td>\n",
              "      <td>JESSICA MARIANA</td>\n",
              "      <td>MONTES HERNANDEZ</td>\n",
              "      <td>Femenino</td>\n",
              "      <td>23.0</td>\n",
              "      <td>Si</td>\n",
              "      <td>PD.NAH.02.021</td>\n",
              "      <td>2021-03-01</td>\n",
              "      <td>Negativo</td>\n",
              "    </tr>\n",
              "    <tr>\n",
              "      <th>2615</th>\n",
              "      <td>Webasto</td>\n",
              "      <td>Jose Luis</td>\n",
              "      <td>Mares Abraham</td>\n",
              "      <td>Masculino</td>\n",
              "      <td>25.0</td>\n",
              "      <td>No</td>\n",
              "      <td>PD.WB.02.0186</td>\n",
              "      <td>2021-03-01</td>\n",
              "      <td>Negativo</td>\n",
              "    </tr>\n",
              "  </tbody>\n",
              "</table>\n",
              "</div>"
            ],
            "text/plain": [
              "0             USUARIO            NOMBRE  ... FECHA EXTRACCION RESULTADO\n",
              "2611  Particular (E)           Sanjuana  ...       2021-03-01  Negativo\n",
              "2612  Particular (E)           Santiago  ...       2021-03-01  Negativo\n",
              "2613    NaturalHealth  ALEJANDRO URIEL   ...       2021-03-01  Negativo\n",
              "2614    NaturalHealth  JESSICA MARIANA   ...       2021-03-01  Negativo\n",
              "2615          Webasto        Jose Luis   ...       2021-03-01  Negativo\n",
              "\n",
              "[5 rows x 9 columns]"
            ]
          },
          "metadata": {
            "tags": []
          },
          "execution_count": 50
        }
      ]
    },
    {
      "cell_type": "code",
      "metadata": {
        "colab": {
          "base_uri": "https://localhost:8080/"
        },
        "id": "sToJCTxtvCie",
        "outputId": "5d912b35-a97c-4bc7-a362-59e63b2554a5"
      },
      "source": [
        "#Comprobador por meses\n",
        "\n",
        "#dfDiciembre.shape\n",
        "#dfEnero.shape\n",
        "#dfFebrero.shape\n",
        "#dfMarzo.shape\n",
        "dfAbril.shape"
      ],
      "execution_count": 51,
      "outputs": [
        {
          "output_type": "execute_result",
          "data": {
            "text/plain": [
              "(235, 9)"
            ]
          },
          "metadata": {
            "tags": []
          },
          "execution_count": 51
        }
      ]
    },
    {
      "cell_type": "markdown",
      "metadata": {
        "id": "dwY0yMZciEtd"
      },
      "source": [
        "### Cambio de nombres"
      ]
    },
    {
      "cell_type": "code",
      "metadata": {
        "id": "xCHOuOH1v-xG",
        "colab": {
          "base_uri": "https://localhost:8080/"
        },
        "outputId": "f84619f0-fe79-471a-b7d5-255720121427"
      },
      "source": [
        "# Ajuste  CLIENTES Diciembre\n",
        "\n",
        "dfDiciembre['USUARIO'] = dfDiciembre['USUARIO'].replace({'Particular ': 'Particular'})\n",
        "dfDiciembre['USUARIO'] = dfDiciembre['USUARIO'].replace({'Particular (E)': 'Particular'})\n",
        "dfDiciembre['USUARIO'] = dfDiciembre['USUARIO'].replace({'Particular (E) ': 'Particular'})\n",
        "dfDiciembre['USUARIO'] = dfDiciembre['USUARIO'].replace({'Pärticular': 'Particular'})\n",
        "dfDiciembre['USUARIO'] = dfDiciembre['USUARIO'].replace({'Pärticular (E)': 'Particular'})\n",
        "dfDiciembre['USUARIO'] = dfDiciembre['USUARIO'].replace({'Pärticular (E) ': 'Particular'})\n",
        "dfDiciembre['USUARIO'] = dfDiciembre['USUARIO'].replace({'Particular (?)': 'Particular'})\n",
        "\n",
        "dfDiciembre['USUARIO'] = dfDiciembre['USUARIO'].replace({'CFM Servicios Administrativos México': 'CONAGRA'})\n",
        "\n",
        "dfDiciembre['USUARIO'] = dfDiciembre['USUARIO'].replace({'F&P MFG de Mexico SA de CV': 'F&P MFG'})\n",
        "dfDiciembre['USUARIO'] = dfDiciembre['USUARIO'].replace({'F&P MFG de Mexico SA de CV  (E)': 'F&P MFG'})\n",
        "dfDiciembre['USUARIO'] = dfDiciembre['USUARIO'].replace({'F&P MFG de Mexico SA de CV  (E) ': 'F&P MFG'})\n",
        "\n",
        "dfDiciembre['USUARIO'] = dfDiciembre['USUARIO'].replace({'La Cantera': 'Minera La Cantera'})\n",
        "dfDiciembre['USUARIO'] = dfDiciembre['USUARIO'].replace({'Minera la Cantera': 'Minera La Cantera'})\n",
        "\n",
        "dfDiciembre['USUARIO'] = dfDiciembre['USUARIO'].replace({'Desarrolladora Marabis': 'Marabis'})\n",
        "\n",
        "dfDiciembre['USUARIO'] = dfDiciembre['USUARIO'].replace({'Natural Health': 'NaturalHealth'})"
      ],
      "execution_count": 52,
      "outputs": [
        {
          "output_type": "stream",
          "text": [
            "/usr/local/lib/python3.7/dist-packages/ipykernel_launcher.py:3: SettingWithCopyWarning: \n",
            "A value is trying to be set on a copy of a slice from a DataFrame.\n",
            "Try using .loc[row_indexer,col_indexer] = value instead\n",
            "\n",
            "See the caveats in the documentation: https://pandas.pydata.org/pandas-docs/stable/user_guide/indexing.html#returning-a-view-versus-a-copy\n",
            "  This is separate from the ipykernel package so we can avoid doing imports until\n",
            "/usr/local/lib/python3.7/dist-packages/ipykernel_launcher.py:4: SettingWithCopyWarning: \n",
            "A value is trying to be set on a copy of a slice from a DataFrame.\n",
            "Try using .loc[row_indexer,col_indexer] = value instead\n",
            "\n",
            "See the caveats in the documentation: https://pandas.pydata.org/pandas-docs/stable/user_guide/indexing.html#returning-a-view-versus-a-copy\n",
            "  after removing the cwd from sys.path.\n",
            "/usr/local/lib/python3.7/dist-packages/ipykernel_launcher.py:5: SettingWithCopyWarning: \n",
            "A value is trying to be set on a copy of a slice from a DataFrame.\n",
            "Try using .loc[row_indexer,col_indexer] = value instead\n",
            "\n",
            "See the caveats in the documentation: https://pandas.pydata.org/pandas-docs/stable/user_guide/indexing.html#returning-a-view-versus-a-copy\n",
            "  \"\"\"\n",
            "/usr/local/lib/python3.7/dist-packages/ipykernel_launcher.py:6: SettingWithCopyWarning: \n",
            "A value is trying to be set on a copy of a slice from a DataFrame.\n",
            "Try using .loc[row_indexer,col_indexer] = value instead\n",
            "\n",
            "See the caveats in the documentation: https://pandas.pydata.org/pandas-docs/stable/user_guide/indexing.html#returning-a-view-versus-a-copy\n",
            "  \n",
            "/usr/local/lib/python3.7/dist-packages/ipykernel_launcher.py:7: SettingWithCopyWarning: \n",
            "A value is trying to be set on a copy of a slice from a DataFrame.\n",
            "Try using .loc[row_indexer,col_indexer] = value instead\n",
            "\n",
            "See the caveats in the documentation: https://pandas.pydata.org/pandas-docs/stable/user_guide/indexing.html#returning-a-view-versus-a-copy\n",
            "  import sys\n",
            "/usr/local/lib/python3.7/dist-packages/ipykernel_launcher.py:8: SettingWithCopyWarning: \n",
            "A value is trying to be set on a copy of a slice from a DataFrame.\n",
            "Try using .loc[row_indexer,col_indexer] = value instead\n",
            "\n",
            "See the caveats in the documentation: https://pandas.pydata.org/pandas-docs/stable/user_guide/indexing.html#returning-a-view-versus-a-copy\n",
            "  \n",
            "/usr/local/lib/python3.7/dist-packages/ipykernel_launcher.py:9: SettingWithCopyWarning: \n",
            "A value is trying to be set on a copy of a slice from a DataFrame.\n",
            "Try using .loc[row_indexer,col_indexer] = value instead\n",
            "\n",
            "See the caveats in the documentation: https://pandas.pydata.org/pandas-docs/stable/user_guide/indexing.html#returning-a-view-versus-a-copy\n",
            "  if __name__ == '__main__':\n",
            "/usr/local/lib/python3.7/dist-packages/ipykernel_launcher.py:11: SettingWithCopyWarning: \n",
            "A value is trying to be set on a copy of a slice from a DataFrame.\n",
            "Try using .loc[row_indexer,col_indexer] = value instead\n",
            "\n",
            "See the caveats in the documentation: https://pandas.pydata.org/pandas-docs/stable/user_guide/indexing.html#returning-a-view-versus-a-copy\n",
            "  # This is added back by InteractiveShellApp.init_path()\n",
            "/usr/local/lib/python3.7/dist-packages/ipykernel_launcher.py:13: SettingWithCopyWarning: \n",
            "A value is trying to be set on a copy of a slice from a DataFrame.\n",
            "Try using .loc[row_indexer,col_indexer] = value instead\n",
            "\n",
            "See the caveats in the documentation: https://pandas.pydata.org/pandas-docs/stable/user_guide/indexing.html#returning-a-view-versus-a-copy\n",
            "  del sys.path[0]\n",
            "/usr/local/lib/python3.7/dist-packages/ipykernel_launcher.py:14: SettingWithCopyWarning: \n",
            "A value is trying to be set on a copy of a slice from a DataFrame.\n",
            "Try using .loc[row_indexer,col_indexer] = value instead\n",
            "\n",
            "See the caveats in the documentation: https://pandas.pydata.org/pandas-docs/stable/user_guide/indexing.html#returning-a-view-versus-a-copy\n",
            "  \n",
            "/usr/local/lib/python3.7/dist-packages/ipykernel_launcher.py:15: SettingWithCopyWarning: \n",
            "A value is trying to be set on a copy of a slice from a DataFrame.\n",
            "Try using .loc[row_indexer,col_indexer] = value instead\n",
            "\n",
            "See the caveats in the documentation: https://pandas.pydata.org/pandas-docs/stable/user_guide/indexing.html#returning-a-view-versus-a-copy\n",
            "  from ipykernel import kernelapp as app\n",
            "/usr/local/lib/python3.7/dist-packages/ipykernel_launcher.py:17: SettingWithCopyWarning: \n",
            "A value is trying to be set on a copy of a slice from a DataFrame.\n",
            "Try using .loc[row_indexer,col_indexer] = value instead\n",
            "\n",
            "See the caveats in the documentation: https://pandas.pydata.org/pandas-docs/stable/user_guide/indexing.html#returning-a-view-versus-a-copy\n",
            "/usr/local/lib/python3.7/dist-packages/ipykernel_launcher.py:18: SettingWithCopyWarning: \n",
            "A value is trying to be set on a copy of a slice from a DataFrame.\n",
            "Try using .loc[row_indexer,col_indexer] = value instead\n",
            "\n",
            "See the caveats in the documentation: https://pandas.pydata.org/pandas-docs/stable/user_guide/indexing.html#returning-a-view-versus-a-copy\n",
            "/usr/local/lib/python3.7/dist-packages/ipykernel_launcher.py:20: SettingWithCopyWarning: \n",
            "A value is trying to be set on a copy of a slice from a DataFrame.\n",
            "Try using .loc[row_indexer,col_indexer] = value instead\n",
            "\n",
            "See the caveats in the documentation: https://pandas.pydata.org/pandas-docs/stable/user_guide/indexing.html#returning-a-view-versus-a-copy\n",
            "/usr/local/lib/python3.7/dist-packages/ipykernel_launcher.py:22: SettingWithCopyWarning: \n",
            "A value is trying to be set on a copy of a slice from a DataFrame.\n",
            "Try using .loc[row_indexer,col_indexer] = value instead\n",
            "\n",
            "See the caveats in the documentation: https://pandas.pydata.org/pandas-docs/stable/user_guide/indexing.html#returning-a-view-versus-a-copy\n"
          ],
          "name": "stderr"
        }
      ]
    },
    {
      "cell_type": "code",
      "metadata": {
        "id": "itLNYKyXxdlF",
        "colab": {
          "base_uri": "https://localhost:8080/"
        },
        "outputId": "bd50cd93-1368-49e8-ca59-d23edfbe700c"
      },
      "source": [
        "# Ajuste  CLIENTES Enero\n",
        "\n",
        "dfEnero['USUARIO'] = dfEnero['USUARIO'].replace({'PARTICULAR': 'Particular'})\n",
        "dfEnero['USUARIO'] = dfEnero['USUARIO'].replace({'PARTICULAR ': 'Particular'})\n",
        "dfEnero['USUARIO'] = dfEnero['USUARIO'].replace({'Particular (E)': 'Particular'})\n",
        "dfEnero['USUARIO'] = dfEnero['USUARIO'].replace({'Particular (E) ': 'Particular'})\n",
        "dfEnero['USUARIO'] = dfEnero['USUARIO'].replace({'PARTICULAR (E)': 'Particular'})\n",
        "dfEnero['USUARIO'] = dfEnero['USUARIO'].replace({'PARTICULAR (E) ': 'Particular'})\n",
        "dfEnero['USUARIO'] = dfEnero['USUARIO'].replace({'Particular (Ta)': 'Particular'})\n",
        "dfEnero['USUARIO'] = dfEnero['USUARIO'].replace({'PARTICULAR (D)': 'Particular'})\n",
        "dfEnero['USUARIO'] = dfEnero['USUARIO'].replace({'Particular E': 'Particular'})\n",
        "dfEnero['USUARIO'] = dfEnero['USUARIO'].replace({'Particular (C)': 'Particular'})\n",
        "dfEnero['USUARIO'] = dfEnero['USUARIO'].replace({'Particular (C) ': 'Particular'})\n",
        "dfEnero['USUARIO'] = dfEnero['USUARIO'].replace({'Particular (?)': 'Particular'})\n",
        "dfEnero['USUARIO'] = dfEnero['USUARIO'].replace({'Paticular': 'Particular'})\n",
        "\n",
        "dfEnero['USUARIO'] = dfEnero['USUARIO'].replace({'PERSONAL': 'Personal'})\n",
        "dfEnero['USUARIO'] = dfEnero['USUARIO'].replace({'PrecisionDetect': 'Personal'})\n",
        "\n",
        "dfEnero['USUARIO'] = dfEnero['USUARIO'].replace({'CFM servicios administrativos': 'CONAGRA'})\n",
        "dfEnero['USUARIO'] = dfEnero['USUARIO'].replace({'CFM Servicios de Mexico': 'CONAGRA'})\n",
        "dfEnero['USUARIO'] = dfEnero['USUARIO'].replace({'CFM Servicios administrativos México': 'CONAGRA'})\n",
        "dfEnero['USUARIO'] = dfEnero['USUARIO'].replace({'CFM Servicios Administrativos': 'CONAGRA'})\n",
        "\n",
        "dfEnero['USUARIO'] = dfEnero['USUARIO'].replace({'F&P': 'F&P MFG'})\n",
        "dfEnero['USUARIO'] = dfEnero['USUARIO'].replace({'F&P MFG de Mexico SA de CV': 'F&P MFG'})\n",
        "\n",
        "dfEnero['USUARIO'] = dfEnero['USUARIO'].replace({'WRSI Servicios de Mexico S de RL de CV': 'Webasto'})\n",
        "dfEnero['USUARIO'] = dfEnero['USUARIO'].replace({'WRSI Servicios de Mexico': 'Webasto'})\n",
        "dfEnero['USUARIO'] = dfEnero['USUARIO'].replace({'WRSI Servicios de México': 'Webasto'})\n",
        "\n",
        "dfEnero['USUARIO'] = dfEnero['USUARIO'].replace({'Würth Elektronik México': 'Würth'})\n",
        "dfEnero['USUARIO'] = dfEnero['USUARIO'].replace({'Wurth': 'Würth'})\n",
        "\n",
        "dfEnero['USUARIO'] = dfEnero['USUARIO'].replace({'Prupo PTH': 'Grupo PTH'})\n",
        "\n",
        "dfEnero['USUARIO'] = dfEnero['USUARIO'].replace({'EHS DISSA': 'DISSA'})\n",
        "\n",
        "dfEnero['USUARIO'] = dfEnero['USUARIO'].replace({'Iraform (E)': 'Iraform'})\n",
        "dfEnero['USUARIO'] = dfEnero['USUARIO'].replace({'Iraform (E) ': 'Iraform'})\n",
        "\n",
        "dfEnero['USUARIO'] = dfEnero['USUARIO'].replace({'KROMBERG': 'Kromberg'})"
      ],
      "execution_count": 53,
      "outputs": [
        {
          "output_type": "stream",
          "text": [
            "/usr/local/lib/python3.7/dist-packages/ipykernel_launcher.py:3: SettingWithCopyWarning: \n",
            "A value is trying to be set on a copy of a slice from a DataFrame.\n",
            "Try using .loc[row_indexer,col_indexer] = value instead\n",
            "\n",
            "See the caveats in the documentation: https://pandas.pydata.org/pandas-docs/stable/user_guide/indexing.html#returning-a-view-versus-a-copy\n",
            "  This is separate from the ipykernel package so we can avoid doing imports until\n",
            "/usr/local/lib/python3.7/dist-packages/ipykernel_launcher.py:4: SettingWithCopyWarning: \n",
            "A value is trying to be set on a copy of a slice from a DataFrame.\n",
            "Try using .loc[row_indexer,col_indexer] = value instead\n",
            "\n",
            "See the caveats in the documentation: https://pandas.pydata.org/pandas-docs/stable/user_guide/indexing.html#returning-a-view-versus-a-copy\n",
            "  after removing the cwd from sys.path.\n",
            "/usr/local/lib/python3.7/dist-packages/ipykernel_launcher.py:5: SettingWithCopyWarning: \n",
            "A value is trying to be set on a copy of a slice from a DataFrame.\n",
            "Try using .loc[row_indexer,col_indexer] = value instead\n",
            "\n",
            "See the caveats in the documentation: https://pandas.pydata.org/pandas-docs/stable/user_guide/indexing.html#returning-a-view-versus-a-copy\n",
            "  \"\"\"\n",
            "/usr/local/lib/python3.7/dist-packages/ipykernel_launcher.py:6: SettingWithCopyWarning: \n",
            "A value is trying to be set on a copy of a slice from a DataFrame.\n",
            "Try using .loc[row_indexer,col_indexer] = value instead\n",
            "\n",
            "See the caveats in the documentation: https://pandas.pydata.org/pandas-docs/stable/user_guide/indexing.html#returning-a-view-versus-a-copy\n",
            "  \n",
            "/usr/local/lib/python3.7/dist-packages/ipykernel_launcher.py:7: SettingWithCopyWarning: \n",
            "A value is trying to be set on a copy of a slice from a DataFrame.\n",
            "Try using .loc[row_indexer,col_indexer] = value instead\n",
            "\n",
            "See the caveats in the documentation: https://pandas.pydata.org/pandas-docs/stable/user_guide/indexing.html#returning-a-view-versus-a-copy\n",
            "  import sys\n",
            "/usr/local/lib/python3.7/dist-packages/ipykernel_launcher.py:8: SettingWithCopyWarning: \n",
            "A value is trying to be set on a copy of a slice from a DataFrame.\n",
            "Try using .loc[row_indexer,col_indexer] = value instead\n",
            "\n",
            "See the caveats in the documentation: https://pandas.pydata.org/pandas-docs/stable/user_guide/indexing.html#returning-a-view-versus-a-copy\n",
            "  \n",
            "/usr/local/lib/python3.7/dist-packages/ipykernel_launcher.py:9: SettingWithCopyWarning: \n",
            "A value is trying to be set on a copy of a slice from a DataFrame.\n",
            "Try using .loc[row_indexer,col_indexer] = value instead\n",
            "\n",
            "See the caveats in the documentation: https://pandas.pydata.org/pandas-docs/stable/user_guide/indexing.html#returning-a-view-versus-a-copy\n",
            "  if __name__ == '__main__':\n",
            "/usr/local/lib/python3.7/dist-packages/ipykernel_launcher.py:10: SettingWithCopyWarning: \n",
            "A value is trying to be set on a copy of a slice from a DataFrame.\n",
            "Try using .loc[row_indexer,col_indexer] = value instead\n",
            "\n",
            "See the caveats in the documentation: https://pandas.pydata.org/pandas-docs/stable/user_guide/indexing.html#returning-a-view-versus-a-copy\n",
            "  # Remove the CWD from sys.path while we load stuff.\n",
            "/usr/local/lib/python3.7/dist-packages/ipykernel_launcher.py:11: SettingWithCopyWarning: \n",
            "A value is trying to be set on a copy of a slice from a DataFrame.\n",
            "Try using .loc[row_indexer,col_indexer] = value instead\n",
            "\n",
            "See the caveats in the documentation: https://pandas.pydata.org/pandas-docs/stable/user_guide/indexing.html#returning-a-view-versus-a-copy\n",
            "  # This is added back by InteractiveShellApp.init_path()\n",
            "/usr/local/lib/python3.7/dist-packages/ipykernel_launcher.py:12: SettingWithCopyWarning: \n",
            "A value is trying to be set on a copy of a slice from a DataFrame.\n",
            "Try using .loc[row_indexer,col_indexer] = value instead\n",
            "\n",
            "See the caveats in the documentation: https://pandas.pydata.org/pandas-docs/stable/user_guide/indexing.html#returning-a-view-versus-a-copy\n",
            "  if sys.path[0] == '':\n",
            "/usr/local/lib/python3.7/dist-packages/ipykernel_launcher.py:13: SettingWithCopyWarning: \n",
            "A value is trying to be set on a copy of a slice from a DataFrame.\n",
            "Try using .loc[row_indexer,col_indexer] = value instead\n",
            "\n",
            "See the caveats in the documentation: https://pandas.pydata.org/pandas-docs/stable/user_guide/indexing.html#returning-a-view-versus-a-copy\n",
            "  del sys.path[0]\n",
            "/usr/local/lib/python3.7/dist-packages/ipykernel_launcher.py:14: SettingWithCopyWarning: \n",
            "A value is trying to be set on a copy of a slice from a DataFrame.\n",
            "Try using .loc[row_indexer,col_indexer] = value instead\n",
            "\n",
            "See the caveats in the documentation: https://pandas.pydata.org/pandas-docs/stable/user_guide/indexing.html#returning-a-view-versus-a-copy\n",
            "  \n",
            "/usr/local/lib/python3.7/dist-packages/ipykernel_launcher.py:15: SettingWithCopyWarning: \n",
            "A value is trying to be set on a copy of a slice from a DataFrame.\n",
            "Try using .loc[row_indexer,col_indexer] = value instead\n",
            "\n",
            "See the caveats in the documentation: https://pandas.pydata.org/pandas-docs/stable/user_guide/indexing.html#returning-a-view-versus-a-copy\n",
            "  from ipykernel import kernelapp as app\n",
            "/usr/local/lib/python3.7/dist-packages/ipykernel_launcher.py:17: SettingWithCopyWarning: \n",
            "A value is trying to be set on a copy of a slice from a DataFrame.\n",
            "Try using .loc[row_indexer,col_indexer] = value instead\n",
            "\n",
            "See the caveats in the documentation: https://pandas.pydata.org/pandas-docs/stable/user_guide/indexing.html#returning-a-view-versus-a-copy\n",
            "/usr/local/lib/python3.7/dist-packages/ipykernel_launcher.py:18: SettingWithCopyWarning: \n",
            "A value is trying to be set on a copy of a slice from a DataFrame.\n",
            "Try using .loc[row_indexer,col_indexer] = value instead\n",
            "\n",
            "See the caveats in the documentation: https://pandas.pydata.org/pandas-docs/stable/user_guide/indexing.html#returning-a-view-versus-a-copy\n",
            "/usr/local/lib/python3.7/dist-packages/ipykernel_launcher.py:20: SettingWithCopyWarning: \n",
            "A value is trying to be set on a copy of a slice from a DataFrame.\n",
            "Try using .loc[row_indexer,col_indexer] = value instead\n",
            "\n",
            "See the caveats in the documentation: https://pandas.pydata.org/pandas-docs/stable/user_guide/indexing.html#returning-a-view-versus-a-copy\n",
            "/usr/local/lib/python3.7/dist-packages/ipykernel_launcher.py:21: SettingWithCopyWarning: \n",
            "A value is trying to be set on a copy of a slice from a DataFrame.\n",
            "Try using .loc[row_indexer,col_indexer] = value instead\n",
            "\n",
            "See the caveats in the documentation: https://pandas.pydata.org/pandas-docs/stable/user_guide/indexing.html#returning-a-view-versus-a-copy\n",
            "/usr/local/lib/python3.7/dist-packages/ipykernel_launcher.py:22: SettingWithCopyWarning: \n",
            "A value is trying to be set on a copy of a slice from a DataFrame.\n",
            "Try using .loc[row_indexer,col_indexer] = value instead\n",
            "\n",
            "See the caveats in the documentation: https://pandas.pydata.org/pandas-docs/stable/user_guide/indexing.html#returning-a-view-versus-a-copy\n",
            "/usr/local/lib/python3.7/dist-packages/ipykernel_launcher.py:23: SettingWithCopyWarning: \n",
            "A value is trying to be set on a copy of a slice from a DataFrame.\n",
            "Try using .loc[row_indexer,col_indexer] = value instead\n",
            "\n",
            "See the caveats in the documentation: https://pandas.pydata.org/pandas-docs/stable/user_guide/indexing.html#returning-a-view-versus-a-copy\n",
            "/usr/local/lib/python3.7/dist-packages/ipykernel_launcher.py:25: SettingWithCopyWarning: \n",
            "A value is trying to be set on a copy of a slice from a DataFrame.\n",
            "Try using .loc[row_indexer,col_indexer] = value instead\n",
            "\n",
            "See the caveats in the documentation: https://pandas.pydata.org/pandas-docs/stable/user_guide/indexing.html#returning-a-view-versus-a-copy\n",
            "/usr/local/lib/python3.7/dist-packages/ipykernel_launcher.py:26: SettingWithCopyWarning: \n",
            "A value is trying to be set on a copy of a slice from a DataFrame.\n",
            "Try using .loc[row_indexer,col_indexer] = value instead\n",
            "\n",
            "See the caveats in the documentation: https://pandas.pydata.org/pandas-docs/stable/user_guide/indexing.html#returning-a-view-versus-a-copy\n",
            "/usr/local/lib/python3.7/dist-packages/ipykernel_launcher.py:28: SettingWithCopyWarning: \n",
            "A value is trying to be set on a copy of a slice from a DataFrame.\n",
            "Try using .loc[row_indexer,col_indexer] = value instead\n",
            "\n",
            "See the caveats in the documentation: https://pandas.pydata.org/pandas-docs/stable/user_guide/indexing.html#returning-a-view-versus-a-copy\n",
            "/usr/local/lib/python3.7/dist-packages/ipykernel_launcher.py:29: SettingWithCopyWarning: \n",
            "A value is trying to be set on a copy of a slice from a DataFrame.\n",
            "Try using .loc[row_indexer,col_indexer] = value instead\n",
            "\n",
            "See the caveats in the documentation: https://pandas.pydata.org/pandas-docs/stable/user_guide/indexing.html#returning-a-view-versus-a-copy\n",
            "/usr/local/lib/python3.7/dist-packages/ipykernel_launcher.py:30: SettingWithCopyWarning: \n",
            "A value is trying to be set on a copy of a slice from a DataFrame.\n",
            "Try using .loc[row_indexer,col_indexer] = value instead\n",
            "\n",
            "See the caveats in the documentation: https://pandas.pydata.org/pandas-docs/stable/user_guide/indexing.html#returning-a-view-versus-a-copy\n",
            "/usr/local/lib/python3.7/dist-packages/ipykernel_launcher.py:32: SettingWithCopyWarning: \n",
            "A value is trying to be set on a copy of a slice from a DataFrame.\n",
            "Try using .loc[row_indexer,col_indexer] = value instead\n",
            "\n",
            "See the caveats in the documentation: https://pandas.pydata.org/pandas-docs/stable/user_guide/indexing.html#returning-a-view-versus-a-copy\n",
            "/usr/local/lib/python3.7/dist-packages/ipykernel_launcher.py:33: SettingWithCopyWarning: \n",
            "A value is trying to be set on a copy of a slice from a DataFrame.\n",
            "Try using .loc[row_indexer,col_indexer] = value instead\n",
            "\n",
            "See the caveats in the documentation: https://pandas.pydata.org/pandas-docs/stable/user_guide/indexing.html#returning-a-view-versus-a-copy\n",
            "/usr/local/lib/python3.7/dist-packages/ipykernel_launcher.py:35: SettingWithCopyWarning: \n",
            "A value is trying to be set on a copy of a slice from a DataFrame.\n",
            "Try using .loc[row_indexer,col_indexer] = value instead\n",
            "\n",
            "See the caveats in the documentation: https://pandas.pydata.org/pandas-docs/stable/user_guide/indexing.html#returning-a-view-versus-a-copy\n",
            "/usr/local/lib/python3.7/dist-packages/ipykernel_launcher.py:37: SettingWithCopyWarning: \n",
            "A value is trying to be set on a copy of a slice from a DataFrame.\n",
            "Try using .loc[row_indexer,col_indexer] = value instead\n",
            "\n",
            "See the caveats in the documentation: https://pandas.pydata.org/pandas-docs/stable/user_guide/indexing.html#returning-a-view-versus-a-copy\n",
            "/usr/local/lib/python3.7/dist-packages/ipykernel_launcher.py:39: SettingWithCopyWarning: \n",
            "A value is trying to be set on a copy of a slice from a DataFrame.\n",
            "Try using .loc[row_indexer,col_indexer] = value instead\n",
            "\n",
            "See the caveats in the documentation: https://pandas.pydata.org/pandas-docs/stable/user_guide/indexing.html#returning-a-view-versus-a-copy\n",
            "/usr/local/lib/python3.7/dist-packages/ipykernel_launcher.py:40: SettingWithCopyWarning: \n",
            "A value is trying to be set on a copy of a slice from a DataFrame.\n",
            "Try using .loc[row_indexer,col_indexer] = value instead\n",
            "\n",
            "See the caveats in the documentation: https://pandas.pydata.org/pandas-docs/stable/user_guide/indexing.html#returning-a-view-versus-a-copy\n",
            "/usr/local/lib/python3.7/dist-packages/ipykernel_launcher.py:42: SettingWithCopyWarning: \n",
            "A value is trying to be set on a copy of a slice from a DataFrame.\n",
            "Try using .loc[row_indexer,col_indexer] = value instead\n",
            "\n",
            "See the caveats in the documentation: https://pandas.pydata.org/pandas-docs/stable/user_guide/indexing.html#returning-a-view-versus-a-copy\n"
          ],
          "name": "stderr"
        }
      ]
    },
    {
      "cell_type": "code",
      "metadata": {
        "id": "FWKtmk0_5xS-",
        "colab": {
          "base_uri": "https://localhost:8080/"
        },
        "outputId": "ee7f2d15-5ee8-4e8e-f6ae-88330dc9df93"
      },
      "source": [
        "# Ajuste  CLIENTES Febrero\n",
        "\n",
        "dfFebrero['USUARIO'] = dfFebrero['USUARIO'].replace({'Particular (E)': 'Particular'})\n",
        "dfFebrero['USUARIO'] = dfFebrero['USUARIO'].replace({'Particular (E) ': 'Particular'})\n",
        "dfFebrero['USUARIO'] = dfFebrero['USUARIO'].replace({'Particular (Tarjeta)': 'Particular'})\n",
        "dfFebrero['USUARIO'] = dfFebrero['USUARIO'].replace({'Particular (Tarjeta) ': 'Particular'})\n",
        "dfFebrero['USUARIO'] = dfFebrero['USUARIO'].replace({'Particular (Sergio)': 'Particular'})\n",
        "dfFebrero['USUARIO'] = dfFebrero['USUARIO'].replace({'Particular (Ta)': 'Particular'})\n",
        "dfFebrero['USUARIO'] = dfFebrero['USUARIO'].replace({'Particular (Ta) ': 'Particular'})\n",
        "dfFebrero['USUARIO'] = dfFebrero['USUARIO'].replace({'PARTICULAR (E)': 'Particular'})\n",
        "dfFebrero['USUARIO'] = dfFebrero['USUARIO'].replace({'PARTICULAR (E) ': 'Particular'})\n",
        "dfFebrero['USUARIO'] = dfFebrero['USUARIO'].replace({'Particular (TC)': 'Particular'})\n",
        "dfFebrero['USUARIO'] = dfFebrero['USUARIO'].replace({'PARTICULAR': 'Particular'})\n",
        "dfFebrero['USUARIO'] = dfFebrero['USUARIO'].replace({'PARTICULAR ': 'Particular'})\n",
        "\n",
        "dfFebrero['USUARIO'] = dfFebrero['USUARIO'].replace({'Würth Elektronik': 'Würth'})\n",
        "\n",
        "dfFebrero['USUARIO'] = dfFebrero['USUARIO'].replace({'CFM Servicios Administrativos México': 'CONAGRA'})\n",
        "dfFebrero['USUARIO'] = dfFebrero['USUARIO'].replace({'CFM servicios administrativos': 'CONAGRA'})\n",
        "dfFebrero['USUARIO'] = dfFebrero['USUARIO'].replace({'CFM Servicios Administrativos ': 'CONAGRA'})\n",
        "dfFebrero['USUARIO'] = dfFebrero['USUARIO'].replace({'CFM Servicios Administrativos  ': 'CONAGRA'})\n",
        "dfFebrero['USUARIO'] = dfFebrero['USUARIO'].replace({'CFM Servicios Administrativos   ': 'CONAGRA'})\n",
        "dfFebrero['USUARIO'] = dfFebrero['USUARIO'].replace({' CFM Servicios Administrativos   ': 'CONAGRA'})\n",
        "dfFebrero['USUARIO'] = dfFebrero['USUARIO'].replace({'CFM Servicios Administrativos': 'CONAGRA'})\n",
        "\n",
        "dfFebrero['USUARIO'] = dfFebrero['USUARIO'].replace({'Conagra': 'CONAGRA'})\n",
        "\n",
        "dfFebrero['USUARIO'] = dfFebrero['USUARIO'].replace({'WRSI Servicios de Mexico S de RL de CV': 'Webasto'})\n",
        "dfFebrero['USUARIO'] = dfFebrero['USUARIO'].replace({'webasto': 'Webasto'})\n",
        "\n",
        "dfFebrero['USUARIO'] = dfFebrero['USUARIO'].replace({'IRAFORM': 'Iraform'})"
      ],
      "execution_count": 54,
      "outputs": [
        {
          "output_type": "stream",
          "text": [
            "/usr/local/lib/python3.7/dist-packages/ipykernel_launcher.py:3: SettingWithCopyWarning: \n",
            "A value is trying to be set on a copy of a slice from a DataFrame.\n",
            "Try using .loc[row_indexer,col_indexer] = value instead\n",
            "\n",
            "See the caveats in the documentation: https://pandas.pydata.org/pandas-docs/stable/user_guide/indexing.html#returning-a-view-versus-a-copy\n",
            "  This is separate from the ipykernel package so we can avoid doing imports until\n",
            "/usr/local/lib/python3.7/dist-packages/ipykernel_launcher.py:4: SettingWithCopyWarning: \n",
            "A value is trying to be set on a copy of a slice from a DataFrame.\n",
            "Try using .loc[row_indexer,col_indexer] = value instead\n",
            "\n",
            "See the caveats in the documentation: https://pandas.pydata.org/pandas-docs/stable/user_guide/indexing.html#returning-a-view-versus-a-copy\n",
            "  after removing the cwd from sys.path.\n",
            "/usr/local/lib/python3.7/dist-packages/ipykernel_launcher.py:5: SettingWithCopyWarning: \n",
            "A value is trying to be set on a copy of a slice from a DataFrame.\n",
            "Try using .loc[row_indexer,col_indexer] = value instead\n",
            "\n",
            "See the caveats in the documentation: https://pandas.pydata.org/pandas-docs/stable/user_guide/indexing.html#returning-a-view-versus-a-copy\n",
            "  \"\"\"\n",
            "/usr/local/lib/python3.7/dist-packages/ipykernel_launcher.py:6: SettingWithCopyWarning: \n",
            "A value is trying to be set on a copy of a slice from a DataFrame.\n",
            "Try using .loc[row_indexer,col_indexer] = value instead\n",
            "\n",
            "See the caveats in the documentation: https://pandas.pydata.org/pandas-docs/stable/user_guide/indexing.html#returning-a-view-versus-a-copy\n",
            "  \n",
            "/usr/local/lib/python3.7/dist-packages/ipykernel_launcher.py:7: SettingWithCopyWarning: \n",
            "A value is trying to be set on a copy of a slice from a DataFrame.\n",
            "Try using .loc[row_indexer,col_indexer] = value instead\n",
            "\n",
            "See the caveats in the documentation: https://pandas.pydata.org/pandas-docs/stable/user_guide/indexing.html#returning-a-view-versus-a-copy\n",
            "  import sys\n",
            "/usr/local/lib/python3.7/dist-packages/ipykernel_launcher.py:8: SettingWithCopyWarning: \n",
            "A value is trying to be set on a copy of a slice from a DataFrame.\n",
            "Try using .loc[row_indexer,col_indexer] = value instead\n",
            "\n",
            "See the caveats in the documentation: https://pandas.pydata.org/pandas-docs/stable/user_guide/indexing.html#returning-a-view-versus-a-copy\n",
            "  \n",
            "/usr/local/lib/python3.7/dist-packages/ipykernel_launcher.py:9: SettingWithCopyWarning: \n",
            "A value is trying to be set on a copy of a slice from a DataFrame.\n",
            "Try using .loc[row_indexer,col_indexer] = value instead\n",
            "\n",
            "See the caveats in the documentation: https://pandas.pydata.org/pandas-docs/stable/user_guide/indexing.html#returning-a-view-versus-a-copy\n",
            "  if __name__ == '__main__':\n",
            "/usr/local/lib/python3.7/dist-packages/ipykernel_launcher.py:10: SettingWithCopyWarning: \n",
            "A value is trying to be set on a copy of a slice from a DataFrame.\n",
            "Try using .loc[row_indexer,col_indexer] = value instead\n",
            "\n",
            "See the caveats in the documentation: https://pandas.pydata.org/pandas-docs/stable/user_guide/indexing.html#returning-a-view-versus-a-copy\n",
            "  # Remove the CWD from sys.path while we load stuff.\n",
            "/usr/local/lib/python3.7/dist-packages/ipykernel_launcher.py:11: SettingWithCopyWarning: \n",
            "A value is trying to be set on a copy of a slice from a DataFrame.\n",
            "Try using .loc[row_indexer,col_indexer] = value instead\n",
            "\n",
            "See the caveats in the documentation: https://pandas.pydata.org/pandas-docs/stable/user_guide/indexing.html#returning-a-view-versus-a-copy\n",
            "  # This is added back by InteractiveShellApp.init_path()\n",
            "/usr/local/lib/python3.7/dist-packages/ipykernel_launcher.py:12: SettingWithCopyWarning: \n",
            "A value is trying to be set on a copy of a slice from a DataFrame.\n",
            "Try using .loc[row_indexer,col_indexer] = value instead\n",
            "\n",
            "See the caveats in the documentation: https://pandas.pydata.org/pandas-docs/stable/user_guide/indexing.html#returning-a-view-versus-a-copy\n",
            "  if sys.path[0] == '':\n",
            "/usr/local/lib/python3.7/dist-packages/ipykernel_launcher.py:13: SettingWithCopyWarning: \n",
            "A value is trying to be set on a copy of a slice from a DataFrame.\n",
            "Try using .loc[row_indexer,col_indexer] = value instead\n",
            "\n",
            "See the caveats in the documentation: https://pandas.pydata.org/pandas-docs/stable/user_guide/indexing.html#returning-a-view-versus-a-copy\n",
            "  del sys.path[0]\n",
            "/usr/local/lib/python3.7/dist-packages/ipykernel_launcher.py:14: SettingWithCopyWarning: \n",
            "A value is trying to be set on a copy of a slice from a DataFrame.\n",
            "Try using .loc[row_indexer,col_indexer] = value instead\n",
            "\n",
            "See the caveats in the documentation: https://pandas.pydata.org/pandas-docs/stable/user_guide/indexing.html#returning-a-view-versus-a-copy\n",
            "  \n",
            "/usr/local/lib/python3.7/dist-packages/ipykernel_launcher.py:16: SettingWithCopyWarning: \n",
            "A value is trying to be set on a copy of a slice from a DataFrame.\n",
            "Try using .loc[row_indexer,col_indexer] = value instead\n",
            "\n",
            "See the caveats in the documentation: https://pandas.pydata.org/pandas-docs/stable/user_guide/indexing.html#returning-a-view-versus-a-copy\n",
            "  app.launch_new_instance()\n",
            "/usr/local/lib/python3.7/dist-packages/ipykernel_launcher.py:18: SettingWithCopyWarning: \n",
            "A value is trying to be set on a copy of a slice from a DataFrame.\n",
            "Try using .loc[row_indexer,col_indexer] = value instead\n",
            "\n",
            "See the caveats in the documentation: https://pandas.pydata.org/pandas-docs/stable/user_guide/indexing.html#returning-a-view-versus-a-copy\n",
            "/usr/local/lib/python3.7/dist-packages/ipykernel_launcher.py:19: SettingWithCopyWarning: \n",
            "A value is trying to be set on a copy of a slice from a DataFrame.\n",
            "Try using .loc[row_indexer,col_indexer] = value instead\n",
            "\n",
            "See the caveats in the documentation: https://pandas.pydata.org/pandas-docs/stable/user_guide/indexing.html#returning-a-view-versus-a-copy\n",
            "/usr/local/lib/python3.7/dist-packages/ipykernel_launcher.py:20: SettingWithCopyWarning: \n",
            "A value is trying to be set on a copy of a slice from a DataFrame.\n",
            "Try using .loc[row_indexer,col_indexer] = value instead\n",
            "\n",
            "See the caveats in the documentation: https://pandas.pydata.org/pandas-docs/stable/user_guide/indexing.html#returning-a-view-versus-a-copy\n",
            "/usr/local/lib/python3.7/dist-packages/ipykernel_launcher.py:21: SettingWithCopyWarning: \n",
            "A value is trying to be set on a copy of a slice from a DataFrame.\n",
            "Try using .loc[row_indexer,col_indexer] = value instead\n",
            "\n",
            "See the caveats in the documentation: https://pandas.pydata.org/pandas-docs/stable/user_guide/indexing.html#returning-a-view-versus-a-copy\n",
            "/usr/local/lib/python3.7/dist-packages/ipykernel_launcher.py:22: SettingWithCopyWarning: \n",
            "A value is trying to be set on a copy of a slice from a DataFrame.\n",
            "Try using .loc[row_indexer,col_indexer] = value instead\n",
            "\n",
            "See the caveats in the documentation: https://pandas.pydata.org/pandas-docs/stable/user_guide/indexing.html#returning-a-view-versus-a-copy\n",
            "/usr/local/lib/python3.7/dist-packages/ipykernel_launcher.py:23: SettingWithCopyWarning: \n",
            "A value is trying to be set on a copy of a slice from a DataFrame.\n",
            "Try using .loc[row_indexer,col_indexer] = value instead\n",
            "\n",
            "See the caveats in the documentation: https://pandas.pydata.org/pandas-docs/stable/user_guide/indexing.html#returning-a-view-versus-a-copy\n",
            "/usr/local/lib/python3.7/dist-packages/ipykernel_launcher.py:24: SettingWithCopyWarning: \n",
            "A value is trying to be set on a copy of a slice from a DataFrame.\n",
            "Try using .loc[row_indexer,col_indexer] = value instead\n",
            "\n",
            "See the caveats in the documentation: https://pandas.pydata.org/pandas-docs/stable/user_guide/indexing.html#returning-a-view-versus-a-copy\n",
            "/usr/local/lib/python3.7/dist-packages/ipykernel_launcher.py:26: SettingWithCopyWarning: \n",
            "A value is trying to be set on a copy of a slice from a DataFrame.\n",
            "Try using .loc[row_indexer,col_indexer] = value instead\n",
            "\n",
            "See the caveats in the documentation: https://pandas.pydata.org/pandas-docs/stable/user_guide/indexing.html#returning-a-view-versus-a-copy\n",
            "/usr/local/lib/python3.7/dist-packages/ipykernel_launcher.py:28: SettingWithCopyWarning: \n",
            "A value is trying to be set on a copy of a slice from a DataFrame.\n",
            "Try using .loc[row_indexer,col_indexer] = value instead\n",
            "\n",
            "See the caveats in the documentation: https://pandas.pydata.org/pandas-docs/stable/user_guide/indexing.html#returning-a-view-versus-a-copy\n",
            "/usr/local/lib/python3.7/dist-packages/ipykernel_launcher.py:29: SettingWithCopyWarning: \n",
            "A value is trying to be set on a copy of a slice from a DataFrame.\n",
            "Try using .loc[row_indexer,col_indexer] = value instead\n",
            "\n",
            "See the caveats in the documentation: https://pandas.pydata.org/pandas-docs/stable/user_guide/indexing.html#returning-a-view-versus-a-copy\n",
            "/usr/local/lib/python3.7/dist-packages/ipykernel_launcher.py:31: SettingWithCopyWarning: \n",
            "A value is trying to be set on a copy of a slice from a DataFrame.\n",
            "Try using .loc[row_indexer,col_indexer] = value instead\n",
            "\n",
            "See the caveats in the documentation: https://pandas.pydata.org/pandas-docs/stable/user_guide/indexing.html#returning-a-view-versus-a-copy\n"
          ],
          "name": "stderr"
        }
      ]
    },
    {
      "cell_type": "code",
      "metadata": {
        "id": "-1yzsZtFzap0",
        "colab": {
          "base_uri": "https://localhost:8080/"
        },
        "outputId": "ba232f12-495b-4d50-862b-31e7e4c03940"
      },
      "source": [
        "# Ajuste  CLIENTES Marzo\n",
        "\n",
        "dfMarzo['USUARIO'] = dfMarzo['USUARIO'].replace({'Particular (E)': 'Particular'})\n",
        "dfMarzo['USUARIO'] = dfMarzo['USUARIO'].replace({'Particular (TD)': 'Particular'})\n",
        "dfMarzo['USUARIO'] = dfMarzo['USUARIO'].replace({'Particular (TD) ': 'Particular'})\n",
        "dfMarzo['USUARIO'] = dfMarzo['USUARIO'].replace({'Particular (Ta)': 'Particular'})\n",
        "dfMarzo['USUARIO'] = dfMarzo['USUARIO'].replace({'Particular (Ta) ': 'Particular'})\n",
        "dfMarzo['USUARIO'] = dfMarzo['USUARIO'].replace({'Particular (T)': 'Particular'})\n",
        "dfMarzo['USUARIO'] = dfMarzo['USUARIO'].replace({'Particular (T) ': 'Particular'})\n",
        "dfMarzo['USUARIO'] = dfMarzo['USUARIO'].replace({'Particular (E) ': 'Particular'})\n",
        "dfMarzo['USUARIO'] = dfMarzo['USUARIO'].replace({'Particular (TC)': 'Particular'})\n",
        "dfMarzo['USUARIO'] = dfMarzo['USUARIO'].replace({'Particular (TC) ': 'Particular'})\n",
        "dfMarzo['USUARIO'] = dfMarzo['USUARIO'].replace({'Particular (Sergio)': 'Particular'})\n",
        "\n",
        "dfMarzo['USUARIO'] = dfMarzo['USUARIO'].replace({'EHS DISSA': 'DISSA'})\n",
        "\n",
        "dfMarzo['USUARIO'] = dfMarzo['USUARIO'].replace({'Würth Elektronik': 'Würth'})\n",
        "\n",
        "dfMarzo['USUARIO'] = dfMarzo['USUARIO'].replace({'WRSI Servicios de Mexico S de RL de CV': 'Webasto'})\n",
        "dfMarzo['USUARIO'] = dfMarzo['USUARIO'].replace({'webasto': 'Webasto'})\n",
        "\n",
        "dfMarzo['USUARIO'] = dfMarzo['USUARIO'].replace({'CFM Servicios Administrativos': 'CONAGRA'})\n",
        "dfMarzo['USUARIO'] = dfMarzo['USUARIO'].replace({'Conagra': 'CONAGRA'})\n",
        "\n",
        "dfMarzo['USUARIO'] = dfMarzo['USUARIO'].replace({'Conagra': 'CONAGRA'})\n",
        "\n",
        "dfMarzo['USUARIO'] = dfMarzo['USUARIO'].replace({'F&P MGF': 'F&P MFG'})"
      ],
      "execution_count": 55,
      "outputs": [
        {
          "output_type": "stream",
          "text": [
            "/usr/local/lib/python3.7/dist-packages/ipykernel_launcher.py:3: SettingWithCopyWarning: \n",
            "A value is trying to be set on a copy of a slice from a DataFrame.\n",
            "Try using .loc[row_indexer,col_indexer] = value instead\n",
            "\n",
            "See the caveats in the documentation: https://pandas.pydata.org/pandas-docs/stable/user_guide/indexing.html#returning-a-view-versus-a-copy\n",
            "  This is separate from the ipykernel package so we can avoid doing imports until\n",
            "/usr/local/lib/python3.7/dist-packages/ipykernel_launcher.py:4: SettingWithCopyWarning: \n",
            "A value is trying to be set on a copy of a slice from a DataFrame.\n",
            "Try using .loc[row_indexer,col_indexer] = value instead\n",
            "\n",
            "See the caveats in the documentation: https://pandas.pydata.org/pandas-docs/stable/user_guide/indexing.html#returning-a-view-versus-a-copy\n",
            "  after removing the cwd from sys.path.\n",
            "/usr/local/lib/python3.7/dist-packages/ipykernel_launcher.py:5: SettingWithCopyWarning: \n",
            "A value is trying to be set on a copy of a slice from a DataFrame.\n",
            "Try using .loc[row_indexer,col_indexer] = value instead\n",
            "\n",
            "See the caveats in the documentation: https://pandas.pydata.org/pandas-docs/stable/user_guide/indexing.html#returning-a-view-versus-a-copy\n",
            "  \"\"\"\n",
            "/usr/local/lib/python3.7/dist-packages/ipykernel_launcher.py:6: SettingWithCopyWarning: \n",
            "A value is trying to be set on a copy of a slice from a DataFrame.\n",
            "Try using .loc[row_indexer,col_indexer] = value instead\n",
            "\n",
            "See the caveats in the documentation: https://pandas.pydata.org/pandas-docs/stable/user_guide/indexing.html#returning-a-view-versus-a-copy\n",
            "  \n",
            "/usr/local/lib/python3.7/dist-packages/ipykernel_launcher.py:7: SettingWithCopyWarning: \n",
            "A value is trying to be set on a copy of a slice from a DataFrame.\n",
            "Try using .loc[row_indexer,col_indexer] = value instead\n",
            "\n",
            "See the caveats in the documentation: https://pandas.pydata.org/pandas-docs/stable/user_guide/indexing.html#returning-a-view-versus-a-copy\n",
            "  import sys\n",
            "/usr/local/lib/python3.7/dist-packages/ipykernel_launcher.py:8: SettingWithCopyWarning: \n",
            "A value is trying to be set on a copy of a slice from a DataFrame.\n",
            "Try using .loc[row_indexer,col_indexer] = value instead\n",
            "\n",
            "See the caveats in the documentation: https://pandas.pydata.org/pandas-docs/stable/user_guide/indexing.html#returning-a-view-versus-a-copy\n",
            "  \n",
            "/usr/local/lib/python3.7/dist-packages/ipykernel_launcher.py:9: SettingWithCopyWarning: \n",
            "A value is trying to be set on a copy of a slice from a DataFrame.\n",
            "Try using .loc[row_indexer,col_indexer] = value instead\n",
            "\n",
            "See the caveats in the documentation: https://pandas.pydata.org/pandas-docs/stable/user_guide/indexing.html#returning-a-view-versus-a-copy\n",
            "  if __name__ == '__main__':\n",
            "/usr/local/lib/python3.7/dist-packages/ipykernel_launcher.py:10: SettingWithCopyWarning: \n",
            "A value is trying to be set on a copy of a slice from a DataFrame.\n",
            "Try using .loc[row_indexer,col_indexer] = value instead\n",
            "\n",
            "See the caveats in the documentation: https://pandas.pydata.org/pandas-docs/stable/user_guide/indexing.html#returning-a-view-versus-a-copy\n",
            "  # Remove the CWD from sys.path while we load stuff.\n",
            "/usr/local/lib/python3.7/dist-packages/ipykernel_launcher.py:11: SettingWithCopyWarning: \n",
            "A value is trying to be set on a copy of a slice from a DataFrame.\n",
            "Try using .loc[row_indexer,col_indexer] = value instead\n",
            "\n",
            "See the caveats in the documentation: https://pandas.pydata.org/pandas-docs/stable/user_guide/indexing.html#returning-a-view-versus-a-copy\n",
            "  # This is added back by InteractiveShellApp.init_path()\n",
            "/usr/local/lib/python3.7/dist-packages/ipykernel_launcher.py:12: SettingWithCopyWarning: \n",
            "A value is trying to be set on a copy of a slice from a DataFrame.\n",
            "Try using .loc[row_indexer,col_indexer] = value instead\n",
            "\n",
            "See the caveats in the documentation: https://pandas.pydata.org/pandas-docs/stable/user_guide/indexing.html#returning-a-view-versus-a-copy\n",
            "  if sys.path[0] == '':\n",
            "/usr/local/lib/python3.7/dist-packages/ipykernel_launcher.py:13: SettingWithCopyWarning: \n",
            "A value is trying to be set on a copy of a slice from a DataFrame.\n",
            "Try using .loc[row_indexer,col_indexer] = value instead\n",
            "\n",
            "See the caveats in the documentation: https://pandas.pydata.org/pandas-docs/stable/user_guide/indexing.html#returning-a-view-versus-a-copy\n",
            "  del sys.path[0]\n",
            "/usr/local/lib/python3.7/dist-packages/ipykernel_launcher.py:15: SettingWithCopyWarning: \n",
            "A value is trying to be set on a copy of a slice from a DataFrame.\n",
            "Try using .loc[row_indexer,col_indexer] = value instead\n",
            "\n",
            "See the caveats in the documentation: https://pandas.pydata.org/pandas-docs/stable/user_guide/indexing.html#returning-a-view-versus-a-copy\n",
            "  from ipykernel import kernelapp as app\n",
            "/usr/local/lib/python3.7/dist-packages/ipykernel_launcher.py:17: SettingWithCopyWarning: \n",
            "A value is trying to be set on a copy of a slice from a DataFrame.\n",
            "Try using .loc[row_indexer,col_indexer] = value instead\n",
            "\n",
            "See the caveats in the documentation: https://pandas.pydata.org/pandas-docs/stable/user_guide/indexing.html#returning-a-view-versus-a-copy\n",
            "/usr/local/lib/python3.7/dist-packages/ipykernel_launcher.py:19: SettingWithCopyWarning: \n",
            "A value is trying to be set on a copy of a slice from a DataFrame.\n",
            "Try using .loc[row_indexer,col_indexer] = value instead\n",
            "\n",
            "See the caveats in the documentation: https://pandas.pydata.org/pandas-docs/stable/user_guide/indexing.html#returning-a-view-versus-a-copy\n",
            "/usr/local/lib/python3.7/dist-packages/ipykernel_launcher.py:20: SettingWithCopyWarning: \n",
            "A value is trying to be set on a copy of a slice from a DataFrame.\n",
            "Try using .loc[row_indexer,col_indexer] = value instead\n",
            "\n",
            "See the caveats in the documentation: https://pandas.pydata.org/pandas-docs/stable/user_guide/indexing.html#returning-a-view-versus-a-copy\n",
            "/usr/local/lib/python3.7/dist-packages/ipykernel_launcher.py:22: SettingWithCopyWarning: \n",
            "A value is trying to be set on a copy of a slice from a DataFrame.\n",
            "Try using .loc[row_indexer,col_indexer] = value instead\n",
            "\n",
            "See the caveats in the documentation: https://pandas.pydata.org/pandas-docs/stable/user_guide/indexing.html#returning-a-view-versus-a-copy\n",
            "/usr/local/lib/python3.7/dist-packages/ipykernel_launcher.py:23: SettingWithCopyWarning: \n",
            "A value is trying to be set on a copy of a slice from a DataFrame.\n",
            "Try using .loc[row_indexer,col_indexer] = value instead\n",
            "\n",
            "See the caveats in the documentation: https://pandas.pydata.org/pandas-docs/stable/user_guide/indexing.html#returning-a-view-versus-a-copy\n",
            "/usr/local/lib/python3.7/dist-packages/ipykernel_launcher.py:25: SettingWithCopyWarning: \n",
            "A value is trying to be set on a copy of a slice from a DataFrame.\n",
            "Try using .loc[row_indexer,col_indexer] = value instead\n",
            "\n",
            "See the caveats in the documentation: https://pandas.pydata.org/pandas-docs/stable/user_guide/indexing.html#returning-a-view-versus-a-copy\n",
            "/usr/local/lib/python3.7/dist-packages/ipykernel_launcher.py:27: SettingWithCopyWarning: \n",
            "A value is trying to be set on a copy of a slice from a DataFrame.\n",
            "Try using .loc[row_indexer,col_indexer] = value instead\n",
            "\n",
            "See the caveats in the documentation: https://pandas.pydata.org/pandas-docs/stable/user_guide/indexing.html#returning-a-view-versus-a-copy\n"
          ],
          "name": "stderr"
        }
      ]
    },
    {
      "cell_type": "code",
      "metadata": {
        "id": "_GXdfjsu2tjM",
        "colab": {
          "base_uri": "https://localhost:8080/"
        },
        "outputId": "c0a1be13-0a70-4d43-c676-65de79eb4806"
      },
      "source": [
        "# Ajuste  CLIENTES Abril\n",
        "\n",
        "dfAbril['USUARIO'] = dfAbril['USUARIO'].replace({'Particular (E)': 'Particular'})\n",
        "dfAbril['USUARIO'] = dfAbril['USUARIO'].replace({'Particular (E) ': 'Particular'})\n",
        "dfAbril['USUARIO'] = dfAbril['USUARIO'].replace({'Particular (T) ': 'Particular'})\n",
        "dfAbril['USUARIO'] = dfAbril['USUARIO'].replace({'Particular (Ta)': 'Particular'})\n",
        "dfAbril['USUARIO'] = dfAbril['USUARIO'].replace({'Particular (Ta) ': 'Particular'})\n",
        "dfAbril['USUARIO'] = dfAbril['USUARIO'].replace({'Particular (TD)': 'Particular'})\n",
        "\n",
        "dfAbril['USUARIO'] = dfAbril['USUARIO'].replace({'PrecisionDetect': 'Personal'})\n",
        "\n",
        "dfAbril['USUARIO'] = dfAbril['USUARIO'].replace({'WRSI Servicios de Mexico S de RL de CV': 'Webasto'})\n",
        "\n",
        "dfAbril['USUARIO'] = dfAbril['USUARIO'].replace({'F&P MGF': 'F&P MFG'})\n",
        "\n",
        "dfAbril['USUARIO'] = dfAbril['USUARIO'].replace({'Conagra': 'CONAGRA'})"
      ],
      "execution_count": 56,
      "outputs": [
        {
          "output_type": "stream",
          "text": [
            "/usr/local/lib/python3.7/dist-packages/ipykernel_launcher.py:3: SettingWithCopyWarning: \n",
            "A value is trying to be set on a copy of a slice from a DataFrame.\n",
            "Try using .loc[row_indexer,col_indexer] = value instead\n",
            "\n",
            "See the caveats in the documentation: https://pandas.pydata.org/pandas-docs/stable/user_guide/indexing.html#returning-a-view-versus-a-copy\n",
            "  This is separate from the ipykernel package so we can avoid doing imports until\n",
            "/usr/local/lib/python3.7/dist-packages/ipykernel_launcher.py:4: SettingWithCopyWarning: \n",
            "A value is trying to be set on a copy of a slice from a DataFrame.\n",
            "Try using .loc[row_indexer,col_indexer] = value instead\n",
            "\n",
            "See the caveats in the documentation: https://pandas.pydata.org/pandas-docs/stable/user_guide/indexing.html#returning-a-view-versus-a-copy\n",
            "  after removing the cwd from sys.path.\n",
            "/usr/local/lib/python3.7/dist-packages/ipykernel_launcher.py:5: SettingWithCopyWarning: \n",
            "A value is trying to be set on a copy of a slice from a DataFrame.\n",
            "Try using .loc[row_indexer,col_indexer] = value instead\n",
            "\n",
            "See the caveats in the documentation: https://pandas.pydata.org/pandas-docs/stable/user_guide/indexing.html#returning-a-view-versus-a-copy\n",
            "  \"\"\"\n",
            "/usr/local/lib/python3.7/dist-packages/ipykernel_launcher.py:6: SettingWithCopyWarning: \n",
            "A value is trying to be set on a copy of a slice from a DataFrame.\n",
            "Try using .loc[row_indexer,col_indexer] = value instead\n",
            "\n",
            "See the caveats in the documentation: https://pandas.pydata.org/pandas-docs/stable/user_guide/indexing.html#returning-a-view-versus-a-copy\n",
            "  \n",
            "/usr/local/lib/python3.7/dist-packages/ipykernel_launcher.py:7: SettingWithCopyWarning: \n",
            "A value is trying to be set on a copy of a slice from a DataFrame.\n",
            "Try using .loc[row_indexer,col_indexer] = value instead\n",
            "\n",
            "See the caveats in the documentation: https://pandas.pydata.org/pandas-docs/stable/user_guide/indexing.html#returning-a-view-versus-a-copy\n",
            "  import sys\n",
            "/usr/local/lib/python3.7/dist-packages/ipykernel_launcher.py:8: SettingWithCopyWarning: \n",
            "A value is trying to be set on a copy of a slice from a DataFrame.\n",
            "Try using .loc[row_indexer,col_indexer] = value instead\n",
            "\n",
            "See the caveats in the documentation: https://pandas.pydata.org/pandas-docs/stable/user_guide/indexing.html#returning-a-view-versus-a-copy\n",
            "  \n",
            "/usr/local/lib/python3.7/dist-packages/ipykernel_launcher.py:10: SettingWithCopyWarning: \n",
            "A value is trying to be set on a copy of a slice from a DataFrame.\n",
            "Try using .loc[row_indexer,col_indexer] = value instead\n",
            "\n",
            "See the caveats in the documentation: https://pandas.pydata.org/pandas-docs/stable/user_guide/indexing.html#returning-a-view-versus-a-copy\n",
            "  # Remove the CWD from sys.path while we load stuff.\n",
            "/usr/local/lib/python3.7/dist-packages/ipykernel_launcher.py:12: SettingWithCopyWarning: \n",
            "A value is trying to be set on a copy of a slice from a DataFrame.\n",
            "Try using .loc[row_indexer,col_indexer] = value instead\n",
            "\n",
            "See the caveats in the documentation: https://pandas.pydata.org/pandas-docs/stable/user_guide/indexing.html#returning-a-view-versus-a-copy\n",
            "  if sys.path[0] == '':\n",
            "/usr/local/lib/python3.7/dist-packages/ipykernel_launcher.py:14: SettingWithCopyWarning: \n",
            "A value is trying to be set on a copy of a slice from a DataFrame.\n",
            "Try using .loc[row_indexer,col_indexer] = value instead\n",
            "\n",
            "See the caveats in the documentation: https://pandas.pydata.org/pandas-docs/stable/user_guide/indexing.html#returning-a-view-versus-a-copy\n",
            "  \n",
            "/usr/local/lib/python3.7/dist-packages/ipykernel_launcher.py:16: SettingWithCopyWarning: \n",
            "A value is trying to be set on a copy of a slice from a DataFrame.\n",
            "Try using .loc[row_indexer,col_indexer] = value instead\n",
            "\n",
            "See the caveats in the documentation: https://pandas.pydata.org/pandas-docs/stable/user_guide/indexing.html#returning-a-view-versus-a-copy\n",
            "  app.launch_new_instance()\n"
          ],
          "name": "stderr"
        }
      ]
    },
    {
      "cell_type": "markdown",
      "metadata": {
        "id": "rGU-TiLBiSMt"
      },
      "source": [
        "### Comprobador de clientes. Cambiar mes"
      ]
    },
    {
      "cell_type": "code",
      "metadata": {
        "id": "5ii2uSMHv-z3"
      },
      "source": [
        "#dfDiciembre['USUARIO'].value_counts()\n",
        "#dfEnero['USUARIO'].value_counts()\n",
        "#dfFebrero['USUARIO'].value_counts()\n",
        "#dfMarzo['USUARIO'].value_counts()\n",
        "#dfAbril['USUARIO'].value_counts()"
      ],
      "execution_count": 57,
      "outputs": []
    },
    {
      "cell_type": "code",
      "metadata": {
        "id": "1U8ZmGC05O5l",
        "colab": {
          "base_uri": "https://localhost:8080/"
        },
        "outputId": "71fedfe3-3847-46ec-f41b-c68b18e67a92"
      },
      "source": [
        "#dfDiciembre.isnull().sum()\n",
        "dfEnero.isnull().sum()\n",
        "#dfFebrero.isnull().sum()\n",
        "#dfMarzo.isnull().sum()\n",
        "#dfAbril.isnull().sum()"
      ],
      "execution_count": 58,
      "outputs": [
        {
          "output_type": "execute_result",
          "data": {
            "text/plain": [
              "0\n",
              "USUARIO             0\n",
              "NOMBRE              0\n",
              "APELLIDO            0\n",
              "SEXO                0\n",
              "EDAD                0\n",
              "SINTOMAS            0\n",
              "ID MUESTRA          0\n",
              "FECHA EXTRACCION    0\n",
              "RESULTADO           0\n",
              "dtype: int64"
            ]
          },
          "metadata": {
            "tags": []
          },
          "execution_count": 58
        }
      ]
    },
    {
      "cell_type": "code",
      "metadata": {
        "colab": {
          "base_uri": "https://localhost:8080/",
          "height": 198
        },
        "id": "4O9HDu97orEu",
        "outputId": "11046fe1-d632-49e4-e415-92bfee77b534"
      },
      "source": [
        "#dfDiciembre.head()\n",
        "dfEnero.head()\n",
        "#dfFebrero.head()\n",
        "#dfMarzo.head()\n",
        "#dfAbril.head()"
      ],
      "execution_count": 59,
      "outputs": [
        {
          "output_type": "execute_result",
          "data": {
            "text/html": [
              "<div>\n",
              "<style scoped>\n",
              "    .dataframe tbody tr th:only-of-type {\n",
              "        vertical-align: middle;\n",
              "    }\n",
              "\n",
              "    .dataframe tbody tr th {\n",
              "        vertical-align: top;\n",
              "    }\n",
              "\n",
              "    .dataframe thead th {\n",
              "        text-align: right;\n",
              "    }\n",
              "</style>\n",
              "<table border=\"1\" class=\"dataframe\">\n",
              "  <thead>\n",
              "    <tr style=\"text-align: right;\">\n",
              "      <th></th>\n",
              "      <th>USUARIO</th>\n",
              "      <th>NOMBRE</th>\n",
              "      <th>APELLIDO</th>\n",
              "      <th>SEXO</th>\n",
              "      <th>EDAD</th>\n",
              "      <th>SINTOMAS</th>\n",
              "      <th>ID MUESTRA</th>\n",
              "      <th>FECHA EXTRACCION</th>\n",
              "      <th>RESULTADO</th>\n",
              "    </tr>\n",
              "  </thead>\n",
              "  <tbody>\n",
              "    <tr>\n",
              "      <th>737</th>\n",
              "      <td>Particular</td>\n",
              "      <td>Israel</td>\n",
              "      <td>Avila Neri</td>\n",
              "      <td>Masculino</td>\n",
              "      <td>47.0</td>\n",
              "      <td>No</td>\n",
              "      <td>PD.PD.02.0987</td>\n",
              "      <td>2021-01-04</td>\n",
              "      <td>Negativo</td>\n",
              "    </tr>\n",
              "    <tr>\n",
              "      <th>738</th>\n",
              "      <td>Particular</td>\n",
              "      <td>Ignacio</td>\n",
              "      <td>Zamudio Cortéz</td>\n",
              "      <td>Masculino</td>\n",
              "      <td>55.0</td>\n",
              "      <td>No</td>\n",
              "      <td>PD.PD.02.0988</td>\n",
              "      <td>2021-01-04</td>\n",
              "      <td>Negativo</td>\n",
              "    </tr>\n",
              "    <tr>\n",
              "      <th>739</th>\n",
              "      <td>INFORUM</td>\n",
              "      <td>Gustavo</td>\n",
              "      <td>García Sánchez</td>\n",
              "      <td>Masculino</td>\n",
              "      <td>31.0</td>\n",
              "      <td>No</td>\n",
              "      <td>PD.INF.02.0003</td>\n",
              "      <td>2021-01-04</td>\n",
              "      <td>Negativo</td>\n",
              "    </tr>\n",
              "    <tr>\n",
              "      <th>740</th>\n",
              "      <td>Particular</td>\n",
              "      <td>Fernando</td>\n",
              "      <td>Koide</td>\n",
              "      <td>Masculino</td>\n",
              "      <td>47.0</td>\n",
              "      <td>No</td>\n",
              "      <td>PD.PD.02.0989</td>\n",
              "      <td>2021-01-04</td>\n",
              "      <td>Negativo</td>\n",
              "    </tr>\n",
              "    <tr>\n",
              "      <th>741</th>\n",
              "      <td>Particular</td>\n",
              "      <td>Diana Audrey</td>\n",
              "      <td>Servín Vargas</td>\n",
              "      <td>Femenino</td>\n",
              "      <td>20.0</td>\n",
              "      <td>No</td>\n",
              "      <td>PD.PD.02.0990</td>\n",
              "      <td>2021-01-04</td>\n",
              "      <td>Negativo</td>\n",
              "    </tr>\n",
              "  </tbody>\n",
              "</table>\n",
              "</div>"
            ],
            "text/plain": [
              "0       USUARIO        NOMBRE  ... FECHA EXTRACCION RESULTADO\n",
              "737  Particular        Israel  ...       2021-01-04  Negativo\n",
              "738  Particular       Ignacio  ...       2021-01-04  Negativo\n",
              "739     INFORUM       Gustavo  ...       2021-01-04  Negativo\n",
              "740  Particular      Fernando  ...       2021-01-04  Negativo\n",
              "741  Particular  Diana Audrey  ...       2021-01-04  Negativo\n",
              "\n",
              "[5 rows x 9 columns]"
            ]
          },
          "metadata": {
            "tags": []
          },
          "execution_count": 59
        }
      ]
    },
    {
      "cell_type": "markdown",
      "metadata": {
        "id": "EPZnTopBMV6V"
      },
      "source": [
        "## Grabar data frame purgado como df2 "
      ]
    },
    {
      "cell_type": "code",
      "metadata": {
        "id": "mX9S0GbRqsRU"
      },
      "source": [
        "meses = [dfDiciembre, dfEnero, dfFebrero, dfMarzo, dfAbril]\n",
        "\n",
        "df2 = pd.concat(meses)"
      ],
      "execution_count": 60,
      "outputs": []
    },
    {
      "cell_type": "code",
      "metadata": {
        "colab": {
          "base_uri": "https://localhost:8080/",
          "height": 198
        },
        "id": "H8Mdx6cbqsYJ",
        "outputId": "6d68ab72-2b95-415a-a716-8541a9f6a0a2"
      },
      "source": [
        "df2.head()"
      ],
      "execution_count": 61,
      "outputs": [
        {
          "output_type": "execute_result",
          "data": {
            "text/html": [
              "<div>\n",
              "<style scoped>\n",
              "    .dataframe tbody tr th:only-of-type {\n",
              "        vertical-align: middle;\n",
              "    }\n",
              "\n",
              "    .dataframe tbody tr th {\n",
              "        vertical-align: top;\n",
              "    }\n",
              "\n",
              "    .dataframe thead th {\n",
              "        text-align: right;\n",
              "    }\n",
              "</style>\n",
              "<table border=\"1\" class=\"dataframe\">\n",
              "  <thead>\n",
              "    <tr style=\"text-align: right;\">\n",
              "      <th></th>\n",
              "      <th>USUARIO</th>\n",
              "      <th>NOMBRE</th>\n",
              "      <th>APELLIDO</th>\n",
              "      <th>SEXO</th>\n",
              "      <th>EDAD</th>\n",
              "      <th>SINTOMAS</th>\n",
              "      <th>ID MUESTRA</th>\n",
              "      <th>FECHA EXTRACCION</th>\n",
              "      <th>RESULTADO</th>\n",
              "    </tr>\n",
              "  </thead>\n",
              "  <tbody>\n",
              "    <tr>\n",
              "      <th>1</th>\n",
              "      <td>Particular</td>\n",
              "      <td>Adriana</td>\n",
              "      <td>Martínez Solis</td>\n",
              "      <td>Femenino</td>\n",
              "      <td>36.420599</td>\n",
              "      <td>SIN ESPECIFICAR</td>\n",
              "      <td>PD.PD.02.0366</td>\n",
              "      <td>2020-12-02</td>\n",
              "      <td>Negativo</td>\n",
              "    </tr>\n",
              "    <tr>\n",
              "      <th>2</th>\n",
              "      <td>Particular</td>\n",
              "      <td>Liliana</td>\n",
              "      <td>Martínez Solis</td>\n",
              "      <td>Femenino</td>\n",
              "      <td>36.420599</td>\n",
              "      <td>SIN ESPECIFICAR</td>\n",
              "      <td>PD.PD.02.0367</td>\n",
              "      <td>2020-12-02</td>\n",
              "      <td>Negativo</td>\n",
              "    </tr>\n",
              "    <tr>\n",
              "      <th>3</th>\n",
              "      <td>Particular</td>\n",
              "      <td>Diana</td>\n",
              "      <td>Hernández Hernández</td>\n",
              "      <td>Femenino</td>\n",
              "      <td>36.420599</td>\n",
              "      <td>SIN ESPECIFICAR</td>\n",
              "      <td>PD.PD.02.0368</td>\n",
              "      <td>2020-12-02</td>\n",
              "      <td>Negativo</td>\n",
              "    </tr>\n",
              "    <tr>\n",
              "      <th>4</th>\n",
              "      <td>Particular</td>\n",
              "      <td>Gabriel</td>\n",
              "      <td>Márquez Michel</td>\n",
              "      <td>Masculino</td>\n",
              "      <td>36.420599</td>\n",
              "      <td>SIN ESPECIFICAR</td>\n",
              "      <td>PD.PD.02.0369</td>\n",
              "      <td>2020-12-02</td>\n",
              "      <td>Negativo</td>\n",
              "    </tr>\n",
              "    <tr>\n",
              "      <th>5</th>\n",
              "      <td>Particular</td>\n",
              "      <td>María Esther</td>\n",
              "      <td>Gutiérrez Panales</td>\n",
              "      <td>Femenino</td>\n",
              "      <td>36.420599</td>\n",
              "      <td>SIN ESPECIFICAR</td>\n",
              "      <td>PD.PD.02.0370</td>\n",
              "      <td>2020-12-02</td>\n",
              "      <td>Negativo</td>\n",
              "    </tr>\n",
              "  </tbody>\n",
              "</table>\n",
              "</div>"
            ],
            "text/plain": [
              "0     USUARIO        NOMBRE  ... FECHA EXTRACCION RESULTADO\n",
              "1  Particular       Adriana  ...       2020-12-02  Negativo\n",
              "2  Particular       Liliana  ...       2020-12-02  Negativo\n",
              "3  Particular         Diana  ...       2020-12-02  Negativo\n",
              "4  Particular       Gabriel  ...       2020-12-02  Negativo\n",
              "5  Particular  María Esther  ...       2020-12-02  Negativo\n",
              "\n",
              "[5 rows x 9 columns]"
            ]
          },
          "metadata": {
            "tags": []
          },
          "execution_count": 61
        }
      ]
    },
    {
      "cell_type": "code",
      "metadata": {
        "colab": {
          "base_uri": "https://localhost:8080/"
        },
        "id": "iYC42dRdqsfh",
        "outputId": "5c44dd65-c86d-490a-9375-aa02050da9cb"
      },
      "source": [
        "df2.shape"
      ],
      "execution_count": 62,
      "outputs": [
        {
          "output_type": "execute_result",
          "data": {
            "text/plain": [
              "(3050, 9)"
            ]
          },
          "metadata": {
            "tags": []
          },
          "execution_count": 62
        }
      ]
    },
    {
      "cell_type": "code",
      "metadata": {
        "colab": {
          "base_uri": "https://localhost:8080/"
        },
        "id": "AdeHs4uRpxQj",
        "outputId": "671c2bbe-2eff-48d2-95eb-30bc757aef02"
      },
      "source": [
        "df2.dtypes"
      ],
      "execution_count": 63,
      "outputs": [
        {
          "output_type": "execute_result",
          "data": {
            "text/plain": [
              "0\n",
              "USUARIO              object\n",
              "NOMBRE               object\n",
              "APELLIDO             object\n",
              "SEXO                 object\n",
              "EDAD                float64\n",
              "SINTOMAS             object\n",
              "ID MUESTRA           object\n",
              "FECHA EXTRACCION     object\n",
              "RESULTADO            object\n",
              "dtype: object"
            ]
          },
          "metadata": {
            "tags": []
          },
          "execution_count": 63
        }
      ]
    },
    {
      "cell_type": "code",
      "metadata": {
        "id": "CUYRYPscqVuD",
        "colab": {
          "base_uri": "https://localhost:8080/"
        },
        "outputId": "3a25ff89-7ed2-4249-a830-1868621515ac"
      },
      "source": [
        "#Verificar datos integrados\n",
        "\n",
        "pd.unique(df2['USUARIO'])"
      ],
      "execution_count": 64,
      "outputs": [
        {
          "output_type": "execute_result",
          "data": {
            "text/plain": [
              "array(['Particular', 'Poder Judicial', 'Minera La Cantera', 'F&P MFG',\n",
              "       'Personal', 'LACLIB', 'Marabis', 'Sanwa', 'Emulcentro', 'OshKosh',\n",
              "       'NaturalHealth', 'INFORUM', 'CONAGRA', 'Webasto', 'Kromberg',\n",
              "       'Gerso', 'Würth', 'DISSA', 'Prodensa', 'FI Avocado', 'Grupo PTH',\n",
              "       'Iraform', 'Fumigaciones RC', 'La Próxima Estación', 'ISS México',\n",
              "       'Japami', 'SEGLO', 'Metso'], dtype=object)"
            ]
          },
          "metadata": {
            "tags": []
          },
          "execution_count": 64
        }
      ]
    },
    {
      "cell_type": "code",
      "metadata": {
        "id": "cdYBNpGgw2f1"
      },
      "source": [
        "# writing into the file\n",
        "df2.to_csv(\"/content/drive/MyDrive/Precision Detect/Resultados/TotalLimpios.csv\", index=False)"
      ],
      "execution_count": 69,
      "outputs": []
    },
    {
      "cell_type": "code",
      "metadata": {
        "id": "HjlvueARq6qX"
      },
      "source": [
        "# Datos agrupados por sexo\n",
        "#grouped_data = surveys_df.groupby('sex')\n",
        "\n",
        "#grouped_data.describe()\n",
        "#grouped_data.mean()"
      ],
      "execution_count": 65,
      "outputs": []
    },
    {
      "cell_type": "code",
      "metadata": {
        "id": "dHrJ-h_8p-7y"
      },
      "source": [
        "# GRAFICAS\n",
        "\n",
        "#Aseguremonos de que las imágenes aparezcan insertadas en iPython Notebook\n",
        "\n",
        "#%matplotlib inline\n",
        "\n",
        "# Creaemos una gráfica de barras\n",
        "\n",
        "#species_counts.plot(kind='bar');"
      ],
      "execution_count": 66,
      "outputs": []
    },
    {
      "cell_type": "code",
      "metadata": {
        "id": "QwXoTD1hq6wM"
      },
      "source": [
        "# Graficar datos apilados de modo que las columnas 'one' y 'two' estén apiladas\n",
        "#my_df = pd.DataFrame(d)\n",
        "#my_df.plot(kind='bar',stacked=True,title=\"The title of my graph\")\n",
        "\n",
        "\n",
        "#.unstack()"
      ],
      "execution_count": 67,
      "outputs": []
    },
    {
      "cell_type": "code",
      "metadata": {
        "id": "brPPun94q64G"
      },
      "source": [
        ""
      ],
      "execution_count": 67,
      "outputs": []
    },
    {
      "cell_type": "code",
      "metadata": {
        "id": "jk7PNypqMgUX"
      },
      "source": [
        ""
      ],
      "execution_count": 68,
      "outputs": []
    }
  ]
}